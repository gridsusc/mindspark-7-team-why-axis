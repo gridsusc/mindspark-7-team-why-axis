{
 "cells": [
  {
   "cell_type": "markdown",
   "id": "c14c0822",
   "metadata": {
    "toc": true
   },
   "source": [
    "<h1>Table of Contents<span class=\"tocSkip\"></span></h1>\n",
    "<div class=\"toc\"><ul class=\"toc-item\"><li><span><a href=\"#Import-libraries\" data-toc-modified-id=\"Import-libraries-1\"><span class=\"toc-item-num\">1&nbsp;&nbsp;</span>Import libraries</a></span></li><li><span><a href=\"#Read-data\" data-toc-modified-id=\"Read-data-2\"><span class=\"toc-item-num\">2&nbsp;&nbsp;</span>Read data</a></span></li><li><span><a href=\"#Data-Aggregation\" data-toc-modified-id=\"Data-Aggregation-3\"><span class=\"toc-item-num\">3&nbsp;&nbsp;</span>Data Aggregation</a></span></li><li><span><a href=\"#Data-Cleaning:-Replace-erroneous-values\" data-toc-modified-id=\"Data-Cleaning:-Replace-erroneous-values-4\"><span class=\"toc-item-num\">4&nbsp;&nbsp;</span>Data Cleaning: Replace erroneous values</a></span><ul class=\"toc-item\"><li><span><a href=\"#age\" data-toc-modified-id=\"age-4.1\"><span class=\"toc-item-num\">4.1&nbsp;&nbsp;</span>age</a></span></li><li><span><a href=\"#Gender\" data-toc-modified-id=\"Gender-4.2\"><span class=\"toc-item-num\">4.2&nbsp;&nbsp;</span>Gender</a></span></li><li><span><a href=\"#country\" data-toc-modified-id=\"country-4.3\"><span class=\"toc-item-num\">4.3&nbsp;&nbsp;</span>country</a></span></li><li><span><a href=\"#col-4\" data-toc-modified-id=\"col-4-4.4\"><span class=\"toc-item-num\">4.4&nbsp;&nbsp;</span>col 4</a></span></li><li><span><a href=\"#col-5\" data-toc-modified-id=\"col-5-4.5\"><span class=\"toc-item-num\">4.5&nbsp;&nbsp;</span>col 5</a></span></li><li><span><a href=\"#col-6\" data-toc-modified-id=\"col-6-4.6\"><span class=\"toc-item-num\">4.6&nbsp;&nbsp;</span>col 6</a></span></li><li><span><a href=\"#col-7\" data-toc-modified-id=\"col-7-4.7\"><span class=\"toc-item-num\">4.7&nbsp;&nbsp;</span>col 7</a></span></li><li><span><a href=\"#col-8\" data-toc-modified-id=\"col-8-4.8\"><span class=\"toc-item-num\">4.8&nbsp;&nbsp;</span>col 8</a></span></li><li><span><a href=\"#col-9\" data-toc-modified-id=\"col-9-4.9\"><span class=\"toc-item-num\">4.9&nbsp;&nbsp;</span>col 9</a></span></li><li><span><a href=\"#col-10\" data-toc-modified-id=\"col-10-4.10\"><span class=\"toc-item-num\">4.10&nbsp;&nbsp;</span>col 10</a></span></li><li><span><a href=\"#col-11\" data-toc-modified-id=\"col-11-4.11\"><span class=\"toc-item-num\">4.11&nbsp;&nbsp;</span>col 11</a></span></li><li><span><a href=\"#col-12\" data-toc-modified-id=\"col-12-4.12\"><span class=\"toc-item-num\">4.12&nbsp;&nbsp;</span>col 12</a></span></li><li><span><a href=\"#col-13\" data-toc-modified-id=\"col-13-4.13\"><span class=\"toc-item-num\">4.13&nbsp;&nbsp;</span>col 13</a></span></li><li><span><a href=\"#col-14\" data-toc-modified-id=\"col-14-4.14\"><span class=\"toc-item-num\">4.14&nbsp;&nbsp;</span>col 14</a></span></li><li><span><a href=\"#col-15\" data-toc-modified-id=\"col-15-4.15\"><span class=\"toc-item-num\">4.15&nbsp;&nbsp;</span>col 15</a></span></li><li><span><a href=\"#col-16\" data-toc-modified-id=\"col-16-4.16\"><span class=\"toc-item-num\">4.16&nbsp;&nbsp;</span>col 16</a></span></li><li><span><a href=\"#col-17\" data-toc-modified-id=\"col-17-4.17\"><span class=\"toc-item-num\">4.17&nbsp;&nbsp;</span>col 17</a></span></li><li><span><a href=\"#col-18\" data-toc-modified-id=\"col-18-4.18\"><span class=\"toc-item-num\">4.18&nbsp;&nbsp;</span>col 18</a></span></li><li><span><a href=\"#col-19\" data-toc-modified-id=\"col-19-4.19\"><span class=\"toc-item-num\">4.19&nbsp;&nbsp;</span>col 19</a></span></li><li><span><a href=\"#col-20\" data-toc-modified-id=\"col-20-4.20\"><span class=\"toc-item-num\">4.20&nbsp;&nbsp;</span>col 20</a></span></li><li><span><a href=\"#col-21\" data-toc-modified-id=\"col-21-4.21\"><span class=\"toc-item-num\">4.21&nbsp;&nbsp;</span>col 21</a></span></li><li><span><a href=\"#col-22\" data-toc-modified-id=\"col-22-4.22\"><span class=\"toc-item-num\">4.22&nbsp;&nbsp;</span>col 22</a></span></li></ul></li><li><span><a href=\"#Data-Cleaning:-rename-columns\" data-toc-modified-id=\"Data-Cleaning:-rename-columns-5\"><span class=\"toc-item-num\">5&nbsp;&nbsp;</span>Data Cleaning: rename columns</a></span></li><li><span><a href=\"#Data-Cleaning:-Missing-values\" data-toc-modified-id=\"Data-Cleaning:-Missing-values-6\"><span class=\"toc-item-num\">6&nbsp;&nbsp;</span>Data Cleaning: Missing values</a></span></li><li><span><a href=\"#Data-Preprocessing\" data-toc-modified-id=\"Data-Preprocessing-7\"><span class=\"toc-item-num\">7&nbsp;&nbsp;</span>Data Preprocessing</a></span><ul class=\"toc-item\"><li><span><a href=\"#define-target-data\" data-toc-modified-id=\"define-target-data-7.1\"><span class=\"toc-item-num\">7.1&nbsp;&nbsp;</span>define target data</a></span></li><li><span><a href=\"#split\" data-toc-modified-id=\"split-7.2\"><span class=\"toc-item-num\">7.2&nbsp;&nbsp;</span>split</a></span></li></ul></li><li><span><a href=\"#Cross-Validation\" data-toc-modified-id=\"Cross-Validation-8\"><span class=\"toc-item-num\">8&nbsp;&nbsp;</span>Cross Validation</a></span></li><li><span><a href=\"#Hyper-Param-Tuning\" data-toc-modified-id=\"Hyper-Param-Tuning-9\"><span class=\"toc-item-num\">9&nbsp;&nbsp;</span>Hyper Param Tuning</a></span><ul class=\"toc-item\"><li><span><a href=\"#Logistic-Regression-(Initially-used)\" data-toc-modified-id=\"Logistic-Regression-(Initially-used)-9.1\"><span class=\"toc-item-num\">9.1&nbsp;&nbsp;</span>Logistic Regression (Initially used)</a></span></li><li><span><a href=\"#Random-Forest-Classifier\" data-toc-modified-id=\"Random-Forest-Classifier-9.2\"><span class=\"toc-item-num\">9.2&nbsp;&nbsp;</span>Random Forest Classifier</a></span></li></ul></li><li><span><a href=\"#Feature-Selection-using-Tuning-Result\" data-toc-modified-id=\"Feature-Selection-using-Tuning-Result-10\"><span class=\"toc-item-num\">10&nbsp;&nbsp;</span>Feature Selection using Tuning Result</a></span><ul class=\"toc-item\"><li><span><a href=\"#Logistic-Regression-(Initially-used)\" data-toc-modified-id=\"Logistic-Regression-(Initially-used)-10.1\"><span class=\"toc-item-num\">10.1&nbsp;&nbsp;</span>Logistic Regression (Initially used)</a></span></li><li><span><a href=\"#Random-forest\" data-toc-modified-id=\"Random-forest-10.2\"><span class=\"toc-item-num\">10.2&nbsp;&nbsp;</span>Random forest</a></span></li></ul></li><li><span><a href=\"#Run-another-iteration-using-feature-selection\" data-toc-modified-id=\"Run-another-iteration-using-feature-selection-11\"><span class=\"toc-item-num\">11&nbsp;&nbsp;</span>Run another iteration using feature selection</a></span><ul class=\"toc-item\"><li><span><a href=\"#logistic-regression-(Initially-used)\" data-toc-modified-id=\"logistic-regression-(Initially-used)-11.1\"><span class=\"toc-item-num\">11.1&nbsp;&nbsp;</span>logistic regression (Initially used)</a></span></li><li><span><a href=\"#Random-Forest\" data-toc-modified-id=\"Random-Forest-11.2\"><span class=\"toc-item-num\">11.2&nbsp;&nbsp;</span>Random Forest</a></span></li></ul></li><li><span><a href=\"#Deployment\" data-toc-modified-id=\"Deployment-12\"><span class=\"toc-item-num\">12&nbsp;&nbsp;</span>Deployment</a></span><ul class=\"toc-item\"><li><span><a href=\"#Random-Forest-model-(Final-model-tuning:-threshold)\" data-toc-modified-id=\"Random-Forest-model-(Final-model-tuning:-threshold)-12.1\"><span class=\"toc-item-num\">12.1&nbsp;&nbsp;</span>Random Forest model (Final model tuning: threshold)</a></span></li></ul></li></ul></div>"
   ]
  },
  {
   "cell_type": "markdown",
   "id": "fd2863c4",
   "metadata": {},
   "source": [
    "# Import libraries"
   ]
  },
  {
   "cell_type": "code",
   "execution_count": 1,
   "id": "47309ad1",
   "metadata": {},
   "outputs": [],
   "source": [
    "import pandas as pd #for dataframe\n",
    "import numpy as np #arrays\n",
    "import matplotlib.pyplot as plt #visualization\n",
    "import seaborn as sns #seaborn\n",
    "import re #regex\n",
    "\n",
    "# PreProcessing\n",
    "from sklearn.compose import ColumnTransformer #transformer\n",
    "from sklearn.preprocessing import OneHotEncoder #encoder\n",
    "from sklearn.pipeline import Pipeline #ML Pipeline\n",
    "from sklearn.experimental import enable_iterative_imputer\n",
    "from sklearn.impute import SimpleImputer, IterativeImputer # Imputer\n",
    "# from sklearn.preprocessing import MinMaxScaler\n",
    "\n",
    "\n",
    "# Splitting Data\n",
    "from sklearn.model_selection import train_test_split, StratifiedKFold, cross_val_score # CV and split\n",
    "\n",
    "# Modeling\n",
    "from sklearn.linear_model import LogisticRegression #logistic\n",
    "from sklearn.tree import DecisionTreeClassifier #decision tree\n",
    "from sklearn.neighbors import KNeighborsClassifier #knn\n",
    "from sklearn.metrics import accuracy_score, recall_score, plot_roc_curve, f1_score, roc_auc_score, precision_score, accuracy_score, roc_curve #metrics\n",
    "from sklearn.ensemble import RandomForestClassifier, AdaBoostClassifier, GradientBoostingClassifier # ensemble methods\n",
    "from xgboost.sklearn import XGBClassifier #xgboost\n",
    "from sklearn.metrics import confusion_matrix # metrics\n",
    "\n",
    "# Tuning\n",
    "from sklearn.model_selection import GridSearchCV #grid search\n",
    "\n",
    "# Deployment\n",
    "import pickle\n",
    "pd.set_option('float_format', '{:f}'.format)\n",
    "pd.options.mode.chained_assignment = None\n",
    "plt.rcParams['figure.figsize'] = (20, 15)\n",
    "\n",
    "from warnings import simplefilter\n",
    "from sklearn.exceptions import ConvergenceWarning\n",
    "simplefilter(\"ignore\", category=ConvergenceWarning)\n",
    "\n",
    "import warnings\n",
    "warnings.filterwarnings(\"ignore\")"
   ]
  },
  {
   "cell_type": "markdown",
   "id": "3a617142",
   "metadata": {},
   "source": [
    "# Read data"
   ]
  },
  {
   "cell_type": "code",
   "execution_count": 2,
   "id": "726a5e8e",
   "metadata": {},
   "outputs": [],
   "source": [
    "# read yearwise\n",
    "years = [\"2014\", \"2016\", \"2017\", \"2018\", \"2019\", \"2020\", \"2021\"]\n",
    "\n",
    "for i in years:\n",
    "    globals()[\"df_\"+i] = pd.read_csv(i + \".csv\")\n",
    "    \n"
   ]
  },
  {
   "cell_type": "code",
   "execution_count": 3,
   "id": "7c8c26e0",
   "metadata": {
    "scrolled": true
   },
   "outputs": [
    {
     "name": "stdout",
     "output_type": "stream",
     "text": [
      "**** 2016 ****\n"
     ]
    },
    {
     "data": {
      "text/plain": [
       "{'any additional notes or comments', 'timestamp'}"
      ]
     },
     "metadata": {},
     "output_type": "display_data"
    },
    {
     "name": "stdout",
     "output_type": "stream",
     "text": [
      "**** 2017 ****\n"
     ]
    },
    {
     "data": {
      "text/plain": [
       "{'any additional notes or comments',\n",
       " 'do you feel that your employer takes mental health as seriously as physical health?',\n",
       " 'do you think that discussing a mental health issue with your employer would have negative consequences?',\n",
       " 'do you think that discussing a physical health issue with your employer would have negative consequences?',\n",
       " 'do you work remotely (outside of an office) at least 50% of the time?',\n",
       " 'timestamp'}"
      ]
     },
     "metadata": {},
     "output_type": "display_data"
    },
    {
     "name": "stdout",
     "output_type": "stream",
     "text": [
      "**** 2018 ****\n"
     ]
    },
    {
     "data": {
      "text/plain": [
       "{'any additional notes or comments',\n",
       " 'do you feel that your employer takes mental health as seriously as physical health?',\n",
       " 'do you think that discussing a mental health issue with your employer would have negative consequences?',\n",
       " 'do you think that discussing a physical health issue with your employer would have negative consequences?',\n",
       " 'do you work remotely (outside of an office) at least 50% of the time?',\n",
       " 'timestamp'}"
      ]
     },
     "metadata": {},
     "output_type": "display_data"
    },
    {
     "name": "stdout",
     "output_type": "stream",
     "text": [
      "**** 2019 ****\n"
     ]
    },
    {
     "data": {
      "text/plain": [
       "{'any additional notes or comments',\n",
       " 'do you feel that your employer takes mental health as seriously as physical health?',\n",
       " 'do you think that discussing a mental health issue with your employer would have negative consequences?',\n",
       " 'do you think that discussing a physical health issue with your employer would have negative consequences?',\n",
       " 'do you work remotely (outside of an office) at least 50% of the time?',\n",
       " 'timestamp'}"
      ]
     },
     "metadata": {},
     "output_type": "display_data"
    },
    {
     "name": "stdout",
     "output_type": "stream",
     "text": [
      "**** 2020 ****\n"
     ]
    },
    {
     "data": {
      "text/plain": [
       "{'any additional notes or comments',\n",
       " 'do you feel that your employer takes mental health as seriously as physical health?',\n",
       " 'do you think that discussing a physical health issue with your employer would have negative consequences?',\n",
       " 'do you work remotely (outside of an office) at least 50% of the time?',\n",
       " 'timestamp'}"
      ]
     },
     "metadata": {},
     "output_type": "display_data"
    },
    {
     "name": "stdout",
     "output_type": "stream",
     "text": [
      "**** 2021 ****\n"
     ]
    },
    {
     "data": {
      "text/plain": [
       "{'any additional notes or comments',\n",
       " 'do you feel that your employer takes mental health as seriously as physical health?',\n",
       " 'do you think that discussing a mental health issue with your employer would have negative consequences?',\n",
       " 'do you think that discussing a physical health issue with your employer would have negative consequences?',\n",
       " 'do you work remotely (outside of an office) at least 50% of the time?',\n",
       " 'timestamp'}"
      ]
     },
     "metadata": {},
     "output_type": "display_data"
    }
   ],
   "source": [
    "# list columns\n",
    "\n",
    "for i in range(1, len(years)):\n",
    "    print(\"****\", years[i] , \"****\")\n",
    "    display(set(list(df_2014.columns.str.lower().str.strip())) - set(list(globals()[\"df_\"+years[i]].columns.str.lower().str.strip())))\n",
    "\n"
   ]
  },
  {
   "cell_type": "code",
   "execution_count": 4,
   "id": "15d04ab7",
   "metadata": {},
   "outputs": [],
   "source": [
    "# for i in range(1, len(years)):\n",
    "#     print(\"****\", years[i] , \"****\")\n",
    "#     display(set(list(globals()[\"df_\"+years[i]].columns.str.lower().str.strip()))- set(list(df_2014.columns.str.lower().str.strip())) )"
   ]
  },
  {
   "cell_type": "markdown",
   "id": "581f424b",
   "metadata": {},
   "source": [
    "# Data Aggregation"
   ]
  },
  {
   "cell_type": "code",
   "execution_count": 5,
   "id": "54b6d8e7",
   "metadata": {},
   "outputs": [],
   "source": [
    "# clean column names\n",
    "for i in years[:]:\n",
    "    globals()[\"df_\"+i].columns =  globals()[\"df_\"+i].columns.str.lower().str.strip()\n",
    "    "
   ]
  },
  {
   "cell_type": "code",
   "execution_count": 6,
   "id": "ae2a1db5",
   "metadata": {},
   "outputs": [],
   "source": [
    "# drop uncommon columns\n",
    "df_2014.drop(['any additional notes or comments',\n",
    " 'do you feel that your employer takes mental health as seriously as physical health?',\n",
    " 'do you think that discussing a mental health issue with your employer would have negative consequences?',\n",
    " 'do you think that discussing a physical health issue with your employer would have negative consequences?',\n",
    " 'do you work remotely (outside of an office) at least 50% of the time?',\n",
    " 'timestamp'], axis = 1, inplace = True)"
   ]
  },
  {
   "cell_type": "code",
   "execution_count": 7,
   "id": "56d491f8",
   "metadata": {},
   "outputs": [],
   "source": [
    "#  match columns with all dataframe\n",
    "\n",
    "for i in years[1:]:\n",
    "    globals()[\"df_\"+i] =  globals()[\"df_\"+i].loc[:, list(df_2014.columns)]\n"
   ]
  },
  {
   "cell_type": "code",
   "execution_count": 8,
   "id": "046c60c2",
   "metadata": {},
   "outputs": [],
   "source": [
    "# add years variable\n",
    "\n",
    "for i in years:\n",
    "    globals()[\"df_\"+i][\"year\"] = i"
   ]
  },
  {
   "cell_type": "code",
   "execution_count": 9,
   "id": "29b8f508",
   "metadata": {},
   "outputs": [
    {
     "data": {
      "text/html": [
       "<div>\n",
       "<style scoped>\n",
       "    .dataframe tbody tr th:only-of-type {\n",
       "        vertical-align: middle;\n",
       "    }\n",
       "\n",
       "    .dataframe tbody tr th {\n",
       "        vertical-align: top;\n",
       "    }\n",
       "\n",
       "    .dataframe thead th {\n",
       "        text-align: right;\n",
       "    }\n",
       "</style>\n",
       "<table border=\"1\" class=\"dataframe\">\n",
       "  <thead>\n",
       "    <tr style=\"text-align: right;\">\n",
       "      <th></th>\n",
       "      <th>age</th>\n",
       "      <th>gender</th>\n",
       "      <th>country</th>\n",
       "      <th>if you live in the united states, which state or territory do you live in?</th>\n",
       "      <th>are you self-employed?</th>\n",
       "      <th>do you have a family history of mental illness?</th>\n",
       "      <th>have you sought treatment for a mental health condition?</th>\n",
       "      <th>if you have a mental health condition, do you feel that it interferes with your work?</th>\n",
       "      <th>how many employees does your company or organization have?</th>\n",
       "      <th>is your employer primarily a tech company/organization?</th>\n",
       "      <th>...</th>\n",
       "      <th>has your employer ever discussed mental health as part of an employee wellness program?</th>\n",
       "      <th>does your employer provide resources to learn more about mental health issues and how to seek help?</th>\n",
       "      <th>is your anonymity protected if you choose to take advantage of mental health or substance abuse treatment resources?</th>\n",
       "      <th>how easy is it for you to take medical leave for a mental health condition?</th>\n",
       "      <th>would you be willing to discuss a mental health issue with your coworkers?</th>\n",
       "      <th>would you be willing to discuss a mental health issue with your direct supervisor(s)?</th>\n",
       "      <th>would you bring up a mental health issue with a potential employer in an interview?</th>\n",
       "      <th>would you bring up a physical health issue with a potential employer in an interview?</th>\n",
       "      <th>have you heard of or observed negative consequences for coworkers with mental health conditions in your workplace?</th>\n",
       "      <th>year</th>\n",
       "    </tr>\n",
       "  </thead>\n",
       "  <tbody>\n",
       "    <tr>\n",
       "      <th>0</th>\n",
       "      <td>37.000000</td>\n",
       "      <td>Female</td>\n",
       "      <td>United States</td>\n",
       "      <td>IL</td>\n",
       "      <td>NaN</td>\n",
       "      <td>No</td>\n",
       "      <td>Yes</td>\n",
       "      <td>Often</td>\n",
       "      <td>6-25</td>\n",
       "      <td>Yes</td>\n",
       "      <td>...</td>\n",
       "      <td>No</td>\n",
       "      <td>Yes</td>\n",
       "      <td>Yes</td>\n",
       "      <td>Somewhat easy</td>\n",
       "      <td>Some of them</td>\n",
       "      <td>Yes</td>\n",
       "      <td>No</td>\n",
       "      <td>Maybe</td>\n",
       "      <td>No</td>\n",
       "      <td>2014</td>\n",
       "    </tr>\n",
       "    <tr>\n",
       "      <th>1</th>\n",
       "      <td>44.000000</td>\n",
       "      <td>M</td>\n",
       "      <td>United States</td>\n",
       "      <td>IN</td>\n",
       "      <td>NaN</td>\n",
       "      <td>No</td>\n",
       "      <td>No</td>\n",
       "      <td>Rarely</td>\n",
       "      <td>More than 1000</td>\n",
       "      <td>No</td>\n",
       "      <td>...</td>\n",
       "      <td>Don't know</td>\n",
       "      <td>Don't know</td>\n",
       "      <td>Don't know</td>\n",
       "      <td>Don't know</td>\n",
       "      <td>No</td>\n",
       "      <td>No</td>\n",
       "      <td>No</td>\n",
       "      <td>No</td>\n",
       "      <td>No</td>\n",
       "      <td>2014</td>\n",
       "    </tr>\n",
       "    <tr>\n",
       "      <th>2</th>\n",
       "      <td>32.000000</td>\n",
       "      <td>Male</td>\n",
       "      <td>Canada</td>\n",
       "      <td>NaN</td>\n",
       "      <td>NaN</td>\n",
       "      <td>No</td>\n",
       "      <td>No</td>\n",
       "      <td>Rarely</td>\n",
       "      <td>6-25</td>\n",
       "      <td>Yes</td>\n",
       "      <td>...</td>\n",
       "      <td>No</td>\n",
       "      <td>No</td>\n",
       "      <td>Don't know</td>\n",
       "      <td>Somewhat difficult</td>\n",
       "      <td>Yes</td>\n",
       "      <td>Yes</td>\n",
       "      <td>Yes</td>\n",
       "      <td>Yes</td>\n",
       "      <td>No</td>\n",
       "      <td>2014</td>\n",
       "    </tr>\n",
       "    <tr>\n",
       "      <th>3</th>\n",
       "      <td>31.000000</td>\n",
       "      <td>Male</td>\n",
       "      <td>United Kingdom</td>\n",
       "      <td>NaN</td>\n",
       "      <td>NaN</td>\n",
       "      <td>Yes</td>\n",
       "      <td>Yes</td>\n",
       "      <td>Often</td>\n",
       "      <td>26-100</td>\n",
       "      <td>Yes</td>\n",
       "      <td>...</td>\n",
       "      <td>No</td>\n",
       "      <td>No</td>\n",
       "      <td>No</td>\n",
       "      <td>Somewhat difficult</td>\n",
       "      <td>Some of them</td>\n",
       "      <td>No</td>\n",
       "      <td>Maybe</td>\n",
       "      <td>Maybe</td>\n",
       "      <td>Yes</td>\n",
       "      <td>2014</td>\n",
       "    </tr>\n",
       "    <tr>\n",
       "      <th>4</th>\n",
       "      <td>31.000000</td>\n",
       "      <td>Male</td>\n",
       "      <td>United States</td>\n",
       "      <td>TX</td>\n",
       "      <td>NaN</td>\n",
       "      <td>No</td>\n",
       "      <td>No</td>\n",
       "      <td>Never</td>\n",
       "      <td>100-500</td>\n",
       "      <td>Yes</td>\n",
       "      <td>...</td>\n",
       "      <td>Don't know</td>\n",
       "      <td>Don't know</td>\n",
       "      <td>Don't know</td>\n",
       "      <td>Don't know</td>\n",
       "      <td>Some of them</td>\n",
       "      <td>Yes</td>\n",
       "      <td>Yes</td>\n",
       "      <td>Yes</td>\n",
       "      <td>No</td>\n",
       "      <td>2014</td>\n",
       "    </tr>\n",
       "    <tr>\n",
       "      <th>...</th>\n",
       "      <td>...</td>\n",
       "      <td>...</td>\n",
       "      <td>...</td>\n",
       "      <td>...</td>\n",
       "      <td>...</td>\n",
       "      <td>...</td>\n",
       "      <td>...</td>\n",
       "      <td>...</td>\n",
       "      <td>...</td>\n",
       "      <td>...</td>\n",
       "      <td>...</td>\n",
       "      <td>...</td>\n",
       "      <td>...</td>\n",
       "      <td>...</td>\n",
       "      <td>...</td>\n",
       "      <td>...</td>\n",
       "      <td>...</td>\n",
       "      <td>...</td>\n",
       "      <td>...</td>\n",
       "      <td>...</td>\n",
       "      <td>...</td>\n",
       "    </tr>\n",
       "    <tr>\n",
       "      <th>126</th>\n",
       "      <td>33.000000</td>\n",
       "      <td>Male</td>\n",
       "      <td>Germany</td>\n",
       "      <td>NaN</td>\n",
       "      <td>0</td>\n",
       "      <td>I don't know</td>\n",
       "      <td>1</td>\n",
       "      <td>Sometimes</td>\n",
       "      <td>26-100</td>\n",
       "      <td>1.000000</td>\n",
       "      <td>...</td>\n",
       "      <td>None did</td>\n",
       "      <td>No</td>\n",
       "      <td>I don't know</td>\n",
       "      <td>Somewhat easy</td>\n",
       "      <td>No</td>\n",
       "      <td>Some of my previous supervisors</td>\n",
       "      <td>Maybe</td>\n",
       "      <td>No</td>\n",
       "      <td>NaN</td>\n",
       "      <td>2021</td>\n",
       "    </tr>\n",
       "    <tr>\n",
       "      <th>127</th>\n",
       "      <td>49.000000</td>\n",
       "      <td>Male</td>\n",
       "      <td>Portugal</td>\n",
       "      <td>NaN</td>\n",
       "      <td>0</td>\n",
       "      <td>Yes</td>\n",
       "      <td>0</td>\n",
       "      <td>Not applicable to me</td>\n",
       "      <td>100-500</td>\n",
       "      <td>1.000000</td>\n",
       "      <td>...</td>\n",
       "      <td>None did</td>\n",
       "      <td>No</td>\n",
       "      <td>I don't know</td>\n",
       "      <td>Somewhat easy</td>\n",
       "      <td>Maybe</td>\n",
       "      <td>No, none of my previous supervisors</td>\n",
       "      <td>Maybe</td>\n",
       "      <td>No</td>\n",
       "      <td>No</td>\n",
       "      <td>2021</td>\n",
       "    </tr>\n",
       "    <tr>\n",
       "      <th>128</th>\n",
       "      <td>28.000000</td>\n",
       "      <td>NaN</td>\n",
       "      <td>Pakistan</td>\n",
       "      <td>NaN</td>\n",
       "      <td>1</td>\n",
       "      <td>No</td>\n",
       "      <td>0</td>\n",
       "      <td>Not applicable to me</td>\n",
       "      <td>NaN</td>\n",
       "      <td>NaN</td>\n",
       "      <td>...</td>\n",
       "      <td>NaN</td>\n",
       "      <td>NaN</td>\n",
       "      <td>NaN</td>\n",
       "      <td>NaN</td>\n",
       "      <td>NaN</td>\n",
       "      <td>NaN</td>\n",
       "      <td>No</td>\n",
       "      <td>No</td>\n",
       "      <td>NaN</td>\n",
       "      <td>2021</td>\n",
       "    </tr>\n",
       "    <tr>\n",
       "      <th>129</th>\n",
       "      <td>26.000000</td>\n",
       "      <td>Male</td>\n",
       "      <td>India</td>\n",
       "      <td>NaN</td>\n",
       "      <td>1</td>\n",
       "      <td>No</td>\n",
       "      <td>0</td>\n",
       "      <td>Sometimes</td>\n",
       "      <td>NaN</td>\n",
       "      <td>NaN</td>\n",
       "      <td>...</td>\n",
       "      <td>NaN</td>\n",
       "      <td>NaN</td>\n",
       "      <td>NaN</td>\n",
       "      <td>NaN</td>\n",
       "      <td>NaN</td>\n",
       "      <td>NaN</td>\n",
       "      <td>No</td>\n",
       "      <td>No</td>\n",
       "      <td>Yes</td>\n",
       "      <td>2021</td>\n",
       "    </tr>\n",
       "    <tr>\n",
       "      <th>130</th>\n",
       "      <td>38.000000</td>\n",
       "      <td>male</td>\n",
       "      <td>Slovenia</td>\n",
       "      <td>NaN</td>\n",
       "      <td>0</td>\n",
       "      <td>No</td>\n",
       "      <td>1</td>\n",
       "      <td>Sometimes</td>\n",
       "      <td>26-100</td>\n",
       "      <td>1.000000</td>\n",
       "      <td>...</td>\n",
       "      <td>None did</td>\n",
       "      <td>No</td>\n",
       "      <td>No</td>\n",
       "      <td>Somewhat difficult</td>\n",
       "      <td>Maybe</td>\n",
       "      <td>No, none of my previous supervisors</td>\n",
       "      <td>Yes</td>\n",
       "      <td>No</td>\n",
       "      <td>Maybe</td>\n",
       "      <td>2021</td>\n",
       "    </tr>\n",
       "  </tbody>\n",
       "</table>\n",
       "<p>4529 rows × 22 columns</p>\n",
       "</div>"
      ],
      "text/plain": [
       "          age  gender         country  \\\n",
       "0   37.000000  Female   United States   \n",
       "1   44.000000       M   United States   \n",
       "2   32.000000    Male          Canada   \n",
       "3   31.000000    Male  United Kingdom   \n",
       "4   31.000000    Male   United States   \n",
       "..        ...     ...             ...   \n",
       "126 33.000000    Male         Germany   \n",
       "127 49.000000    Male        Portugal   \n",
       "128 28.000000     NaN        Pakistan   \n",
       "129 26.000000    Male           India   \n",
       "130 38.000000    male        Slovenia   \n",
       "\n",
       "    if you live in the united states, which state or territory do you live in?  \\\n",
       "0                                                   IL                           \n",
       "1                                                   IN                           \n",
       "2                                                  NaN                           \n",
       "3                                                  NaN                           \n",
       "4                                                   TX                           \n",
       "..                                                 ...                           \n",
       "126                                                NaN                           \n",
       "127                                                NaN                           \n",
       "128                                                NaN                           \n",
       "129                                                NaN                           \n",
       "130                                                NaN                           \n",
       "\n",
       "    are you self-employed? do you have a family history of mental illness?  \\\n",
       "0                      NaN                                              No   \n",
       "1                      NaN                                              No   \n",
       "2                      NaN                                              No   \n",
       "3                      NaN                                             Yes   \n",
       "4                      NaN                                              No   \n",
       "..                     ...                                             ...   \n",
       "126                      0                                    I don't know   \n",
       "127                      0                                             Yes   \n",
       "128                      1                                              No   \n",
       "129                      1                                              No   \n",
       "130                      0                                              No   \n",
       "\n",
       "    have you sought treatment for a mental health condition?  \\\n",
       "0                                                  Yes         \n",
       "1                                                   No         \n",
       "2                                                   No         \n",
       "3                                                  Yes         \n",
       "4                                                   No         \n",
       "..                                                 ...         \n",
       "126                                                  1         \n",
       "127                                                  0         \n",
       "128                                                  0         \n",
       "129                                                  0         \n",
       "130                                                  1         \n",
       "\n",
       "    if you have a mental health condition, do you feel that it interferes with your work?  \\\n",
       "0                                                Often                                      \n",
       "1                                               Rarely                                      \n",
       "2                                               Rarely                                      \n",
       "3                                                Often                                      \n",
       "4                                                Never                                      \n",
       "..                                                 ...                                      \n",
       "126                                          Sometimes                                      \n",
       "127                               Not applicable to me                                      \n",
       "128                               Not applicable to me                                      \n",
       "129                                          Sometimes                                      \n",
       "130                                          Sometimes                                      \n",
       "\n",
       "    how many employees does your company or organization have?  \\\n",
       "0                                                 6-25           \n",
       "1                                       More than 1000           \n",
       "2                                                 6-25           \n",
       "3                                               26-100           \n",
       "4                                              100-500           \n",
       "..                                                 ...           \n",
       "126                                             26-100           \n",
       "127                                            100-500           \n",
       "128                                                NaN           \n",
       "129                                                NaN           \n",
       "130                                             26-100           \n",
       "\n",
       "    is your employer primarily a tech company/organization?  ...  \\\n",
       "0                                                  Yes       ...   \n",
       "1                                                   No       ...   \n",
       "2                                                  Yes       ...   \n",
       "3                                                  Yes       ...   \n",
       "4                                                  Yes       ...   \n",
       "..                                                 ...       ...   \n",
       "126                                           1.000000       ...   \n",
       "127                                           1.000000       ...   \n",
       "128                                                NaN       ...   \n",
       "129                                                NaN       ...   \n",
       "130                                           1.000000       ...   \n",
       "\n",
       "    has your employer ever discussed mental health as part of an employee wellness program?  \\\n",
       "0                                                   No                                        \n",
       "1                                           Don't know                                        \n",
       "2                                                   No                                        \n",
       "3                                                   No                                        \n",
       "4                                           Don't know                                        \n",
       "..                                                 ...                                        \n",
       "126                                           None did                                        \n",
       "127                                           None did                                        \n",
       "128                                                NaN                                        \n",
       "129                                                NaN                                        \n",
       "130                                           None did                                        \n",
       "\n",
       "    does your employer provide resources to learn more about mental health issues and how to seek help?  \\\n",
       "0                                                  Yes                                                    \n",
       "1                                           Don't know                                                    \n",
       "2                                                   No                                                    \n",
       "3                                                   No                                                    \n",
       "4                                           Don't know                                                    \n",
       "..                                                 ...                                                    \n",
       "126                                                 No                                                    \n",
       "127                                                 No                                                    \n",
       "128                                                NaN                                                    \n",
       "129                                                NaN                                                    \n",
       "130                                                 No                                                    \n",
       "\n",
       "    is your anonymity protected if you choose to take advantage of mental health or substance abuse treatment resources?  \\\n",
       "0                                                  Yes                                                                     \n",
       "1                                           Don't know                                                                     \n",
       "2                                           Don't know                                                                     \n",
       "3                                                   No                                                                     \n",
       "4                                           Don't know                                                                     \n",
       "..                                                 ...                                                                     \n",
       "126                                       I don't know                                                                     \n",
       "127                                       I don't know                                                                     \n",
       "128                                                NaN                                                                     \n",
       "129                                                NaN                                                                     \n",
       "130                                                 No                                                                     \n",
       "\n",
       "    how easy is it for you to take medical leave for a mental health condition?  \\\n",
       "0                                        Somewhat easy                            \n",
       "1                                           Don't know                            \n",
       "2                                   Somewhat difficult                            \n",
       "3                                   Somewhat difficult                            \n",
       "4                                           Don't know                            \n",
       "..                                                 ...                            \n",
       "126                                      Somewhat easy                            \n",
       "127                                      Somewhat easy                            \n",
       "128                                                NaN                            \n",
       "129                                                NaN                            \n",
       "130                                 Somewhat difficult                            \n",
       "\n",
       "    would you be willing to discuss a mental health issue with your coworkers?  \\\n",
       "0                                         Some of them                           \n",
       "1                                                   No                           \n",
       "2                                                  Yes                           \n",
       "3                                         Some of them                           \n",
       "4                                         Some of them                           \n",
       "..                                                 ...                           \n",
       "126                                                 No                           \n",
       "127                                              Maybe                           \n",
       "128                                                NaN                           \n",
       "129                                                NaN                           \n",
       "130                                              Maybe                           \n",
       "\n",
       "    would you be willing to discuss a mental health issue with your direct supervisor(s)?  \\\n",
       "0                                                  Yes                                      \n",
       "1                                                   No                                      \n",
       "2                                                  Yes                                      \n",
       "3                                                   No                                      \n",
       "4                                                  Yes                                      \n",
       "..                                                 ...                                      \n",
       "126                    Some of my previous supervisors                                      \n",
       "127                No, none of my previous supervisors                                      \n",
       "128                                                NaN                                      \n",
       "129                                                NaN                                      \n",
       "130                No, none of my previous supervisors                                      \n",
       "\n",
       "    would you bring up a mental health issue with a potential employer in an interview?  \\\n",
       "0                                                   No                                    \n",
       "1                                                   No                                    \n",
       "2                                                  Yes                                    \n",
       "3                                                Maybe                                    \n",
       "4                                                  Yes                                    \n",
       "..                                                 ...                                    \n",
       "126                                              Maybe                                    \n",
       "127                                              Maybe                                    \n",
       "128                                                 No                                    \n",
       "129                                                 No                                    \n",
       "130                                                Yes                                    \n",
       "\n",
       "    would you bring up a physical health issue with a potential employer in an interview?  \\\n",
       "0                                                Maybe                                      \n",
       "1                                                   No                                      \n",
       "2                                                  Yes                                      \n",
       "3                                                Maybe                                      \n",
       "4                                                  Yes                                      \n",
       "..                                                 ...                                      \n",
       "126                                                 No                                      \n",
       "127                                                 No                                      \n",
       "128                                                 No                                      \n",
       "129                                                 No                                      \n",
       "130                                                 No                                      \n",
       "\n",
       "    have you heard of or observed negative consequences for coworkers with mental health conditions in your workplace?  \\\n",
       "0                                                   No                                                                   \n",
       "1                                                   No                                                                   \n",
       "2                                                   No                                                                   \n",
       "3                                                  Yes                                                                   \n",
       "4                                                   No                                                                   \n",
       "..                                                 ...                                                                   \n",
       "126                                                NaN                                                                   \n",
       "127                                                 No                                                                   \n",
       "128                                                NaN                                                                   \n",
       "129                                                Yes                                                                   \n",
       "130                                              Maybe                                                                   \n",
       "\n",
       "     year  \n",
       "0    2014  \n",
       "1    2014  \n",
       "2    2014  \n",
       "3    2014  \n",
       "4    2014  \n",
       "..    ...  \n",
       "126  2021  \n",
       "127  2021  \n",
       "128  2021  \n",
       "129  2021  \n",
       "130  2021  \n",
       "\n",
       "[4529 rows x 22 columns]"
      ]
     },
     "execution_count": 9,
     "metadata": {},
     "output_type": "execute_result"
    }
   ],
   "source": [
    "# Concatenate datasets\n",
    "\n",
    "df_master = pd.concat([df_2014, df_2016, df_2017, df_2018, df_2019, df_2020, df_2021])\n",
    "df_master"
   ]
  },
  {
   "cell_type": "code",
   "execution_count": 10,
   "id": "c7ad1c2c",
   "metadata": {},
   "outputs": [],
   "source": [
    "# export csv\n",
    "df_master.to_csv(\"df_master.csv\")\n",
    "    \n",
    "    \n"
   ]
  },
  {
   "cell_type": "code",
   "execution_count": 11,
   "id": "4cd797eb",
   "metadata": {},
   "outputs": [],
   "source": [
    "df = df_master.copy()"
   ]
  },
  {
   "cell_type": "markdown",
   "id": "bcaab48e",
   "metadata": {},
   "source": [
    "# Data Cleaning: Replace erroneous values"
   ]
  },
  {
   "cell_type": "code",
   "execution_count": 12,
   "id": "2b866292",
   "metadata": {},
   "outputs": [],
   "source": [
    "df.reset_index(drop = True, inplace = True)"
   ]
  },
  {
   "cell_type": "code",
   "execution_count": 13,
   "id": "cf4bc1f0",
   "metadata": {},
   "outputs": [
    {
     "data": {
      "text/html": [
       "<div>\n",
       "<style scoped>\n",
       "    .dataframe tbody tr th:only-of-type {\n",
       "        vertical-align: middle;\n",
       "    }\n",
       "\n",
       "    .dataframe tbody tr th {\n",
       "        vertical-align: top;\n",
       "    }\n",
       "\n",
       "    .dataframe thead th {\n",
       "        text-align: right;\n",
       "    }\n",
       "</style>\n",
       "<table border=\"1\" class=\"dataframe\">\n",
       "  <thead>\n",
       "    <tr style=\"text-align: right;\">\n",
       "      <th></th>\n",
       "      <th>age</th>\n",
       "      <th>gender</th>\n",
       "      <th>country</th>\n",
       "      <th>if you live in the united states, which state or territory do you live in?</th>\n",
       "      <th>are you self-employed?</th>\n",
       "      <th>do you have a family history of mental illness?</th>\n",
       "      <th>have you sought treatment for a mental health condition?</th>\n",
       "      <th>if you have a mental health condition, do you feel that it interferes with your work?</th>\n",
       "      <th>how many employees does your company or organization have?</th>\n",
       "      <th>is your employer primarily a tech company/organization?</th>\n",
       "      <th>...</th>\n",
       "      <th>has your employer ever discussed mental health as part of an employee wellness program?</th>\n",
       "      <th>does your employer provide resources to learn more about mental health issues and how to seek help?</th>\n",
       "      <th>is your anonymity protected if you choose to take advantage of mental health or substance abuse treatment resources?</th>\n",
       "      <th>how easy is it for you to take medical leave for a mental health condition?</th>\n",
       "      <th>would you be willing to discuss a mental health issue with your coworkers?</th>\n",
       "      <th>would you be willing to discuss a mental health issue with your direct supervisor(s)?</th>\n",
       "      <th>would you bring up a mental health issue with a potential employer in an interview?</th>\n",
       "      <th>would you bring up a physical health issue with a potential employer in an interview?</th>\n",
       "      <th>have you heard of or observed negative consequences for coworkers with mental health conditions in your workplace?</th>\n",
       "      <th>year</th>\n",
       "    </tr>\n",
       "  </thead>\n",
       "  <tbody>\n",
       "    <tr>\n",
       "      <th>0</th>\n",
       "      <td>37.000000</td>\n",
       "      <td>Female</td>\n",
       "      <td>United States</td>\n",
       "      <td>IL</td>\n",
       "      <td>NaN</td>\n",
       "      <td>No</td>\n",
       "      <td>Yes</td>\n",
       "      <td>Often</td>\n",
       "      <td>6-25</td>\n",
       "      <td>Yes</td>\n",
       "      <td>...</td>\n",
       "      <td>No</td>\n",
       "      <td>Yes</td>\n",
       "      <td>Yes</td>\n",
       "      <td>Somewhat easy</td>\n",
       "      <td>Some of them</td>\n",
       "      <td>Yes</td>\n",
       "      <td>No</td>\n",
       "      <td>Maybe</td>\n",
       "      <td>No</td>\n",
       "      <td>2014</td>\n",
       "    </tr>\n",
       "    <tr>\n",
       "      <th>1</th>\n",
       "      <td>44.000000</td>\n",
       "      <td>M</td>\n",
       "      <td>United States</td>\n",
       "      <td>IN</td>\n",
       "      <td>NaN</td>\n",
       "      <td>No</td>\n",
       "      <td>No</td>\n",
       "      <td>Rarely</td>\n",
       "      <td>More than 1000</td>\n",
       "      <td>No</td>\n",
       "      <td>...</td>\n",
       "      <td>Don't know</td>\n",
       "      <td>Don't know</td>\n",
       "      <td>Don't know</td>\n",
       "      <td>Don't know</td>\n",
       "      <td>No</td>\n",
       "      <td>No</td>\n",
       "      <td>No</td>\n",
       "      <td>No</td>\n",
       "      <td>No</td>\n",
       "      <td>2014</td>\n",
       "    </tr>\n",
       "    <tr>\n",
       "      <th>2</th>\n",
       "      <td>32.000000</td>\n",
       "      <td>Male</td>\n",
       "      <td>Canada</td>\n",
       "      <td>NaN</td>\n",
       "      <td>NaN</td>\n",
       "      <td>No</td>\n",
       "      <td>No</td>\n",
       "      <td>Rarely</td>\n",
       "      <td>6-25</td>\n",
       "      <td>Yes</td>\n",
       "      <td>...</td>\n",
       "      <td>No</td>\n",
       "      <td>No</td>\n",
       "      <td>Don't know</td>\n",
       "      <td>Somewhat difficult</td>\n",
       "      <td>Yes</td>\n",
       "      <td>Yes</td>\n",
       "      <td>Yes</td>\n",
       "      <td>Yes</td>\n",
       "      <td>No</td>\n",
       "      <td>2014</td>\n",
       "    </tr>\n",
       "    <tr>\n",
       "      <th>3</th>\n",
       "      <td>31.000000</td>\n",
       "      <td>Male</td>\n",
       "      <td>United Kingdom</td>\n",
       "      <td>NaN</td>\n",
       "      <td>NaN</td>\n",
       "      <td>Yes</td>\n",
       "      <td>Yes</td>\n",
       "      <td>Often</td>\n",
       "      <td>26-100</td>\n",
       "      <td>Yes</td>\n",
       "      <td>...</td>\n",
       "      <td>No</td>\n",
       "      <td>No</td>\n",
       "      <td>No</td>\n",
       "      <td>Somewhat difficult</td>\n",
       "      <td>Some of them</td>\n",
       "      <td>No</td>\n",
       "      <td>Maybe</td>\n",
       "      <td>Maybe</td>\n",
       "      <td>Yes</td>\n",
       "      <td>2014</td>\n",
       "    </tr>\n",
       "    <tr>\n",
       "      <th>4</th>\n",
       "      <td>31.000000</td>\n",
       "      <td>Male</td>\n",
       "      <td>United States</td>\n",
       "      <td>TX</td>\n",
       "      <td>NaN</td>\n",
       "      <td>No</td>\n",
       "      <td>No</td>\n",
       "      <td>Never</td>\n",
       "      <td>100-500</td>\n",
       "      <td>Yes</td>\n",
       "      <td>...</td>\n",
       "      <td>Don't know</td>\n",
       "      <td>Don't know</td>\n",
       "      <td>Don't know</td>\n",
       "      <td>Don't know</td>\n",
       "      <td>Some of them</td>\n",
       "      <td>Yes</td>\n",
       "      <td>Yes</td>\n",
       "      <td>Yes</td>\n",
       "      <td>No</td>\n",
       "      <td>2014</td>\n",
       "    </tr>\n",
       "  </tbody>\n",
       "</table>\n",
       "<p>5 rows × 22 columns</p>\n",
       "</div>"
      ],
      "text/plain": [
       "        age  gender         country  \\\n",
       "0 37.000000  Female   United States   \n",
       "1 44.000000       M   United States   \n",
       "2 32.000000    Male          Canada   \n",
       "3 31.000000    Male  United Kingdom   \n",
       "4 31.000000    Male   United States   \n",
       "\n",
       "  if you live in the united states, which state or territory do you live in?  \\\n",
       "0                                                 IL                           \n",
       "1                                                 IN                           \n",
       "2                                                NaN                           \n",
       "3                                                NaN                           \n",
       "4                                                 TX                           \n",
       "\n",
       "  are you self-employed? do you have a family history of mental illness?  \\\n",
       "0                    NaN                                              No   \n",
       "1                    NaN                                              No   \n",
       "2                    NaN                                              No   \n",
       "3                    NaN                                             Yes   \n",
       "4                    NaN                                              No   \n",
       "\n",
       "  have you sought treatment for a mental health condition?  \\\n",
       "0                                                Yes         \n",
       "1                                                 No         \n",
       "2                                                 No         \n",
       "3                                                Yes         \n",
       "4                                                 No         \n",
       "\n",
       "  if you have a mental health condition, do you feel that it interferes with your work?  \\\n",
       "0                                              Often                                      \n",
       "1                                             Rarely                                      \n",
       "2                                             Rarely                                      \n",
       "3                                              Often                                      \n",
       "4                                              Never                                      \n",
       "\n",
       "  how many employees does your company or organization have?  \\\n",
       "0                                               6-25           \n",
       "1                                     More than 1000           \n",
       "2                                               6-25           \n",
       "3                                             26-100           \n",
       "4                                            100-500           \n",
       "\n",
       "  is your employer primarily a tech company/organization?  ...  \\\n",
       "0                                                Yes       ...   \n",
       "1                                                 No       ...   \n",
       "2                                                Yes       ...   \n",
       "3                                                Yes       ...   \n",
       "4                                                Yes       ...   \n",
       "\n",
       "  has your employer ever discussed mental health as part of an employee wellness program?  \\\n",
       "0                                                 No                                        \n",
       "1                                         Don't know                                        \n",
       "2                                                 No                                        \n",
       "3                                                 No                                        \n",
       "4                                         Don't know                                        \n",
       "\n",
       "  does your employer provide resources to learn more about mental health issues and how to seek help?  \\\n",
       "0                                                Yes                                                    \n",
       "1                                         Don't know                                                    \n",
       "2                                                 No                                                    \n",
       "3                                                 No                                                    \n",
       "4                                         Don't know                                                    \n",
       "\n",
       "  is your anonymity protected if you choose to take advantage of mental health or substance abuse treatment resources?  \\\n",
       "0                                                Yes                                                                     \n",
       "1                                         Don't know                                                                     \n",
       "2                                         Don't know                                                                     \n",
       "3                                                 No                                                                     \n",
       "4                                         Don't know                                                                     \n",
       "\n",
       "  how easy is it for you to take medical leave for a mental health condition?  \\\n",
       "0                                      Somewhat easy                            \n",
       "1                                         Don't know                            \n",
       "2                                 Somewhat difficult                            \n",
       "3                                 Somewhat difficult                            \n",
       "4                                         Don't know                            \n",
       "\n",
       "  would you be willing to discuss a mental health issue with your coworkers?  \\\n",
       "0                                       Some of them                           \n",
       "1                                                 No                           \n",
       "2                                                Yes                           \n",
       "3                                       Some of them                           \n",
       "4                                       Some of them                           \n",
       "\n",
       "  would you be willing to discuss a mental health issue with your direct supervisor(s)?  \\\n",
       "0                                                Yes                                      \n",
       "1                                                 No                                      \n",
       "2                                                Yes                                      \n",
       "3                                                 No                                      \n",
       "4                                                Yes                                      \n",
       "\n",
       "  would you bring up a mental health issue with a potential employer in an interview?  \\\n",
       "0                                                 No                                    \n",
       "1                                                 No                                    \n",
       "2                                                Yes                                    \n",
       "3                                              Maybe                                    \n",
       "4                                                Yes                                    \n",
       "\n",
       "  would you bring up a physical health issue with a potential employer in an interview?  \\\n",
       "0                                              Maybe                                      \n",
       "1                                                 No                                      \n",
       "2                                                Yes                                      \n",
       "3                                              Maybe                                      \n",
       "4                                                Yes                                      \n",
       "\n",
       "  have you heard of or observed negative consequences for coworkers with mental health conditions in your workplace?  \\\n",
       "0                                                 No                                                                   \n",
       "1                                                 No                                                                   \n",
       "2                                                 No                                                                   \n",
       "3                                                Yes                                                                   \n",
       "4                                                 No                                                                   \n",
       "\n",
       "   year  \n",
       "0  2014  \n",
       "1  2014  \n",
       "2  2014  \n",
       "3  2014  \n",
       "4  2014  \n",
       "\n",
       "[5 rows x 22 columns]"
      ]
     },
     "metadata": {},
     "output_type": "display_data"
    },
    {
     "data": {
      "text/html": [
       "<div>\n",
       "<style scoped>\n",
       "    .dataframe tbody tr th:only-of-type {\n",
       "        vertical-align: middle;\n",
       "    }\n",
       "\n",
       "    .dataframe tbody tr th {\n",
       "        vertical-align: top;\n",
       "    }\n",
       "\n",
       "    .dataframe thead th {\n",
       "        text-align: right;\n",
       "    }\n",
       "</style>\n",
       "<table border=\"1\" class=\"dataframe\">\n",
       "  <thead>\n",
       "    <tr style=\"text-align: right;\">\n",
       "      <th></th>\n",
       "      <th>age</th>\n",
       "    </tr>\n",
       "  </thead>\n",
       "  <tbody>\n",
       "    <tr>\n",
       "      <th>count</th>\n",
       "      <td>4527.000000</td>\n",
       "    </tr>\n",
       "    <tr>\n",
       "      <th>mean</th>\n",
       "      <td>22089717.636625</td>\n",
       "    </tr>\n",
       "    <tr>\n",
       "      <th>std</th>\n",
       "      <td>1486259873.045872</td>\n",
       "    </tr>\n",
       "    <tr>\n",
       "      <th>min</th>\n",
       "      <td>-1726.000000</td>\n",
       "    </tr>\n",
       "    <tr>\n",
       "      <th>25%</th>\n",
       "      <td>28.000000</td>\n",
       "    </tr>\n",
       "    <tr>\n",
       "      <th>50%</th>\n",
       "      <td>33.000000</td>\n",
       "    </tr>\n",
       "    <tr>\n",
       "      <th>75%</th>\n",
       "      <td>38.000000</td>\n",
       "    </tr>\n",
       "    <tr>\n",
       "      <th>max</th>\n",
       "      <td>99999999999.000000</td>\n",
       "    </tr>\n",
       "  </tbody>\n",
       "</table>\n",
       "</div>"
      ],
      "text/plain": [
       "                     age\n",
       "count        4527.000000\n",
       "mean     22089717.636625\n",
       "std    1486259873.045872\n",
       "min         -1726.000000\n",
       "25%            28.000000\n",
       "50%            33.000000\n",
       "75%            38.000000\n",
       "max   99999999999.000000"
      ]
     },
     "metadata": {},
     "output_type": "display_data"
    },
    {
     "name": "stdout",
     "output_type": "stream",
     "text": [
      "<class 'pandas.core.frame.DataFrame'>\n",
      "RangeIndex: 4529 entries, 0 to 4528\n",
      "Data columns (total 22 columns):\n",
      " #   Column                                                                                                                Non-Null Count  Dtype  \n",
      "---  ------                                                                                                                --------------  -----  \n",
      " 0   age                                                                                                                   4527 non-null   float64\n",
      " 1   gender                                                                                                                4501 non-null   object \n",
      " 2   country                                                                                                               4527 non-null   object \n",
      " 3   if you live in the united states, which state or territory do you live in?                                            2710 non-null   object \n",
      " 4   are you self-employed?                                                                                                4511 non-null   object \n",
      " 5   do you have a family history of mental illness?                                                                       4529 non-null   object \n",
      " 6   have you sought treatment for a mental health condition?                                                              4529 non-null   object \n",
      " 7   if you have a mental health condition, do you feel that it interferes with your work?                                 4265 non-null   object \n",
      " 8   how many employees does your company or organization have?                                                            3983 non-null   object \n",
      " 9   is your employer primarily a tech company/organization?                                                               3983 non-null   object \n",
      " 10  does your employer provide mental health benefits?                                                                    3975 non-null   object \n",
      " 11  do you know the options for mental health care your employer provides?                                                3687 non-null   object \n",
      " 12  has your employer ever discussed mental health as part of an employee wellness program?                               3946 non-null   object \n",
      " 13  does your employer provide resources to learn more about mental health issues and how to seek help?                   3983 non-null   object \n",
      " 14  is your anonymity protected if you choose to take advantage of mental health or substance abuse treatment resources?  3983 non-null   object \n",
      " 15  how easy is it for you to take medical leave for a mental health condition?                                           3983 non-null   object \n",
      " 16  would you be willing to discuss a mental health issue with your coworkers?                                            3983 non-null   object \n",
      " 17  would you be willing to discuss a mental health issue with your direct supervisor(s)?                                 3936 non-null   object \n",
      " 18  would you bring up a mental health issue with a potential employer in an interview?                                   4529 non-null   object \n",
      " 19  would you bring up a physical health issue with a potential employer in an interview?                                 4473 non-null   object \n",
      " 20  have you heard of or observed negative consequences for coworkers with mental health conditions in your workplace?    3890 non-null   object \n",
      " 21  year                                                                                                                  4529 non-null   object \n",
      "dtypes: float64(1), object(21)\n",
      "memory usage: 778.5+ KB\n"
     ]
    },
    {
     "data": {
      "text/plain": [
       "None"
      ]
     },
     "metadata": {},
     "output_type": "display_data"
    }
   ],
   "source": [
    "# check dataset\n",
    "display(df.head())\n",
    "display(df.describe())\n",
    "display(df.info())"
   ]
  },
  {
   "cell_type": "markdown",
   "id": "bc2b7449",
   "metadata": {},
   "source": [
    "## age"
   ]
  },
  {
   "cell_type": "code",
   "execution_count": 14,
   "id": "36a2b00f",
   "metadata": {},
   "outputs": [
    {
     "data": {
      "image/png": "[encoded data removed]",
      "text/plain": [
       "<Figure size 360x360 with 1 Axes>"
      ]
     },
     "metadata": {
      "needs_background": "light"
     },
     "output_type": "display_data"
    }
   ],
   "source": [
    "# plot\n",
    "\n",
    "df[\"age\"].describe()\n",
    "\n",
    "upper = 80\n",
    "lower = 15\n",
    "\n",
    "temp = df[(df[\"age\"] > lower) & (df[\"age\"] < upper)]\n",
    "\n",
    "prop = len(temp)/len(df)*100\n",
    "\n",
    "sns.displot(temp[\"age\"])\n",
    "plt.title(f\"plot for {prop}% data\")\n",
    "plt.show()"
   ]
  },
  {
   "cell_type": "code",
   "execution_count": 15,
   "id": "d6a62c12",
   "metadata": {},
   "outputs": [],
   "source": [
    "# Remove outliers\n",
    "\n",
    "df.loc[(df[\"age\"] <= lower) | (df[\"age\"] >= upper), \"age\"] = np.NaN"
   ]
  },
  {
   "cell_type": "code",
   "execution_count": 16,
   "id": "48eccdfc",
   "metadata": {},
   "outputs": [
    {
     "data": {
      "text/plain": [
       "Series([], Name: age, dtype: float64)"
      ]
     },
     "execution_count": 16,
     "metadata": {},
     "output_type": "execute_result"
    }
   ],
   "source": [
    "# recheck\n",
    "df.loc[(df[\"age\"] <= lower) | (df[\"age\"] >= upper), \"age\"]"
   ]
  },
  {
   "cell_type": "markdown",
   "id": "9a7129c6",
   "metadata": {},
   "source": [
    "**Can treat outliers then with mean**"
   ]
  },
  {
   "cell_type": "markdown",
   "id": "069a945e",
   "metadata": {},
   "source": [
    "## Gender"
   ]
  },
  {
   "cell_type": "code",
   "execution_count": 17,
   "id": "0da123fb",
   "metadata": {},
   "outputs": [
    {
     "data": {
      "text/plain": [
       "['male',\n",
       " 'female',\n",
       " 'm',\n",
       " 'f',\n",
       " 'woman',\n",
       " 'male ',\n",
       " 'female ',\n",
       " 'cis male',\n",
       " 'man',\n",
       " 'non-binary',\n",
       " 'nonbinary',\n",
       " 'agender',\n",
       " 'genderqueer',\n",
       " 'make',\n",
       " 'mail',\n",
       " 'genderfluid',\n",
       " 'cis-male',\n",
       " 'female (cis)',\n",
       " 'male (cis)',\n",
       " 'none',\n",
       " 'trans woman',\n",
       " 'non binary',\n",
       " 'human',\n",
       " 'cis man',\n",
       " 'cisgender female',\n",
       " 'cis-female',\n",
       " 'malr',\n",
       " 'dude',\n",
       " 'cis woman',\n",
       " 'fluid',\n",
       " 'cis female ',\n",
       " 'trans man',\n",
       " 'cis female',\n",
       " 'femail',\n",
       " 'female (cisgender)',\n",
       " 'masculine',\n",
       " 'male-ish',\n",
       " 'queer',\n",
       " 'other',\n",
       " 'female (trans)',\n",
       " 'cisgender male',\n",
       " 'enby',\n",
       " 'female assigned at birth ',\n",
       " 'femile',\n",
       " 'male/genderqueer',\n",
       " 'male, born with xy chromosoms',\n",
       " 'female, she/her',\n",
       " 'msle',\n",
       " 'sometimes',\n",
       " 'mal',\n",
       " 'f, cisgender',\n",
       " 'cishet male',\n",
       " 'female-bodied; no feelings about gender',\n",
       " 'bigender',\n",
       " 'unicorn',\n",
       " 'a little about you',\n",
       " 'questioning',\n",
       " 'sex is male',\n",
       " 'non-binary/agender',\n",
       " 'male leaning androgynous',\n",
       " 'neuter',\n",
       " 'contextual',\n",
       " 'nb',\n",
       " 'female-identified',\n",
       " 'afab',\n",
       " 'non-binary and gender fluid',\n",
       " 'she/her/they/them',\n",
       " 'genderqueer demigirl',\n",
       " 'rr',\n",
       " 'something kinda male?',\n",
       " '\\\\-',\n",
       " 'god king of the valajar',\n",
       " 'agender trans woman',\n",
       " 'femake',\n",
       " 'female/gender non-binary.',\n",
       " 'afab non-binary',\n",
       " 'male.',\n",
       " ' female',\n",
       " 'cis hetero male',\n",
       " 'maile',\n",
       " 'fem',\n",
       " 'genderflux demi-girl',\n",
       " 'female-ish',\n",
       " 'nb masculine',\n",
       " 'male/he/him',\n",
       " 'gender non-conforming woman',\n",
       " 'fm',\n",
       " 'trans-female',\n",
       " 'cis male ',\n",
       " 'cisgendered woman',\n",
       " 'let\\'s keep it simple and say \"male\"',\n",
       " 'male/androgynous ',\n",
       " \"i'm a man why didn't you make this a drop down question. you should of asked sex? and i would of answered yes please. seriously how much text can this take? \",\n",
       " 'cis-female/femme',\n",
       " 'homem cis',\n",
       " 'ostensibly male',\n",
       " 'male, cis',\n",
       " 'demiguy',\n",
       " 'genderqueer woman',\n",
       " 'b',\n",
       " 'masculino',\n",
       " 'i identify as female.',\n",
       " 'other/transfeminine',\n",
       " 'm|',\n",
       " 'uhhhhhhhhh fem genderqueer?',\n",
       " 'swm',\n",
       " 'nah',\n",
       " 'androgynous',\n",
       " 'woman-identified',\n",
       " 'female or multi-gender femme',\n",
       " 'femmina',\n",
       " 'i have a penis',\n",
       " 'female/woman',\n",
       " 'guy (-ish) ^_^',\n",
       " 'agender/genderfluid',\n",
       " 'transitioned, m2f',\n",
       " 'male (trans, ftm)',\n",
       " 'all',\n",
       " 'male (or female, or both)',\n",
       " 'femalw',\n",
       " 'female (props for making this a freeform field, though)',\n",
       " 'none of your business',\n",
       " 'cisdude',\n",
       " 'i am a wookie',\n",
       " 'trans non-binary/genderfluid',\n",
       " 'transgender',\n",
       " 'mtf',\n",
       " 'male 9:1 female, roughly',\n",
       " 'androgyne',\n",
       " 'female (cis) ',\n",
       " 'mostly male',\n",
       " 'ostensibly male, unsure what that really means',\n",
       " 'p',\n",
       " 'transfeminine',\n",
       " 'genderqueer/non-binary',\n",
       " '*shrug emoji* (f)',\n",
       " 'transgender woman',\n",
       " 'malel',\n",
       " '43',\n",
       " 'trans female',\n",
       " 'cis-het male',\n",
       " 'i identify as female',\n",
       " 'identify as male',\n",
       " 'genderfluid (born female)',\n",
       " 'queer/she/they',\n",
       " \"male (hey this is the tech industry you're talking about)\",\n",
       " 'my sex is female.',\n",
       " 'nonbinary/femme',\n",
       " 'cis-woman']"
      ]
     },
     "execution_count": 17,
     "metadata": {},
     "output_type": "execute_result"
    }
   ],
   "source": [
    "# see values\n",
    "\n",
    "list(df[\"gender\"].str.lower().value_counts().index)"
   ]
  },
  {
   "cell_type": "markdown",
   "id": "a75f4687",
   "metadata": {},
   "source": [
    "**Notes: denoting or relating to a person whose sense of personal identity and gender corresponds with their birth sex.**"
   ]
  },
  {
   "cell_type": "code",
   "execution_count": 18,
   "id": "099c5815",
   "metadata": {},
   "outputs": [],
   "source": [
    "# clean trans\n",
    "df.loc[df[\"gender\"].str.match(\".*trans.*\", flags = re.IGNORECASE).fillna(False), \"gender\"] = \"others\""
   ]
  },
  {
   "cell_type": "code",
   "execution_count": 19,
   "id": "108865dd",
   "metadata": {},
   "outputs": [],
   "source": [
    "# clean queer\n",
    "df.loc[df[\"gender\"].str.match(\".*queer.*\", flags = re.IGNORECASE).fillna(False), \"gender\"] = \"others\""
   ]
  },
  {
   "cell_type": "code",
   "execution_count": 20,
   "id": "fa44d349",
   "metadata": {},
   "outputs": [],
   "source": [
    "# clean females\n",
    "df.loc[df[\"gender\"].str.match(\".*fem.*\", flags = re.IGNORECASE).fillna(False), \"gender\"] = \"female\"\n",
    "\n",
    "df.loc[df[\"gender\"].str.match(\"f\", flags = re.IGNORECASE).fillna(False), \"gender\"] = \"female\"\n",
    "\n",
    "df.loc[df[\"gender\"].str.match(\"she\", flags = re.IGNORECASE).fillna(False), \"gender\"] = \"female\"\n",
    "\n",
    "df.loc[df[\"gender\"].str.match(\".*woman.*\", flags = re.IGNORECASE).fillna(False), \"gender\"] = \"female\""
   ]
  },
  {
   "cell_type": "code",
   "execution_count": 21,
   "id": "164ea726",
   "metadata": {},
   "outputs": [],
   "source": [
    "# clean males\n",
    "\n",
    "df[~df[\"gender\"].isin([\"female\"])].loc[df[~df[\"gender\"].isin([\"female\"])][\"gender\"].str.match(\".*mal.*\", flags = re.IGNORECASE).fillna(False), \"gender\"] = \"male\"\n",
    "\n",
    "df[~df[\"gender\"].isin([\"female\"])].loc[df[~df[\"gender\"].isin([\"female\"])][\"gender\"].str.match(\"m\", flags = re.IGNORECASE).fillna(False), \"gender\"] = \"male\"\n",
    "\n",
    "df[~df[\"gender\"].isin([\"female\"])].loc[df[~df[\"gender\"].isin([\"female\"])][\"gender\"].str.match(\"men\", flags = re.IGNORECASE).fillna(False), \"gender\"] = \"male\"\n",
    "\n",
    "df[~df[\"gender\"].isin([\"female\"])].loc[df[~df[\"gender\"].isin([\"female\"])][\"gender\"].str.match(\".*man.*\", flags = re.IGNORECASE).fillna(False), \"gender\"] = \"male\"\n",
    "\n",
    "df[~df[\"gender\"].isin([\"female\"])].loc[df[~df[\"gender\"].isin([\"female\"])][\"gender\"].str.match(\".*masculine.*\", flags = re.IGNORECASE).fillna(False), \"gender\"] = \"male\"\n",
    "\n",
    "df[~df[\"gender\"].isin([\"female\"])].loc[df[~df[\"gender\"].isin([\"female\"])][\"gender\"].str.match(\".*dude.*\", flags = re.IGNORECASE).fillna(False), \"gender\"] = \"male\"\n",
    "\n",
    "df[~df[\"gender\"].isin([\"female\"])].loc[df[~df[\"gender\"].isin([\"female\"])][\"gender\"].str.match(\".*mail.*\", flags = re.IGNORECASE).fillna(False), \"gender\"] = \"male\""
   ]
  },
  {
   "cell_type": "code",
   "execution_count": 22,
   "id": "55fa8120",
   "metadata": {},
   "outputs": [],
   "source": [
    "# select all other genders\n",
    "\n",
    "df.loc[~df['gender'].isin(['male', 'female', 'trans', \"queer\"]), \"gender\"] = \"others\""
   ]
  },
  {
   "cell_type": "code",
   "execution_count": 23,
   "id": "6d6b9f0b",
   "metadata": {},
   "outputs": [
    {
     "data": {
      "text/plain": [
       "others    2655\n",
       "female    1157\n",
       "male       717\n",
       "Name: gender, dtype: int64"
      ]
     },
     "execution_count": 23,
     "metadata": {},
     "output_type": "execute_result"
    }
   ],
   "source": [
    "df[\"gender\"].value_counts()"
   ]
  },
  {
   "cell_type": "markdown",
   "id": "33b84945",
   "metadata": {},
   "source": [
    "## country"
   ]
  },
  {
   "cell_type": "code",
   "execution_count": 24,
   "id": "0cae58f0",
   "metadata": {},
   "outputs": [
    {
     "data": {
      "text/plain": [
       "['United States of America',\n",
       " 'United States',\n",
       " 'United Kingdom',\n",
       " 'Canada',\n",
       " 'Germany',\n",
       " 'India',\n",
       " 'Netherlands',\n",
       " 'Australia',\n",
       " 'Ireland',\n",
       " 'Brazil',\n",
       " 'France',\n",
       " 'Sweden',\n",
       " 'Spain',\n",
       " 'Switzerland',\n",
       " 'Portugal',\n",
       " 'Poland',\n",
       " 'New Zealand',\n",
       " 'Italy',\n",
       " 'South Africa',\n",
       " 'Russia',\n",
       " 'Belgium',\n",
       " 'Finland',\n",
       " 'Bulgaria',\n",
       " 'Norway',\n",
       " 'Mexico',\n",
       " 'Israel',\n",
       " 'Austria',\n",
       " 'Denmark',\n",
       " 'Japan',\n",
       " 'Turkey',\n",
       " 'Greece',\n",
       " 'Romania',\n",
       " 'Pakistan',\n",
       " 'Colombia',\n",
       " 'Indonesia',\n",
       " 'Slovenia',\n",
       " 'Czech Republic',\n",
       " 'Macedonia',\n",
       " 'Estonia',\n",
       " 'Serbia',\n",
       " 'Singapore',\n",
       " 'Bangladesh',\n",
       " 'Croatia',\n",
       " 'Chile',\n",
       " 'Argentina',\n",
       " 'Ukraine',\n",
       " 'Philippines',\n",
       " 'Hungary',\n",
       " 'Bosnia and Herzegovina',\n",
       " 'Afghanistan',\n",
       " 'Nigeria',\n",
       " 'Iceland',\n",
       " 'China',\n",
       " 'Other',\n",
       " 'Mongolia',\n",
       " 'Hong Kong',\n",
       " 'Uruguay',\n",
       " 'Slovakia',\n",
       " 'Kenya',\n",
       " 'Vietnam',\n",
       " 'Latvia',\n",
       " 'Costa Rica',\n",
       " 'Georgia',\n",
       " 'Sri Lanka',\n",
       " 'Belarus',\n",
       " 'Ethiopia',\n",
       " 'Jordan',\n",
       " 'Zimbabwe',\n",
       " 'Bahamas, The',\n",
       " 'Lithuania',\n",
       " 'Guatemala',\n",
       " 'Sao Tome and Principe',\n",
       " 'Malaysia',\n",
       " 'United Arab Emirates',\n",
       " 'Ghana',\n",
       " 'Ecuador',\n",
       " 'Taiwan',\n",
       " 'Egypt',\n",
       " 'Saudi Arabia',\n",
       " 'Iran',\n",
       " 'Thailand',\n",
       " 'Moldova',\n",
       " 'Albania',\n",
       " 'Algeria',\n",
       " 'Brunei',\n",
       " 'Mauritius',\n",
       " 'Cameroon',\n",
       " 'Venezuela']"
      ]
     },
     "execution_count": 24,
     "metadata": {},
     "output_type": "execute_result"
    }
   ],
   "source": [
    "# check value counts\n",
    "list(df_master.country.value_counts().index)"
   ]
  },
  {
   "cell_type": "code",
   "execution_count": 25,
   "id": "2258a4e3",
   "metadata": {},
   "outputs": [],
   "source": [
    "df.loc[df[\"country\"] == \"United States of America\", \"country\"] = \"United States\""
   ]
  },
  {
   "cell_type": "code",
   "execution_count": 26,
   "id": "6bb1041d",
   "metadata": {},
   "outputs": [
    {
     "name": "stdout",
     "output_type": "stream",
     "text": [
      "United states 0.6025612718039303\n",
      "United Kingdom 0.10907485096047692\n"
     ]
    }
   ],
   "source": [
    "# check proportion of top 2 values\n",
    "\n",
    "print(\"United states\", df.country.value_counts()[0]/len(df))\n",
    "\n",
    "print(\"United Kingdom\", df.country.value_counts()[1]/len(df))"
   ]
  },
  {
   "cell_type": "markdown",
   "id": "4b970185",
   "metadata": {},
   "source": [
    "## col 4"
   ]
  },
  {
   "cell_type": "code",
   "execution_count": 27,
   "id": "83f680b6",
   "metadata": {},
   "outputs": [
    {
     "data": {
      "text/plain": [
       "0      2723\n",
       "No     1096\n",
       "1       546\n",
       "Yes     146\n",
       "Name: are you self-employed?, dtype: int64"
      ]
     },
     "execution_count": 27,
     "metadata": {},
     "output_type": "execute_result"
    }
   ],
   "source": [
    "# are you self-employed?\n",
    "\n",
    "df[\"are you self-employed?\"].value_counts()"
   ]
  },
  {
   "cell_type": "code",
   "execution_count": 28,
   "id": "074b57d9",
   "metadata": {},
   "outputs": [
    {
     "data": {
      "text/plain": [
       "0.000000    3819\n",
       "1.000000     692\n",
       "Name: are you self-employed?, dtype: int64"
      ]
     },
     "execution_count": 28,
     "metadata": {},
     "output_type": "execute_result"
    }
   ],
   "source": [
    "df[\"are you self-employed?\"] = df[\"are you self-employed?\"].map({\"Yes\": 1, \"No\": 0, 1: 1, 0:0})\n",
    "\n",
    "df[\"are you self-employed?\"].value_counts()"
   ]
  },
  {
   "cell_type": "markdown",
   "id": "fba262e3",
   "metadata": {},
   "source": [
    "## col 5"
   ]
  },
  {
   "cell_type": "code",
   "execution_count": 29,
   "id": "cfca755c",
   "metadata": {},
   "outputs": [
    {
     "data": {
      "text/plain": [
       "0        IL\n",
       "1        IN\n",
       "2       NaN\n",
       "3       NaN\n",
       "4        TX\n",
       "       ... \n",
       "4524    NaN\n",
       "4525    NaN\n",
       "4526    NaN\n",
       "4527    NaN\n",
       "4528    NaN\n",
       "Name: if you live in the united states, which state or territory do you live in?, Length: 4529, dtype: object"
      ]
     },
     "execution_count": 29,
     "metadata": {},
     "output_type": "execute_result"
    }
   ],
   "source": [
    "# if you live in the united states, which state or territory do you live in?\n",
    "\n",
    "df[\"if you live in the united states, which state or territory do you live in?\"]"
   ]
  },
  {
   "cell_type": "markdown",
   "id": "b60d23eb",
   "metadata": {},
   "source": [
    "**dropping the column because it gives no information on states in different countries**"
   ]
  },
  {
   "cell_type": "code",
   "execution_count": 30,
   "id": "92512334",
   "metadata": {},
   "outputs": [],
   "source": [
    "df.drop(\"if you live in the united states, which state or territory do you live in?\", axis = 1, inplace = True)"
   ]
  },
  {
   "cell_type": "code",
   "execution_count": 31,
   "id": "cbfcdd2c",
   "metadata": {},
   "outputs": [
    {
     "data": {
      "text/plain": [
       "Index(['age', 'gender', 'country', 'are you self-employed?',\n",
       "       'do you have a family history of mental illness?',\n",
       "       'have you sought treatment for a mental health condition?',\n",
       "       'if you have a mental health condition, do you feel that it interferes with your work?',\n",
       "       'how many employees does your company or organization have?',\n",
       "       'is your employer primarily a tech company/organization?',\n",
       "       'does your employer provide mental health benefits?',\n",
       "       'do you know the options for mental health care your employer provides?',\n",
       "       'has your employer ever discussed mental health as part of an employee wellness program?',\n",
       "       'does your employer provide resources to learn more about mental health issues and how to seek help?',\n",
       "       'is your anonymity protected if you choose to take advantage of mental health or substance abuse treatment resources?',\n",
       "       'how easy is it for you to take medical leave for a mental health condition?',\n",
       "       'would you be willing to discuss a mental health issue with your coworkers?',\n",
       "       'would you be willing to discuss a mental health issue with your direct supervisor(s)?',\n",
       "       'would you bring up a mental health issue with a potential employer in an interview?',\n",
       "       'would you bring up a physical health issue with a potential employer in an interview?',\n",
       "       'have you heard of or observed negative consequences for coworkers with mental health conditions in your workplace?',\n",
       "       'year'],\n",
       "      dtype='object')"
      ]
     },
     "execution_count": 31,
     "metadata": {},
     "output_type": "execute_result"
    }
   ],
   "source": [
    "df.columns"
   ]
  },
  {
   "cell_type": "markdown",
   "id": "c94ac468",
   "metadata": {},
   "source": [
    "## col 6"
   ]
  },
  {
   "cell_type": "code",
   "execution_count": 32,
   "id": "d24f5038",
   "metadata": {},
   "outputs": [
    {
     "name": "stdout",
     "output_type": "stream",
     "text": [
      "0\n"
     ]
    },
    {
     "data": {
      "text/plain": [
       "Yes             1978\n",
       "No              1848\n",
       "I don't know     703\n",
       "Name: do you have a family history of mental illness?, dtype: int64"
      ]
     },
     "execution_count": 32,
     "metadata": {},
     "output_type": "execute_result"
    }
   ],
   "source": [
    "# family history\n",
    "\n",
    "print(df[\"do you have a family history of mental illness?\"].isnull().sum())\n",
    "\n",
    "df[\"do you have a family history of mental illness?\"].value_counts()\n",
    "\n",
    "\n"
   ]
  },
  {
   "cell_type": "code",
   "execution_count": 33,
   "id": "2390c2cc",
   "metadata": {
    "scrolled": true
   },
   "outputs": [
    {
     "data": {
      "text/plain": [
       "Yes      1978\n",
       "No       1848\n",
       "Maybe     703\n",
       "Name: do you have a family history of mental illness?, dtype: int64"
      ]
     },
     "execution_count": 33,
     "metadata": {},
     "output_type": "execute_result"
    }
   ],
   "source": [
    "df[\"do you have a family history of mental illness?\"] = df[\"do you have a family history of mental illness?\"].map({\"I don't know\": \"Maybe\", \"Yes\": \"Yes\", \"No\": \"No\"})\n",
    "\n",
    "df[\"do you have a family history of mental illness?\"].value_counts()"
   ]
  },
  {
   "cell_type": "code",
   "execution_count": 34,
   "id": "abbf23d5",
   "metadata": {},
   "outputs": [
    {
     "data": {
      "text/plain": [
       "Index(['age', 'gender', 'country', 'are you self-employed?',\n",
       "       'do you have a family history of mental illness?',\n",
       "       'have you sought treatment for a mental health condition?',\n",
       "       'if you have a mental health condition, do you feel that it interferes with your work?',\n",
       "       'how many employees does your company or organization have?',\n",
       "       'is your employer primarily a tech company/organization?',\n",
       "       'does your employer provide mental health benefits?',\n",
       "       'do you know the options for mental health care your employer provides?',\n",
       "       'has your employer ever discussed mental health as part of an employee wellness program?',\n",
       "       'does your employer provide resources to learn more about mental health issues and how to seek help?',\n",
       "       'is your anonymity protected if you choose to take advantage of mental health or substance abuse treatment resources?',\n",
       "       'how easy is it for you to take medical leave for a mental health condition?',\n",
       "       'would you be willing to discuss a mental health issue with your coworkers?',\n",
       "       'would you be willing to discuss a mental health issue with your direct supervisor(s)?',\n",
       "       'would you bring up a mental health issue with a potential employer in an interview?',\n",
       "       'would you bring up a physical health issue with a potential employer in an interview?',\n",
       "       'have you heard of or observed negative consequences for coworkers with mental health conditions in your workplace?',\n",
       "       'year'],\n",
       "      dtype='object')"
      ]
     },
     "execution_count": 34,
     "metadata": {},
     "output_type": "execute_result"
    }
   ],
   "source": [
    "df.columns"
   ]
  },
  {
   "cell_type": "markdown",
   "id": "fda10f66",
   "metadata": {},
   "source": [
    "## col 7"
   ]
  },
  {
   "cell_type": "code",
   "execution_count": 35,
   "id": "f6070a13",
   "metadata": {},
   "outputs": [
    {
     "data": {
      "text/plain": [
       "1      1921\n",
       "0      1348\n",
       "Yes     637\n",
       "No      623\n",
       "Name: have you sought treatment for a mental health condition?, dtype: int64"
      ]
     },
     "metadata": {},
     "output_type": "display_data"
    }
   ],
   "source": [
    "# treatment\n",
    "\n",
    "display(df[\"have you sought treatment for a mental health condition?\"].value_counts())"
   ]
  },
  {
   "cell_type": "code",
   "execution_count": 36,
   "id": "24b9c038",
   "metadata": {},
   "outputs": [
    {
     "data": {
      "text/plain": [
       "1    2558\n",
       "0    1971\n",
       "Name: have you sought treatment for a mental health condition?, dtype: int64"
      ]
     },
     "execution_count": 36,
     "metadata": {},
     "output_type": "execute_result"
    }
   ],
   "source": [
    "df[\"have you sought treatment for a mental health condition?\"] = df[\"have you sought treatment for a mental health condition?\"].map({\"Yes\": 1, \"No\": 0, 1:1, 0:0})\n",
    "df[\"have you sought treatment for a mental health condition?\"].value_counts()"
   ]
  },
  {
   "cell_type": "markdown",
   "id": "62506bb4",
   "metadata": {},
   "source": [
    "## col 8"
   ]
  },
  {
   "cell_type": "code",
   "execution_count": 37,
   "id": "42aedab6",
   "metadata": {},
   "outputs": [],
   "source": [
    "# how many employees does your company or organization have?\n",
    "\n",
    "df[\"how many employees does your company or organization have?\"].value_counts()\n",
    "\n",
    "df[\"how many employees does your company or organization have?\"] = df[\"how many employees does your company or organization have?\"].map({\"01-May\": \"1-5\",\n",
    "                                                                         \"Jun-25\": \"6-25\",\n",
    "                                                                         \"25-Jun\": \"6-25\",\n",
    "                                                                         \"05-Jan \": \"1-5\",\n",
    "                                                                     \"More than 1000\": \"More than 1000\",\n",
    "                                                                     \"26-100\": \"26-100\",\n",
    "                                                                     \"100-500\": \"100-500\",\n",
    "                                                                     \"6-25\": \"6-25\",\n",
    "                                                                     \"500-1000\": \"500-1000\",\n",
    "                                                                     \"1-5\": \"1-5\"})\n",
    "\n",
    "\n"
   ]
  },
  {
   "cell_type": "code",
   "execution_count": 38,
   "id": "9c4281be",
   "metadata": {},
   "outputs": [
    {
     "data": {
      "text/plain": [
       "More than 1000    1032\n",
       "26-100             872\n",
       "100-500            834\n",
       "6-25               710\n",
       "500-1000           276\n",
       "1-5                247\n",
       "Name: how many employees does your company or organization have?, dtype: int64"
      ]
     },
     "execution_count": 38,
     "metadata": {},
     "output_type": "execute_result"
    }
   ],
   "source": [
    "# recheck\n",
    "\n",
    "df[\"how many employees does your company or organization have?\"].value_counts()"
   ]
  },
  {
   "cell_type": "markdown",
   "id": "ef4b1e23",
   "metadata": {},
   "source": [
    "## col 9"
   ]
  },
  {
   "cell_type": "code",
   "execution_count": 39,
   "id": "f13b014c",
   "metadata": {},
   "outputs": [
    {
     "data": {
      "text/plain": [
       "1.0    2029\n",
       "Yes    1031\n",
       "0.0     694\n",
       "No      229\n",
       "Name: is your employer primarily a tech company/organization?, dtype: int64"
      ]
     },
     "metadata": {},
     "output_type": "display_data"
    }
   ],
   "source": [
    "# is your employer primarily a tech company/organization?\n",
    "\n",
    "display(df[\"is your employer primarily a tech company/organization?\"].value_counts())\n",
    "\n"
   ]
  },
  {
   "cell_type": "code",
   "execution_count": 40,
   "id": "61394383",
   "metadata": {},
   "outputs": [
    {
     "data": {
      "text/plain": [
       "1.000000    3060\n",
       "0.000000     923\n",
       "Name: is your employer primarily a tech company/organization?, dtype: int64"
      ]
     },
     "execution_count": 40,
     "metadata": {},
     "output_type": "execute_result"
    }
   ],
   "source": [
    "df[\"is your employer primarily a tech company/organization?\"] = df[\"is your employer primarily a tech company/organization?\"].map({\"Yes\": 1, \"No\": 0, 1:1, 0:0})\n",
    "\n",
    "df[\"is your employer primarily a tech company/organization?\"].value_counts()"
   ]
  },
  {
   "cell_type": "markdown",
   "id": "48ae93b8",
   "metadata": {},
   "source": [
    "## col 10"
   ]
  },
  {
   "cell_type": "code",
   "execution_count": 41,
   "id": "bbe9a94d",
   "metadata": {},
   "outputs": [
    {
     "data": {
      "text/plain": [
       "Yes                                1698\n",
       "No                                  786\n",
       "I don't know                        726\n",
       "Don't know                          408\n",
       "Some did                             92\n",
       "Not eligible for coverage / N/A      83\n",
       "No, none did                         78\n",
       "Not eligible for coverage / NA       56\n",
       "Yes, they all did                    48\n",
       "Name: does your employer provide mental health benefits?, dtype: int64"
      ]
     },
     "execution_count": 41,
     "metadata": {},
     "output_type": "execute_result"
    }
   ],
   "source": [
    "### does your employer provide mental health benefits?  \n",
    "\n",
    "df['does your employer provide mental health benefits?'].value_counts()"
   ]
  },
  {
   "cell_type": "code",
   "execution_count": 42,
   "id": "4ddb2abb",
   "metadata": {},
   "outputs": [],
   "source": [
    "df['does your employer provide mental health benefits?'].replace(['Yes','Yes, they all did'],'Yes',inplace=True)\n",
    "df['does your employer provide mental health benefits?'].replace(['No','Not eligible for coverage / N/A',\n",
    "                                                                  'No, none did', 'Not eligible for coverage / NA'],'No',inplace=True)\n",
    "df['does your employer provide mental health benefits?'].replace([\"I don't know\",\"Don't know\",'Some did'],'Maybe',inplace=True)\n"
   ]
  },
  {
   "cell_type": "code",
   "execution_count": 43,
   "id": "9ead36ef",
   "metadata": {},
   "outputs": [
    {
     "data": {
      "text/plain": [
       "Yes      1746\n",
       "Maybe    1226\n",
       "No       1003\n",
       "Name: does your employer provide mental health benefits?, dtype: int64"
      ]
     },
     "execution_count": 43,
     "metadata": {},
     "output_type": "execute_result"
    }
   ],
   "source": [
    "df['does your employer provide mental health benefits?'].value_counts()"
   ]
  },
  {
   "cell_type": "markdown",
   "id": "0b03dad4",
   "metadata": {},
   "source": [
    "## col 11"
   ]
  },
  {
   "cell_type": "code",
   "execution_count": 44,
   "id": "3310bb3f",
   "metadata": {},
   "outputs": [
    {
     "data": {
      "text/plain": [
       "No               1614\n",
       "Yes              1407\n",
       "I am not sure     352\n",
       "Not sure          314\n",
       "Name: do you know the options for mental health care your employer provides?, dtype: int64"
      ]
     },
     "execution_count": 44,
     "metadata": {},
     "output_type": "execute_result"
    }
   ],
   "source": [
    "### do you know the options for mental health care your employer provides?\n",
    "\n",
    "df['do you know the options for mental health care your employer provides?'].value_counts()"
   ]
  },
  {
   "cell_type": "code",
   "execution_count": 45,
   "id": "2e8a431e",
   "metadata": {},
   "outputs": [
    {
     "data": {
      "text/plain": [
       "No       1614\n",
       "Yes      1407\n",
       "Maybe     666\n",
       "Name: do you know the options for mental health care your employer provides?, dtype: int64"
      ]
     },
     "execution_count": 45,
     "metadata": {},
     "output_type": "execute_result"
    }
   ],
   "source": [
    "df['do you know the options for mental health care your employer provides?'].replace(['I am not sure','Not sure'],'Maybe',inplace=True)\n",
    "\n",
    "df['do you know the options for mental health care your employer provides?'].value_counts()"
   ]
  },
  {
   "cell_type": "markdown",
   "id": "ab90d096",
   "metadata": {},
   "source": [
    "## col 12"
   ]
  },
  {
   "cell_type": "code",
   "execution_count": 46,
   "id": "ad4e2276",
   "metadata": {},
   "outputs": [
    {
     "data": {
      "text/plain": [
       "No       2640\n",
       "Yes       872\n",
       "Maybe     434\n",
       "Name: has your employer ever discussed mental health as part of an employee wellness program?, dtype: int64"
      ]
     },
     "execution_count": 46,
     "metadata": {},
     "output_type": "execute_result"
    }
   ],
   "source": [
    "## has your employer ever discussed mental health as part of an employee wellness program?\n",
    "\n",
    "\n",
    "df['has your employer ever discussed mental health as part of an employee wellness program?'].value_counts()\n",
    "\n",
    "df['has your employer ever discussed mental health as part of an employee wellness program?'].\\\n",
    "replace(['Yes','Yes, they all did',True],'Yes',inplace=True)\n",
    "\n",
    "df['has your employer ever discussed mental health as part of an employee wellness program?'].\\\n",
    "replace(['No',False,'None did'],'No',inplace=True)\n",
    "\n",
    "df['has your employer ever discussed mental health as part of an employee wellness program?'].\\\n",
    "replace([\"I don't know\",\"Don't know\",'Some did'],'Maybe',inplace=True)\n",
    "\n",
    "df['has your employer ever discussed mental health as part of an employee wellness program?'].value_counts()"
   ]
  },
  {
   "cell_type": "markdown",
   "id": "6e158cc6",
   "metadata": {},
   "source": [
    "## col 13"
   ]
  },
  {
   "cell_type": "code",
   "execution_count": 47,
   "id": "649b234e",
   "metadata": {},
   "outputs": [
    {
     "data": {
      "text/plain": [
       "No              1850\n",
       "Yes             1053\n",
       "I don't know     717\n",
       "Don't know       363\n",
       "Name: does your employer provide resources to learn more about mental health issues and how to seek help?, dtype: int64"
      ]
     },
     "execution_count": 47,
     "metadata": {},
     "output_type": "execute_result"
    }
   ],
   "source": [
    "# does your employer provide resources to learn more about mental health issues and how to seek help? \n",
    "\n",
    "df['does your employer provide resources to learn more about mental health issues and how to seek help?'].value_counts()"
   ]
  },
  {
   "cell_type": "code",
   "execution_count": 48,
   "id": "f00fd9be",
   "metadata": {},
   "outputs": [
    {
     "data": {
      "text/plain": [
       "No       1850\n",
       "Maybe    1080\n",
       "Yes      1053\n",
       "Name: does your employer provide resources to learn more about mental health issues and how to seek help?, dtype: int64"
      ]
     },
     "execution_count": 48,
     "metadata": {},
     "output_type": "execute_result"
    }
   ],
   "source": [
    "df['does your employer provide resources to learn more about mental health issues and how to seek help?'].\\\n",
    "replace([\"I don't know\",\"Don't know\"],'Maybe',inplace=True)\n",
    "\n",
    "df['does your employer provide resources to learn more about mental health issues and how to seek help?'].value_counts()"
   ]
  },
  {
   "cell_type": "markdown",
   "id": "de68d838",
   "metadata": {},
   "source": [
    "## col 14"
   ]
  },
  {
   "cell_type": "code",
   "execution_count": 49,
   "id": "4f4064db",
   "metadata": {},
   "outputs": [
    {
     "data": {
      "text/plain": [
       "I don't know    1690\n",
       "Yes             1235\n",
       "Don't know       820\n",
       "No               238\n",
       "Name: is your anonymity protected if you choose to take advantage of mental health or substance abuse treatment resources?, dtype: int64"
      ]
     },
     "execution_count": 49,
     "metadata": {},
     "output_type": "execute_result"
    }
   ],
   "source": [
    "df['is your anonymity protected if you choose to take advantage of mental health or substance abuse treatment resources?'].value_counts()"
   ]
  },
  {
   "cell_type": "code",
   "execution_count": 50,
   "id": "61870465",
   "metadata": {},
   "outputs": [],
   "source": [
    "def transform (val):\n",
    "    if val == \"Don't know\":\n",
    "        return 'Maybe'\n",
    "    elif val == \"I don't know\":\n",
    "        return 'Maybe'\n",
    "    else: \n",
    "        return val"
   ]
  },
  {
   "cell_type": "code",
   "execution_count": 51,
   "id": "a922ed9b",
   "metadata": {},
   "outputs": [],
   "source": [
    "df['anonymity'] = df['is your anonymity protected if you choose to take advantage of mental health or substance abuse treatment resources?'].apply(transform)"
   ]
  },
  {
   "cell_type": "code",
   "execution_count": 52,
   "id": "11ad472c",
   "metadata": {},
   "outputs": [
    {
     "data": {
      "text/plain": [
       "Maybe    2510\n",
       "Yes      1235\n",
       "No        238\n",
       "Name: anonymity, dtype: int64"
      ]
     },
     "execution_count": 52,
     "metadata": {},
     "output_type": "execute_result"
    }
   ],
   "source": [
    "df['anonymity'].value_counts()"
   ]
  },
  {
   "cell_type": "markdown",
   "id": "5e7d8b45",
   "metadata": {},
   "source": [
    "## col 15"
   ]
  },
  {
   "cell_type": "code",
   "execution_count": 53,
   "id": "5026fcf6",
   "metadata": {},
   "outputs": [],
   "source": [
    "df['how easy is it for you to take medical leave for a mental health condition?'].value_counts()\n",
    "\n",
    "def transform (val):\n",
    "    if val == \"Somewhat easy\":\n",
    "        return 'Easy'\n",
    "    elif val == \"Very easy\":\n",
    "        return 'Easy'\n",
    "    elif val == \"Don't know\":\n",
    "        return 'Maybe'\n",
    "    elif val == \"I don't know\":\n",
    "        return 'Maybe'\n",
    "    elif val == \"Neither easy nor difficult\":\n",
    "        return 'Maybe'\n",
    "    elif val == \"Somewhat difficult\":\n",
    "        return 'Difficult'\n",
    "    elif val == \"Very difficult\":\n",
    "        return 'Difficult'\n",
    "    elif val == \"Difficult\":\n",
    "        return 'Difficult'\n",
    "    else: \n",
    "        return val"
   ]
  },
  {
   "cell_type": "code",
   "execution_count": 54,
   "id": "ed6d21c6",
   "metadata": {},
   "outputs": [],
   "source": [
    "df['Leave'] = df['how easy is it for you to take medical leave for a mental health condition?'].apply(transform)\n",
    "\n",
    "df['Leave'] = df['how easy is it for you to take medical leave for a mental health condition?'].apply(transform)"
   ]
  },
  {
   "cell_type": "markdown",
   "id": "1f09d067",
   "metadata": {},
   "source": [
    "## col 16"
   ]
  },
  {
   "cell_type": "code",
   "execution_count": 55,
   "id": "5aa1d0f1",
   "metadata": {},
   "outputs": [],
   "source": [
    "df['would you be willing to discuss a mental health issue with your coworkers?'].value_counts()\n",
    "\n",
    "def transform (val):\n",
    "    if val == \"Some of them\":\n",
    "        return 'Maybe'\n",
    "    elif val == \"Physical health\":\n",
    "        return 'No'\n",
    "    elif val == \"Same level of comfort for each\":\n",
    "        return 'Yes'\n",
    "    elif val == \"Mental health\":\n",
    "        return 'Yes'\n",
    "    else: \n",
    "        return val"
   ]
  },
  {
   "cell_type": "code",
   "execution_count": 56,
   "id": "84c5ca1b",
   "metadata": {},
   "outputs": [
    {
     "data": {
      "text/plain": [
       "Maybe    1648\n",
       "No       1345\n",
       "Yes       990\n",
       "Name: Coworkers_dis, dtype: int64"
      ]
     },
     "execution_count": 56,
     "metadata": {},
     "output_type": "execute_result"
    }
   ],
   "source": [
    "df['Coworkers_dis'] = df['would you be willing to discuss a mental health issue with your coworkers?'].apply(transform)\n",
    "\n",
    "df['Coworkers_dis'].value_counts()\n",
    "\n"
   ]
  },
  {
   "cell_type": "markdown",
   "id": "25b5aeb6",
   "metadata": {},
   "source": [
    "## col 17"
   ]
  },
  {
   "cell_type": "code",
   "execution_count": 57,
   "id": "2f2c6ee8",
   "metadata": {},
   "outputs": [],
   "source": [
    "df['would you be willing to discuss a mental health issue with your direct supervisor(s)?'].value_counts()\n",
    "\n",
    "def transform (val):\n",
    "    if val == \"Some of them\":\n",
    "        return 'Maybe'\n",
    "    elif val == \"No, none of my previous supervisors\":\n",
    "        return 'No'\n",
    "    elif val == \"Yes, all of my previous supervisors\":\n",
    "        return 'Yes'\n",
    "    elif val == \"I don't know\":\n",
    "        return 'Maybe'\n",
    "    elif val == \"Some of my previous supervisors\":\n",
    "        return 'No'\n",
    "    else: \n",
    "        return val"
   ]
  },
  {
   "cell_type": "markdown",
   "id": "4edf4ffd",
   "metadata": {},
   "source": [
    "## col 18"
   ]
  },
  {
   "cell_type": "code",
   "execution_count": 58,
   "id": "e2f90118",
   "metadata": {},
   "outputs": [
    {
     "data": {
      "text/plain": [
       "No       1479\n",
       "Yes      1367\n",
       "Maybe    1090\n",
       "Name: supervisor_disc, dtype: int64"
      ]
     },
     "execution_count": 58,
     "metadata": {},
     "output_type": "execute_result"
    }
   ],
   "source": [
    "df['supervisor_disc'] = df['would you be willing to discuss a mental health issue with your direct supervisor(s)?'].apply(transform)\n",
    "\n",
    "df['supervisor_disc'].value_counts()"
   ]
  },
  {
   "cell_type": "markdown",
   "id": "5406779b",
   "metadata": {},
   "source": [
    "## col 19"
   ]
  },
  {
   "cell_type": "code",
   "execution_count": 59,
   "id": "54b4b85d",
   "metadata": {},
   "outputs": [
    {
     "data": {
      "text/plain": [
       "No       3048\n",
       "Maybe    1159\n",
       "Yes       322\n",
       "Name: would you bring up a mental health issue with a potential employer in an interview?, dtype: int64"
      ]
     },
     "execution_count": 59,
     "metadata": {},
     "output_type": "execute_result"
    }
   ],
   "source": [
    "# would you bring up a mental health issue with a potential employer in an interview?\n",
    "\n",
    "df[\"would you bring up a mental health issue with a potential employer in an interview?\"].value_counts()\n"
   ]
  },
  {
   "cell_type": "markdown",
   "id": "0dd8f480",
   "metadata": {},
   "source": [
    "## col 20"
   ]
  },
  {
   "cell_type": "code",
   "execution_count": 60,
   "id": "bd485f3a",
   "metadata": {},
   "outputs": [
    {
     "data": {
      "text/plain": [
       "Maybe    1843\n",
       "No       1644\n",
       "Yes       986\n",
       "Name: would you bring up a physical health issue with a potential employer in an interview?, dtype: int64"
      ]
     },
     "execution_count": 60,
     "metadata": {},
     "output_type": "execute_result"
    }
   ],
   "source": [
    "# would you bring up a physical health issue with a potential employer in an interview?\n",
    "\n",
    "df[\"would you bring up a physical health issue with a potential employer in an interview?\"].value_counts()"
   ]
  },
  {
   "cell_type": "markdown",
   "id": "c6280d96",
   "metadata": {},
   "source": [
    "## col 21"
   ]
  },
  {
   "cell_type": "code",
   "execution_count": 61,
   "id": "49ba4bdc",
   "metadata": {},
   "outputs": [
    {
     "data": {
      "text/plain": [
       "No                                2977\n",
       "Yes                                547\n",
       "Maybe                              260\n",
       "Maybe/Not sure                      48\n",
       "Yes, I observed                     33\n",
       "Yes, I experienced                  24\n",
       "I've always been self-employed       1\n",
       "Name: have you heard of or observed negative consequences for coworkers with mental health conditions in your workplace?, dtype: int64"
      ]
     },
     "execution_count": 61,
     "metadata": {},
     "output_type": "execute_result"
    }
   ],
   "source": [
    "# have you heard of or observed negative consequences for coworkers with mental health conditions in your workplace?\n",
    "\n",
    "df[\"have you heard of or observed negative consequences for coworkers with mental health conditions in your workplace?\"].value_counts()"
   ]
  },
  {
   "cell_type": "code",
   "execution_count": 62,
   "id": "626f6b85",
   "metadata": {},
   "outputs": [],
   "source": [
    "# clean\n",
    "\n",
    "df[\"have you heard of or observed negative consequences for coworkers with mental health conditions in your workplace?\"].replace([\"Maybe/Not sure\"], \n",
    "                                                                                                                                 \"Maybe\", \n",
    "                                                                                                                                 inplace = True)\n",
    "\n",
    "df[\"have you heard of or observed negative consequences for coworkers with mental health conditions in your workplace?\"].replace([\"Yes, I observed\",\n",
    "                                                                                                                                 \"Yes, I experienced\"], \n",
    "                                                                                                                                 \"Yes\", \n",
    "                                                                                                                                 inplace = True)\n",
    "\n",
    "df[\"have you heard of or observed negative consequences for coworkers with mental health conditions in your workplace?\"].replace([\"I've always been self-employed\"],\n",
    "                                                                                                                                \"No\", \n",
    "                                                                                                                                inplace = True)"
   ]
  },
  {
   "cell_type": "code",
   "execution_count": 63,
   "id": "354ca589",
   "metadata": {},
   "outputs": [
    {
     "data": {
      "text/plain": [
       "No       2978\n",
       "Yes       604\n",
       "Maybe     308\n",
       "Name: have you heard of or observed negative consequences for coworkers with mental health conditions in your workplace?, dtype: int64"
      ]
     },
     "execution_count": 63,
     "metadata": {},
     "output_type": "execute_result"
    }
   ],
   "source": [
    "# Re check\n",
    "\n",
    "df[\"have you heard of or observed negative consequences for coworkers with mental health conditions in your workplace?\"].value_counts()"
   ]
  },
  {
   "cell_type": "code",
   "execution_count": 64,
   "id": "f282efc1",
   "metadata": {},
   "outputs": [
    {
     "data": {
      "text/plain": [
       "25"
      ]
     },
     "execution_count": 64,
     "metadata": {},
     "output_type": "execute_result"
    }
   ],
   "source": [
    "len(df.columns)"
   ]
  },
  {
   "cell_type": "markdown",
   "id": "b74cff65",
   "metadata": {},
   "source": [
    "## col 22"
   ]
  },
  {
   "cell_type": "code",
   "execution_count": 65,
   "id": "fecb4c66",
   "metadata": {},
   "outputs": [
    {
     "data": {
      "text/plain": [
       "2016    1433\n",
       "2014    1260\n",
       "2017     756\n",
       "2018     417\n",
       "2019     352\n",
       "2020     180\n",
       "2021     131\n",
       "Name: year, dtype: int64"
      ]
     },
     "execution_count": 65,
     "metadata": {},
     "output_type": "execute_result"
    }
   ],
   "source": [
    "# year\n",
    "\n",
    "df[\"year\"].value_counts()"
   ]
  },
  {
   "cell_type": "markdown",
   "id": "bee121bf",
   "metadata": {},
   "source": [
    "# Data Cleaning: rename columns"
   ]
  },
  {
   "cell_type": "code",
   "execution_count": 66,
   "id": "b6fbdf8a",
   "metadata": {},
   "outputs": [
    {
     "data": {
      "text/plain": [
       "Index(['age', 'gender', 'country', 'are you self-employed?',\n",
       "       'do you have a family history of mental illness?',\n",
       "       'have you sought treatment for a mental health condition?',\n",
       "       'if you have a mental health condition, do you feel that it interferes with your work?',\n",
       "       'how many employees does your company or organization have?',\n",
       "       'is your employer primarily a tech company/organization?',\n",
       "       'does your employer provide mental health benefits?',\n",
       "       'do you know the options for mental health care your employer provides?',\n",
       "       'has your employer ever discussed mental health as part of an employee wellness program?',\n",
       "       'does your employer provide resources to learn more about mental health issues and how to seek help?',\n",
       "       'is your anonymity protected if you choose to take advantage of mental health or substance abuse treatment resources?',\n",
       "       'how easy is it for you to take medical leave for a mental health condition?',\n",
       "       'would you be willing to discuss a mental health issue with your coworkers?',\n",
       "       'would you be willing to discuss a mental health issue with your direct supervisor(s)?',\n",
       "       'would you bring up a mental health issue with a potential employer in an interview?',\n",
       "       'would you bring up a physical health issue with a potential employer in an interview?',\n",
       "       'have you heard of or observed negative consequences for coworkers with mental health conditions in your workplace?',\n",
       "       'year', 'anonymity', 'Leave', 'Coworkers_dis', 'supervisor_disc'],\n",
       "      dtype='object')"
      ]
     },
     "execution_count": 66,
     "metadata": {},
     "output_type": "execute_result"
    }
   ],
   "source": [
    "df.columns"
   ]
  },
  {
   "cell_type": "code",
   "execution_count": 67,
   "id": "02cf312e",
   "metadata": {},
   "outputs": [],
   "source": [
    "# Rename columns\n",
    "df.rename(columns = {\"are you self-employed?\": \"self_employed\",\n",
    "          \"do you have a family history of mental illness?\": \"family_history\",\n",
    "          \"have you sought treatment for a mental health condition?\": \"treatment\",\n",
    "          \"if you have a mental health condition, do you feel that it interferes with your work?\": \"work_interfere\",\n",
    "          \"how many employees does your company or organization have?\": \"no_employees\",\n",
    "          \"is your employer primarily a tech company/organization?\": \"tech_org\",\n",
    "          \"does your employer provide mental health benefits?\": \"ment_health_benefits\",\n",
    "          \"do you know the options for mental health care your employer provides?\": \"employer_option_awareness\",\n",
    "          \"has your employer ever discussed mental health as part of an employee wellness program?\": \"wellness_program_include\",\n",
    "          \"does your employer provide resources to learn more about mental health issues and how to seek help?\": \"resources\",\n",
    "          \"would you bring up a mental health issue with a potential employer in an interview?\": \"ment_interview\",\n",
    "          \"would you bring up a physical health issue with a potential employer in an interview?\": \"phy_interview\",\n",
    "          \"have you heard of or observed negative consequences for coworkers with mental health conditions in your workplace?\": \"neg_conseq_coworkers\"},\n",
    "         inplace = True)\n",
    "\n",
    "df.drop(['is your anonymity protected if you choose to take advantage of mental health or substance abuse treatment resources?',\n",
    "       'how easy is it for you to take medical leave for a mental health condition?',\n",
    "       'would you be willing to discuss a mental health issue with your coworkers?',\n",
    "       'would you be willing to discuss a mental health issue with your direct supervisor(s)?'], axis = 1, inplace = True)\n",
    "# convert to lower\n",
    "df.columns = df.columns.str.lower()"
   ]
  },
  {
   "cell_type": "code",
   "execution_count": 68,
   "id": "5a8a5305",
   "metadata": {},
   "outputs": [],
   "source": [
    "# exports csv\n",
    "\n",
    "df.to_csv(\"df_master2.csv\")"
   ]
  },
  {
   "cell_type": "markdown",
   "id": "3bdcf28b",
   "metadata": {},
   "source": [
    "# Data Cleaning: Missing values"
   ]
  },
  {
   "cell_type": "code",
   "execution_count": 69,
   "id": "a10729ac",
   "metadata": {},
   "outputs": [
    {
     "name": "stdout",
     "output_type": "stream",
     "text": [
      "<class 'pandas.core.frame.DataFrame'>\n",
      "RangeIndex: 4529 entries, 0 to 4528\n",
      "Data columns (total 21 columns):\n",
      " #   Column                     Non-Null Count  Dtype  \n",
      "---  ------                     --------------  -----  \n",
      " 0   age                        4510 non-null   float64\n",
      " 1   gender                     4529 non-null   object \n",
      " 2   country                    4527 non-null   object \n",
      " 3   self_employed              4511 non-null   float64\n",
      " 4   family_history             4529 non-null   object \n",
      " 5   treatment                  4529 non-null   int64  \n",
      " 6   work_interfere             4265 non-null   object \n",
      " 7   no_employees               3971 non-null   object \n",
      " 8   tech_org                   3983 non-null   float64\n",
      " 9   ment_health_benefits       3975 non-null   object \n",
      " 10  employer_option_awareness  3687 non-null   object \n",
      " 11  wellness_program_include   3946 non-null   object \n",
      " 12  resources                  3983 non-null   object \n",
      " 13  ment_interview             4529 non-null   object \n",
      " 14  phy_interview              4473 non-null   object \n",
      " 15  neg_conseq_coworkers       3890 non-null   object \n",
      " 16  year                       4529 non-null   object \n",
      " 17  anonymity                  3983 non-null   object \n",
      " 18  leave                      3983 non-null   object \n",
      " 19  coworkers_dis              3983 non-null   object \n",
      " 20  supervisor_disc            3936 non-null   object \n",
      "dtypes: float64(3), int64(1), object(17)\n",
      "memory usage: 743.2+ KB\n"
     ]
    }
   ],
   "source": [
    "df.info()"
   ]
  },
  {
   "cell_type": "code",
   "execution_count": 70,
   "id": "1286c5a0",
   "metadata": {},
   "outputs": [
    {
     "data": {
      "text/plain": [
       "age                          0.419519\n",
       "gender                       0.000000\n",
       "country                      0.044160\n",
       "self_employed                0.397439\n",
       "family_history               0.000000\n",
       "treatment                    0.000000\n",
       "work_interfere               5.829101\n",
       "no_employees                12.320601\n",
       "tech_org                    12.055641\n",
       "ment_health_benefits        12.232281\n",
       "employer_option_awareness   18.591301\n",
       "wellness_program_include    12.872599\n",
       "resources                   12.055641\n",
       "ment_interview               0.000000\n",
       "phy_interview                1.236476\n",
       "neg_conseq_coworkers        14.109075\n",
       "year                         0.000000\n",
       "anonymity                   12.055641\n",
       "leave                       12.055641\n",
       "coworkers_dis               12.055641\n",
       "supervisor_disc             13.093398\n",
       "dtype: float64"
      ]
     },
     "execution_count": 70,
     "metadata": {},
     "output_type": "execute_result"
    }
   ],
   "source": [
    "df.isna().sum()/len(df.index)*100"
   ]
  },
  {
   "cell_type": "code",
   "execution_count": 71,
   "id": "4daad92d",
   "metadata": {},
   "outputs": [
    {
     "data": {
      "text/plain": [
       "Index(['age', 'gender', 'country', 'self_employed', 'family_history',\n",
       "       'treatment', 'work_interfere', 'no_employees', 'tech_org',\n",
       "       'ment_health_benefits', 'employer_option_awareness',\n",
       "       'wellness_program_include', 'resources', 'ment_interview',\n",
       "       'phy_interview', 'neg_conseq_coworkers', 'year', 'anonymity', 'leave',\n",
       "       'coworkers_dis', 'supervisor_disc'],\n",
       "      dtype='object')"
      ]
     },
     "execution_count": 71,
     "metadata": {},
     "output_type": "execute_result"
    }
   ],
   "source": [
    "df.columns"
   ]
  },
  {
   "cell_type": "code",
   "execution_count": 72,
   "id": "1bc3822d",
   "metadata": {},
   "outputs": [],
   "source": [
    "# revert to string temporarily\n",
    "\n",
    "df[\"tech_org\"] = df[\"tech_org\"].map({1: \"Yes\",\n",
    "                   0: \"No\"})\n",
    "\n",
    "df[\"self_employed\"] = df[\"self_employed\"].map({1: \"Yes\",\n",
    "                   0: \"No\"})\n"
   ]
  },
  {
   "cell_type": "code",
   "execution_count": 73,
   "id": "44efd69b",
   "metadata": {},
   "outputs": [],
   "source": [
    "df.drop(\"year\", axis = 1, inplace = True)\n",
    "df.drop(\"country\", axis = 1, inplace = True)"
   ]
  },
  {
   "cell_type": "markdown",
   "id": "8717e289",
   "metadata": {},
   "source": [
    "**Impute in pipeline**"
   ]
  },
  {
   "cell_type": "markdown",
   "id": "c190ab59",
   "metadata": {},
   "source": [
    "# Data Preprocessing"
   ]
  },
  {
   "cell_type": "code",
   "execution_count": 74,
   "id": "9d60622b",
   "metadata": {},
   "outputs": [],
   "source": [
    "# Pipeline\n",
    "\n",
    "mode_onehot_pipe = Pipeline([\n",
    "    ('encoder', SimpleImputer(strategy = 'most_frequent')),\n",
    "    ('one hot encoder', OneHotEncoder(handle_unknown = 'ignore'))\n",
    "])\n",
    "\n",
    "transformer = ColumnTransformer([\n",
    "    ('one hot', OneHotEncoder(handle_unknown = 'ignore'), ['gender', 'family_history', 'ment_interview']),\n",
    "    \n",
    "    ('mode_onehot_pipe', mode_onehot_pipe, ['self_employed', 'work_interfere', 'no_employees', 'tech_org',\n",
    "       'ment_health_benefits', 'employer_option_awareness',\n",
    "       'wellness_program_include', 'resources',\n",
    "       'phy_interview', 'neg_conseq_coworkers', 'anonymity', \"leave\",\n",
    "       'coworkers_dis', 'supervisor_disc']),\n",
    "    ('iterative', IterativeImputer(max_iter = 10, random_state = 0), ['age'])])"
   ]
  },
  {
   "cell_type": "code",
   "execution_count": 75,
   "id": "5b47816a",
   "metadata": {
    "scrolled": true
   },
   "outputs": [
    {
     "name": "stdout",
     "output_type": "stream",
     "text": [
      "age\n"
     ]
    },
    {
     "data": {
      "text/plain": [
       "30.000000    270\n",
       "32.000000    241\n",
       "29.000000    238\n",
       "31.000000    233\n",
       "28.000000    230\n",
       "34.000000    219\n",
       "27.000000    212\n",
       "33.000000    212\n",
       "35.000000    210\n",
       "26.000000    204\n",
       "37.000000    190\n",
       "38.000000    168\n",
       "25.000000    166\n",
       "36.000000    156\n",
       "39.000000    144\n",
       "24.000000    140\n",
       "40.000000    133\n",
       "23.000000    123\n",
       "42.000000    111\n",
       "41.000000     92\n",
       "22.000000     86\n",
       "43.000000     84\n",
       "45.000000     82\n",
       "44.000000     76\n",
       "46.000000     64\n",
       "21.000000     50\n",
       "47.000000     42\n",
       "49.000000     38\n",
       "50.000000     32\n",
       "48.000000     32\n",
       "51.000000     24\n",
       "19.000000     22\n",
       "20.000000     22\n",
       "55.000000     22\n",
       "54.000000     19\n",
       "52.000000     18\n",
       "53.000000     17\n",
       "57.000000     15\n",
       "56.000000     13\n",
       "18.000000      9\n",
       "63.000000      7\n",
       "61.000000      7\n",
       "59.000000      7\n",
       "58.000000      6\n",
       "62.000000      5\n",
       "60.000000      5\n",
       "64.000000      3\n",
       "65.000000      3\n",
       "67.000000      2\n",
       "66.000000      2\n",
       "74.000000      1\n",
       "72.000000      1\n",
       "17.000000      1\n",
       "70.000000      1\n",
       "Name: age, dtype: int64"
      ]
     },
     "metadata": {},
     "output_type": "display_data"
    },
    {
     "name": "stdout",
     "output_type": "stream",
     "text": [
      "gender\n"
     ]
    },
    {
     "data": {
      "text/plain": [
       "others    2655\n",
       "female    1157\n",
       "male       717\n",
       "Name: gender, dtype: int64"
      ]
     },
     "metadata": {},
     "output_type": "display_data"
    },
    {
     "name": "stdout",
     "output_type": "stream",
     "text": [
      "self_employed\n"
     ]
    },
    {
     "data": {
      "text/plain": [
       "No     3819\n",
       "Yes     692\n",
       "Name: self_employed, dtype: int64"
      ]
     },
     "metadata": {},
     "output_type": "display_data"
    },
    {
     "name": "stdout",
     "output_type": "stream",
     "text": [
      "family_history\n"
     ]
    },
    {
     "data": {
      "text/plain": [
       "Yes      1978\n",
       "No       1848\n",
       "Maybe     703\n",
       "Name: family_history, dtype: int64"
      ]
     },
     "metadata": {},
     "output_type": "display_data"
    },
    {
     "name": "stdout",
     "output_type": "stream",
     "text": [
      "treatment\n"
     ]
    },
    {
     "data": {
      "text/plain": [
       "1    2558\n",
       "0    1971\n",
       "Name: treatment, dtype: int64"
      ]
     },
     "metadata": {},
     "output_type": "display_data"
    },
    {
     "name": "stdout",
     "output_type": "stream",
     "text": [
      "work_interfere\n"
     ]
    },
    {
     "data": {
      "text/plain": [
       "Sometimes               1364\n",
       "Not applicable to me    1230\n",
       "Rarely                   933\n",
       "Never                    396\n",
       "Often                    342\n",
       "Name: work_interfere, dtype: int64"
      ]
     },
     "metadata": {},
     "output_type": "display_data"
    },
    {
     "name": "stdout",
     "output_type": "stream",
     "text": [
      "no_employees\n"
     ]
    },
    {
     "data": {
      "text/plain": [
       "More than 1000    1032\n",
       "26-100             872\n",
       "100-500            834\n",
       "6-25               710\n",
       "500-1000           276\n",
       "1-5                247\n",
       "Name: no_employees, dtype: int64"
      ]
     },
     "metadata": {},
     "output_type": "display_data"
    },
    {
     "name": "stdout",
     "output_type": "stream",
     "text": [
      "tech_org\n"
     ]
    },
    {
     "data": {
      "text/plain": [
       "Yes    3060\n",
       "No      923\n",
       "Name: tech_org, dtype: int64"
      ]
     },
     "metadata": {},
     "output_type": "display_data"
    },
    {
     "name": "stdout",
     "output_type": "stream",
     "text": [
      "ment_health_benefits\n"
     ]
    },
    {
     "data": {
      "text/plain": [
       "Yes      1746\n",
       "Maybe    1226\n",
       "No       1003\n",
       "Name: ment_health_benefits, dtype: int64"
      ]
     },
     "metadata": {},
     "output_type": "display_data"
    },
    {
     "name": "stdout",
     "output_type": "stream",
     "text": [
      "employer_option_awareness\n"
     ]
    },
    {
     "data": {
      "text/plain": [
       "No       1614\n",
       "Yes      1407\n",
       "Maybe     666\n",
       "Name: employer_option_awareness, dtype: int64"
      ]
     },
     "metadata": {},
     "output_type": "display_data"
    },
    {
     "name": "stdout",
     "output_type": "stream",
     "text": [
      "wellness_program_include\n"
     ]
    },
    {
     "data": {
      "text/plain": [
       "No       2640\n",
       "Yes       872\n",
       "Maybe     434\n",
       "Name: wellness_program_include, dtype: int64"
      ]
     },
     "metadata": {},
     "output_type": "display_data"
    },
    {
     "name": "stdout",
     "output_type": "stream",
     "text": [
      "resources\n"
     ]
    },
    {
     "data": {
      "text/plain": [
       "No       1850\n",
       "Maybe    1080\n",
       "Yes      1053\n",
       "Name: resources, dtype: int64"
      ]
     },
     "metadata": {},
     "output_type": "display_data"
    },
    {
     "name": "stdout",
     "output_type": "stream",
     "text": [
      "ment_interview\n"
     ]
    },
    {
     "data": {
      "text/plain": [
       "No       3048\n",
       "Maybe    1159\n",
       "Yes       322\n",
       "Name: ment_interview, dtype: int64"
      ]
     },
     "metadata": {},
     "output_type": "display_data"
    },
    {
     "name": "stdout",
     "output_type": "stream",
     "text": [
      "phy_interview\n"
     ]
    },
    {
     "data": {
      "text/plain": [
       "Maybe    1843\n",
       "No       1644\n",
       "Yes       986\n",
       "Name: phy_interview, dtype: int64"
      ]
     },
     "metadata": {},
     "output_type": "display_data"
    },
    {
     "name": "stdout",
     "output_type": "stream",
     "text": [
      "neg_conseq_coworkers\n"
     ]
    },
    {
     "data": {
      "text/plain": [
       "No       2978\n",
       "Yes       604\n",
       "Maybe     308\n",
       "Name: neg_conseq_coworkers, dtype: int64"
      ]
     },
     "metadata": {},
     "output_type": "display_data"
    },
    {
     "name": "stdout",
     "output_type": "stream",
     "text": [
      "anonymity\n"
     ]
    },
    {
     "data": {
      "text/plain": [
       "Maybe    2510\n",
       "Yes      1235\n",
       "No        238\n",
       "Name: anonymity, dtype: int64"
      ]
     },
     "metadata": {},
     "output_type": "display_data"
    },
    {
     "name": "stdout",
     "output_type": "stream",
     "text": [
      "leave\n"
     ]
    },
    {
     "data": {
      "text/plain": [
       "Easy         1741\n",
       "Maybe        1355\n",
       "Difficult     887\n",
       "Name: leave, dtype: int64"
      ]
     },
     "metadata": {},
     "output_type": "display_data"
    },
    {
     "name": "stdout",
     "output_type": "stream",
     "text": [
      "coworkers_dis\n"
     ]
    },
    {
     "data": {
      "text/plain": [
       "Maybe    1648\n",
       "No       1345\n",
       "Yes       990\n",
       "Name: coworkers_dis, dtype: int64"
      ]
     },
     "metadata": {},
     "output_type": "display_data"
    },
    {
     "name": "stdout",
     "output_type": "stream",
     "text": [
      "supervisor_disc\n"
     ]
    },
    {
     "data": {
      "text/plain": [
       "No       1479\n",
       "Yes      1367\n",
       "Maybe    1090\n",
       "Name: supervisor_disc, dtype: int64"
      ]
     },
     "metadata": {},
     "output_type": "display_data"
    }
   ],
   "source": [
    "with pd.option_context(\"display.max_rows\", None):\n",
    "    for col in df.columns:\n",
    "        print(col)\n",
    "        display(df[col].value_counts())"
   ]
  },
  {
   "cell_type": "code",
   "execution_count": 76,
   "id": "e717d427",
   "metadata": {
    "scrolled": true
   },
   "outputs": [
    {
     "name": "stdout",
     "output_type": "stream",
     "text": [
      "<class 'pandas.core.frame.DataFrame'>\n",
      "RangeIndex: 4529 entries, 0 to 4528\n",
      "Data columns (total 19 columns):\n",
      " #   Column                     Non-Null Count  Dtype  \n",
      "---  ------                     --------------  -----  \n",
      " 0   age                        4510 non-null   float64\n",
      " 1   gender                     4529 non-null   object \n",
      " 2   self_employed              4511 non-null   object \n",
      " 3   family_history             4529 non-null   object \n",
      " 4   treatment                  4529 non-null   int64  \n",
      " 5   work_interfere             4265 non-null   object \n",
      " 6   no_employees               3971 non-null   object \n",
      " 7   tech_org                   3983 non-null   object \n",
      " 8   ment_health_benefits       3975 non-null   object \n",
      " 9   employer_option_awareness  3687 non-null   object \n",
      " 10  wellness_program_include   3946 non-null   object \n",
      " 11  resources                  3983 non-null   object \n",
      " 12  ment_interview             4529 non-null   object \n",
      " 13  phy_interview              4473 non-null   object \n",
      " 14  neg_conseq_coworkers       3890 non-null   object \n",
      " 15  anonymity                  3983 non-null   object \n",
      " 16  leave                      3983 non-null   object \n",
      " 17  coworkers_dis              3983 non-null   object \n",
      " 18  supervisor_disc            3936 non-null   object \n",
      "dtypes: float64(1), int64(1), object(17)\n",
      "memory usage: 672.4+ KB\n"
     ]
    }
   ],
   "source": [
    "df.info()"
   ]
  },
  {
   "cell_type": "code",
   "execution_count": null,
   "id": "c3945284",
   "metadata": {},
   "outputs": [],
   "source": []
  },
  {
   "cell_type": "markdown",
   "id": "f515eec0",
   "metadata": {},
   "source": [
    "## define target data"
   ]
  },
  {
   "cell_type": "code",
   "execution_count": 77,
   "id": "ba3892b4",
   "metadata": {},
   "outputs": [
    {
     "data": {
      "text/plain": [
       "1   56.480459\n",
       "0   43.519541\n",
       "Name: treatment, dtype: float64"
      ]
     },
     "execution_count": 77,
     "metadata": {},
     "output_type": "execute_result"
    }
   ],
   "source": [
    "# target var\n",
    "df['treatment'].value_counts()/df.shape[0]*100"
   ]
  },
  {
   "cell_type": "markdown",
   "id": "f1787097",
   "metadata": {},
   "source": [
    "## split"
   ]
  },
  {
   "cell_type": "code",
   "execution_count": 78,
   "id": "363ed3f2",
   "metadata": {},
   "outputs": [],
   "source": [
    "# split dataset\n",
    "X = df.drop('treatment', axis = 1)\n",
    "y = df['treatment']"
   ]
  },
  {
   "cell_type": "code",
   "execution_count": 79,
   "id": "49def83d",
   "metadata": {},
   "outputs": [
    {
     "data": {
      "text/plain": [
       "(4529, 18)"
      ]
     },
     "execution_count": 79,
     "metadata": {},
     "output_type": "execute_result"
    }
   ],
   "source": [
    "X.shape"
   ]
  },
  {
   "cell_type": "code",
   "execution_count": 80,
   "id": "5482c264",
   "metadata": {},
   "outputs": [],
   "source": [
    "# train test split\n",
    "X_train, X_test, y_train, y_test = train_test_split(X,y,\n",
    "                                                   stratify = y,\n",
    "                                                    test_size = 0.3,\n",
    "                                                   random_state = 2022)"
   ]
  },
  {
   "cell_type": "markdown",
   "id": "8caa2d7f",
   "metadata": {},
   "source": [
    "# Cross Validation"
   ]
  },
  {
   "cell_type": "markdown",
   "id": "b372c666",
   "metadata": {},
   "source": [
    "**Intially, we compare different models based on the different metrics, particularly, for our problem, we our interested in Specificity. This is because we don't want to miss any employee showing less willingness to seek help**"
   ]
  },
  {
   "cell_type": "code",
   "execution_count": 81,
   "id": "bf896436",
   "metadata": {},
   "outputs": [],
   "source": [
    "logreg = LogisticRegression()\n",
    "tree = DecisionTreeClassifier(random_state = 2022)\n",
    "knn = KNeighborsClassifier()\n",
    "rf = RandomForestClassifier(random_state = 2022)\n",
    "ada = AdaBoostClassifier(random_state = 2022)\n",
    "grad = GradientBoostingClassifier(random_state = 2022)\n",
    "xgboost = XGBClassifier(random_state = 2022)"
   ]
  },
  {
   "cell_type": "code",
   "execution_count": 82,
   "id": "ce49eca0",
   "metadata": {},
   "outputs": [
    {
     "data": {
      "text/html": [
       "<div>\n",
       "<style scoped>\n",
       "    .dataframe tbody tr th:only-of-type {\n",
       "        vertical-align: middle;\n",
       "    }\n",
       "\n",
       "    .dataframe tbody tr th {\n",
       "        vertical-align: top;\n",
       "    }\n",
       "\n",
       "    .dataframe thead th {\n",
       "        text-align: right;\n",
       "    }\n",
       "</style>\n",
       "<table border=\"1\" class=\"dataframe\">\n",
       "  <thead>\n",
       "    <tr style=\"text-align: right;\">\n",
       "      <th></th>\n",
       "      <th>method</th>\n",
       "      <th>cv score</th>\n",
       "      <th>mean score</th>\n",
       "      <th>std score</th>\n",
       "      <th>recall score on test data</th>\n",
       "    </tr>\n",
       "  </thead>\n",
       "  <tbody>\n",
       "    <tr>\n",
       "      <th>0</th>\n",
       "      <td>Logistic Regression</td>\n",
       "      <td>[0.80447, 0.84078, 0.86313, 0.79888, 0.84637]</td>\n",
       "      <td>0.830726</td>\n",
       "      <td>0.024896</td>\n",
       "      <td>0.860677</td>\n",
       "    </tr>\n",
       "    <tr>\n",
       "      <th>1</th>\n",
       "      <td>Decision Tree Classifier</td>\n",
       "      <td>[0.70112, 0.68436, 0.74022, 0.72905, 0.75698]</td>\n",
       "      <td>0.722346</td>\n",
       "      <td>0.026299</td>\n",
       "      <td>0.744792</td>\n",
       "    </tr>\n",
       "    <tr>\n",
       "      <th>2</th>\n",
       "      <td>KNN Classifier</td>\n",
       "      <td>[0.69553, 0.74022, 0.7067, 0.72905, 0.71788]</td>\n",
       "      <td>0.717877</td>\n",
       "      <td>0.015801</td>\n",
       "      <td>0.735677</td>\n",
       "    </tr>\n",
       "    <tr>\n",
       "      <th>3</th>\n",
       "      <td>Random Forest Classifier</td>\n",
       "      <td>[0.77654, 0.84078, 0.85754, 0.81285, 0.84078]</td>\n",
       "      <td>0.825698</td>\n",
       "      <td>0.028464</td>\n",
       "      <td>0.861979</td>\n",
       "    </tr>\n",
       "    <tr>\n",
       "      <th>4</th>\n",
       "      <td>Ada Boost Classifier</td>\n",
       "      <td>[0.7933, 0.83799, 0.85754, 0.78212, 0.84358]</td>\n",
       "      <td>0.822905</td>\n",
       "      <td>0.029646</td>\n",
       "      <td>0.863281</td>\n",
       "    </tr>\n",
       "    <tr>\n",
       "      <th>5</th>\n",
       "      <td>Gradient Boosting Classifier</td>\n",
       "      <td>[0.7933, 0.84358, 0.8352, 0.80447, 0.84078]</td>\n",
       "      <td>0.823464</td>\n",
       "      <td>0.020557</td>\n",
       "      <td>0.851562</td>\n",
       "    </tr>\n",
       "    <tr>\n",
       "      <th>6</th>\n",
       "      <td>XGB Classifier</td>\n",
       "      <td>[0.78492, 0.82682, 0.8324, 0.77654, 0.81285]</td>\n",
       "      <td>0.806704</td>\n",
       "      <td>0.022304</td>\n",
       "      <td>0.826823</td>\n",
       "    </tr>\n",
       "  </tbody>\n",
       "</table>\n",
       "</div>"
      ],
      "text/plain": [
       "                         method  \\\n",
       "0           Logistic Regression   \n",
       "1      Decision Tree Classifier   \n",
       "2                KNN Classifier   \n",
       "3      Random Forest Classifier   \n",
       "4          Ada Boost Classifier   \n",
       "5  Gradient Boosting Classifier   \n",
       "6                XGB Classifier   \n",
       "\n",
       "                                        cv score  mean score  std score  \\\n",
       "0  [0.80447, 0.84078, 0.86313, 0.79888, 0.84637]    0.830726   0.024896   \n",
       "1  [0.70112, 0.68436, 0.74022, 0.72905, 0.75698]    0.722346   0.026299   \n",
       "2   [0.69553, 0.74022, 0.7067, 0.72905, 0.71788]    0.717877   0.015801   \n",
       "3  [0.77654, 0.84078, 0.85754, 0.81285, 0.84078]    0.825698   0.028464   \n",
       "4   [0.7933, 0.83799, 0.85754, 0.78212, 0.84358]    0.822905   0.029646   \n",
       "5    [0.7933, 0.84358, 0.8352, 0.80447, 0.84078]    0.823464   0.020557   \n",
       "6   [0.78492, 0.82682, 0.8324, 0.77654, 0.81285]    0.806704   0.022304   \n",
       "\n",
       "   recall score on test data  \n",
       "0                   0.860677  \n",
       "1                   0.744792  \n",
       "2                   0.735677  \n",
       "3                   0.861979  \n",
       "4                   0.863281  \n",
       "5                   0.851562  \n",
       "6                   0.826823  "
      ]
     },
     "metadata": {},
     "output_type": "display_data"
    },
    {
     "data": {
      "text/html": [
       "<div>\n",
       "<style scoped>\n",
       "    .dataframe tbody tr th:only-of-type {\n",
       "        vertical-align: middle;\n",
       "    }\n",
       "\n",
       "    .dataframe tbody tr th {\n",
       "        vertical-align: top;\n",
       "    }\n",
       "\n",
       "    .dataframe thead th {\n",
       "        text-align: right;\n",
       "    }\n",
       "</style>\n",
       "<table border=\"1\" class=\"dataframe\">\n",
       "  <thead>\n",
       "    <tr style=\"text-align: right;\">\n",
       "      <th></th>\n",
       "      <th>method</th>\n",
       "      <th>cv score</th>\n",
       "      <th>mean score</th>\n",
       "      <th>std score</th>\n",
       "      <th>precision score on test data</th>\n",
       "    </tr>\n",
       "  </thead>\n",
       "  <tbody>\n",
       "    <tr>\n",
       "      <th>0</th>\n",
       "      <td>Logistic Regression</td>\n",
       "      <td>[0.8, 0.81793, 0.824, 0.82659, 0.81016]</td>\n",
       "      <td>0.815737</td>\n",
       "      <td>0.009692</td>\n",
       "      <td>0.790670</td>\n",
       "    </tr>\n",
       "    <tr>\n",
       "      <th>1</th>\n",
       "      <td>Decision Tree Classifier</td>\n",
       "      <td>[0.7151, 0.72917, 0.72404, 0.73938, 0.7246]</td>\n",
       "      <td>0.726457</td>\n",
       "      <td>0.007906</td>\n",
       "      <td>0.743823</td>\n",
       "    </tr>\n",
       "    <tr>\n",
       "      <th>2</th>\n",
       "      <td>KNN Classifier</td>\n",
       "      <td>[0.73669, 0.73204, 0.7067, 0.75434, 0.73639]</td>\n",
       "      <td>0.733232</td>\n",
       "      <td>0.015313</td>\n",
       "      <td>0.738562</td>\n",
       "    </tr>\n",
       "    <tr>\n",
       "      <th>3</th>\n",
       "      <td>Random Forest Classifier</td>\n",
       "      <td>[0.7809, 0.81351, 0.80577, 0.80387, 0.81793]</td>\n",
       "      <td>0.804398</td>\n",
       "      <td>0.012812</td>\n",
       "      <td>0.801453</td>\n",
       "    </tr>\n",
       "    <tr>\n",
       "      <th>4</th>\n",
       "      <td>Ada Boost Classifier</td>\n",
       "      <td>[0.8, 0.80863, 0.81867, 0.80229, 0.80965]</td>\n",
       "      <td>0.807847</td>\n",
       "      <td>0.006532</td>\n",
       "      <td>0.788347</td>\n",
       "    </tr>\n",
       "    <tr>\n",
       "      <th>5</th>\n",
       "      <td>Gradient Boosting Classifier</td>\n",
       "      <td>[0.79775, 0.81843, 0.82143, 0.82759, 0.81572]</td>\n",
       "      <td>0.816183</td>\n",
       "      <td>0.010025</td>\n",
       "      <td>0.803440</td>\n",
       "    </tr>\n",
       "    <tr>\n",
       "      <th>6</th>\n",
       "      <td>XGB Classifier</td>\n",
       "      <td>[0.79379, 0.80217, 0.77807, 0.79429, 0.80609]</td>\n",
       "      <td>0.794880</td>\n",
       "      <td>0.009624</td>\n",
       "      <td>0.778186</td>\n",
       "    </tr>\n",
       "  </tbody>\n",
       "</table>\n",
       "</div>"
      ],
      "text/plain": [
       "                         method  \\\n",
       "0           Logistic Regression   \n",
       "1      Decision Tree Classifier   \n",
       "2                KNN Classifier   \n",
       "3      Random Forest Classifier   \n",
       "4          Ada Boost Classifier   \n",
       "5  Gradient Boosting Classifier   \n",
       "6                XGB Classifier   \n",
       "\n",
       "                                        cv score  mean score  std score  \\\n",
       "0        [0.8, 0.81793, 0.824, 0.82659, 0.81016]    0.815737   0.009692   \n",
       "1    [0.7151, 0.72917, 0.72404, 0.73938, 0.7246]    0.726457   0.007906   \n",
       "2   [0.73669, 0.73204, 0.7067, 0.75434, 0.73639]    0.733232   0.015313   \n",
       "3   [0.7809, 0.81351, 0.80577, 0.80387, 0.81793]    0.804398   0.012812   \n",
       "4      [0.8, 0.80863, 0.81867, 0.80229, 0.80965]    0.807847   0.006532   \n",
       "5  [0.79775, 0.81843, 0.82143, 0.82759, 0.81572]    0.816183   0.010025   \n",
       "6  [0.79379, 0.80217, 0.77807, 0.79429, 0.80609]    0.794880   0.009624   \n",
       "\n",
       "   precision score on test data  \n",
       "0                      0.790670  \n",
       "1                      0.743823  \n",
       "2                      0.738562  \n",
       "3                      0.801453  \n",
       "4                      0.788347  \n",
       "5                      0.803440  \n",
       "6                      0.778186  "
      ]
     },
     "metadata": {},
     "output_type": "display_data"
    },
    {
     "data": {
      "text/html": [
       "<div>\n",
       "<style scoped>\n",
       "    .dataframe tbody tr th:only-of-type {\n",
       "        vertical-align: middle;\n",
       "    }\n",
       "\n",
       "    .dataframe tbody tr th {\n",
       "        vertical-align: top;\n",
       "    }\n",
       "\n",
       "    .dataframe thead th {\n",
       "        text-align: right;\n",
       "    }\n",
       "</style>\n",
       "<table border=\"1\" class=\"dataframe\">\n",
       "  <thead>\n",
       "    <tr style=\"text-align: right;\">\n",
       "      <th></th>\n",
       "      <th>method</th>\n",
       "      <th>cv score</th>\n",
       "      <th>mean score</th>\n",
       "      <th>std score</th>\n",
       "      <th>f1 score on test data</th>\n",
       "    </tr>\n",
       "  </thead>\n",
       "  <tbody>\n",
       "    <tr>\n",
       "      <th>0</th>\n",
       "      <td>Logistic Regression</td>\n",
       "      <td>[0.80223, 0.8292, 0.84311, 0.8125, 0.82787]</td>\n",
       "      <td>0.822982</td>\n",
       "      <td>0.014201</td>\n",
       "      <td>0.824190</td>\n",
       "    </tr>\n",
       "    <tr>\n",
       "      <th>1</th>\n",
       "      <td>Decision Tree Classifier</td>\n",
       "      <td>[0.70804, 0.70605, 0.73204, 0.73418, 0.74044]</td>\n",
       "      <td>0.724150</td>\n",
       "      <td>0.014249</td>\n",
       "      <td>0.744307</td>\n",
       "    </tr>\n",
       "    <tr>\n",
       "      <th>2</th>\n",
       "      <td>KNN Classifier</td>\n",
       "      <td>[0.71552, 0.73611, 0.7067, 0.74148, 0.72702]</td>\n",
       "      <td>0.725365</td>\n",
       "      <td>0.012830</td>\n",
       "      <td>0.737117</td>\n",
       "    </tr>\n",
       "    <tr>\n",
       "      <th>3</th>\n",
       "      <td>Random Forest Classifier</td>\n",
       "      <td>[0.77871, 0.82692, 0.83085, 0.80833, 0.8292]</td>\n",
       "      <td>0.814804</td>\n",
       "      <td>0.019780</td>\n",
       "      <td>0.830615</td>\n",
       "    </tr>\n",
       "    <tr>\n",
       "      <th>4</th>\n",
       "      <td>Ada Boost Classifier</td>\n",
       "      <td>[0.79663, 0.82305, 0.83765, 0.79208, 0.82627]</td>\n",
       "      <td>0.815135</td>\n",
       "      <td>0.017705</td>\n",
       "      <td>0.824114</td>\n",
       "    </tr>\n",
       "    <tr>\n",
       "      <th>5</th>\n",
       "      <td>Gradient Boosting Classifier</td>\n",
       "      <td>[0.79552, 0.83081, 0.82825, 0.81586, 0.82806]</td>\n",
       "      <td>0.819702</td>\n",
       "      <td>0.013161</td>\n",
       "      <td>0.826802</td>\n",
       "    </tr>\n",
       "    <tr>\n",
       "      <th>6</th>\n",
       "      <td>XGB Classifier</td>\n",
       "      <td>[0.78933, 0.81431, 0.80432, 0.78531, 0.80946]</td>\n",
       "      <td>0.800544</td>\n",
       "      <td>0.011322</td>\n",
       "      <td>0.801768</td>\n",
       "    </tr>\n",
       "  </tbody>\n",
       "</table>\n",
       "</div>"
      ],
      "text/plain": [
       "                         method  \\\n",
       "0           Logistic Regression   \n",
       "1      Decision Tree Classifier   \n",
       "2                KNN Classifier   \n",
       "3      Random Forest Classifier   \n",
       "4          Ada Boost Classifier   \n",
       "5  Gradient Boosting Classifier   \n",
       "6                XGB Classifier   \n",
       "\n",
       "                                        cv score  mean score  std score  \\\n",
       "0    [0.80223, 0.8292, 0.84311, 0.8125, 0.82787]    0.822982   0.014201   \n",
       "1  [0.70804, 0.70605, 0.73204, 0.73418, 0.74044]    0.724150   0.014249   \n",
       "2   [0.71552, 0.73611, 0.7067, 0.74148, 0.72702]    0.725365   0.012830   \n",
       "3   [0.77871, 0.82692, 0.83085, 0.80833, 0.8292]    0.814804   0.019780   \n",
       "4  [0.79663, 0.82305, 0.83765, 0.79208, 0.82627]    0.815135   0.017705   \n",
       "5  [0.79552, 0.83081, 0.82825, 0.81586, 0.82806]    0.819702   0.013161   \n",
       "6  [0.78933, 0.81431, 0.80432, 0.78531, 0.80946]    0.800544   0.011322   \n",
       "\n",
       "   f1 score on test data  \n",
       "0               0.824190  \n",
       "1               0.744307  \n",
       "2               0.737117  \n",
       "3               0.830615  \n",
       "4               0.824114  \n",
       "5               0.826802  \n",
       "6               0.801768  "
      ]
     },
     "metadata": {},
     "output_type": "display_data"
    },
    {
     "data": {
      "text/html": [
       "<div>\n",
       "<style scoped>\n",
       "    .dataframe tbody tr th:only-of-type {\n",
       "        vertical-align: middle;\n",
       "    }\n",
       "\n",
       "    .dataframe tbody tr th {\n",
       "        vertical-align: top;\n",
       "    }\n",
       "\n",
       "    .dataframe thead th {\n",
       "        text-align: right;\n",
       "    }\n",
       "</style>\n",
       "<table border=\"1\" class=\"dataframe\">\n",
       "  <thead>\n",
       "    <tr style=\"text-align: right;\">\n",
       "      <th></th>\n",
       "      <th>method</th>\n",
       "      <th>cv score</th>\n",
       "      <th>mean score</th>\n",
       "      <th>std score</th>\n",
       "      <th>accuracy score on test data</th>\n",
       "    </tr>\n",
       "  </thead>\n",
       "  <tbody>\n",
       "    <tr>\n",
       "      <th>0</th>\n",
       "      <td>Logistic Regression</td>\n",
       "      <td>[0.77603, 0.80442, 0.81861, 0.7918, 0.80126]</td>\n",
       "      <td>0.798423</td>\n",
       "      <td>0.014122</td>\n",
       "      <td>0.792494</td>\n",
       "    </tr>\n",
       "    <tr>\n",
       "      <th>1</th>\n",
       "      <td>Decision Tree Classifier</td>\n",
       "      <td>[0.6735, 0.67823, 0.69401, 0.70189, 0.70032]</td>\n",
       "      <td>0.689590</td>\n",
       "      <td>0.011608</td>\n",
       "      <td>0.710817</td>\n",
       "    </tr>\n",
       "    <tr>\n",
       "      <th>2</th>\n",
       "      <td>KNN Classifier</td>\n",
       "      <td>[0.6877, 0.70032, 0.66877, 0.71293, 0.69558]</td>\n",
       "      <td>0.693060</td>\n",
       "      <td>0.014648</td>\n",
       "      <td>0.703458</td>\n",
       "    </tr>\n",
       "    <tr>\n",
       "      <th>3</th>\n",
       "      <td>Random Forest Classifier</td>\n",
       "      <td>[0.75079, 0.80126, 0.80284, 0.78233, 0.80442]</td>\n",
       "      <td>0.788328</td>\n",
       "      <td>0.020405</td>\n",
       "      <td>0.801325</td>\n",
       "    </tr>\n",
       "    <tr>\n",
       "      <th>4</th>\n",
       "      <td>Ada Boost Classifier</td>\n",
       "      <td>[0.77129, 0.79653, 0.8123, 0.76814, 0.79968]</td>\n",
       "      <td>0.789590</td>\n",
       "      <td>0.017093</td>\n",
       "      <td>0.791759</td>\n",
       "    </tr>\n",
       "    <tr>\n",
       "      <th>5</th>\n",
       "      <td>Gradient Boosting Classifier</td>\n",
       "      <td>[0.76972, 0.80599, 0.80442, 0.79495, 0.80284]</td>\n",
       "      <td>0.795584</td>\n",
       "      <td>0.013480</td>\n",
       "      <td>0.798381</td>\n",
       "    </tr>\n",
       "    <tr>\n",
       "      <th>6</th>\n",
       "      <td>XGB Classifier</td>\n",
       "      <td>[0.76341, 0.78707, 0.77129, 0.76025, 0.78391]</td>\n",
       "      <td>0.773186</td>\n",
       "      <td>0.010716</td>\n",
       "      <td>0.768948</td>\n",
       "    </tr>\n",
       "  </tbody>\n",
       "</table>\n",
       "</div>"
      ],
      "text/plain": [
       "                         method  \\\n",
       "0           Logistic Regression   \n",
       "1      Decision Tree Classifier   \n",
       "2                KNN Classifier   \n",
       "3      Random Forest Classifier   \n",
       "4          Ada Boost Classifier   \n",
       "5  Gradient Boosting Classifier   \n",
       "6                XGB Classifier   \n",
       "\n",
       "                                        cv score  mean score  std score  \\\n",
       "0   [0.77603, 0.80442, 0.81861, 0.7918, 0.80126]    0.798423   0.014122   \n",
       "1   [0.6735, 0.67823, 0.69401, 0.70189, 0.70032]    0.689590   0.011608   \n",
       "2   [0.6877, 0.70032, 0.66877, 0.71293, 0.69558]    0.693060   0.014648   \n",
       "3  [0.75079, 0.80126, 0.80284, 0.78233, 0.80442]    0.788328   0.020405   \n",
       "4   [0.77129, 0.79653, 0.8123, 0.76814, 0.79968]    0.789590   0.017093   \n",
       "5  [0.76972, 0.80599, 0.80442, 0.79495, 0.80284]    0.795584   0.013480   \n",
       "6  [0.76341, 0.78707, 0.77129, 0.76025, 0.78391]    0.773186   0.010716   \n",
       "\n",
       "   accuracy score on test data  \n",
       "0                     0.792494  \n",
       "1                     0.710817  \n",
       "2                     0.703458  \n",
       "3                     0.801325  \n",
       "4                     0.791759  \n",
       "5                     0.798381  \n",
       "6                     0.768948  "
      ]
     },
     "metadata": {},
     "output_type": "display_data"
    },
    {
     "data": {
      "text/html": [
       "<div>\n",
       "<style scoped>\n",
       "    .dataframe tbody tr th:only-of-type {\n",
       "        vertical-align: middle;\n",
       "    }\n",
       "\n",
       "    .dataframe tbody tr th {\n",
       "        vertical-align: top;\n",
       "    }\n",
       "\n",
       "    .dataframe thead th {\n",
       "        text-align: right;\n",
       "    }\n",
       "</style>\n",
       "<table border=\"1\" class=\"dataframe\">\n",
       "  <thead>\n",
       "    <tr style=\"text-align: right;\">\n",
       "      <th></th>\n",
       "      <th>method</th>\n",
       "      <th>cv score</th>\n",
       "      <th>mean score</th>\n",
       "      <th>std score</th>\n",
       "      <th>roc_auc_score score on test data</th>\n",
       "    </tr>\n",
       "  </thead>\n",
       "  <tbody>\n",
       "    <tr>\n",
       "      <th>0</th>\n",
       "      <td>Logistic Regression</td>\n",
       "      <td>[0.83708, 0.86668, 0.86812, 0.85912, 0.8639]</td>\n",
       "      <td>0.858979</td>\n",
       "      <td>0.011373</td>\n",
       "      <td>0.782284</td>\n",
       "    </tr>\n",
       "    <tr>\n",
       "      <th>1</th>\n",
       "      <td>Decision Tree Classifier</td>\n",
       "      <td>[0.66886, 0.67618, 0.68714, 0.69825, 0.69146]</td>\n",
       "      <td>0.684377</td>\n",
       "      <td>0.010566</td>\n",
       "      <td>0.705729</td>\n",
       "    </tr>\n",
       "    <tr>\n",
       "      <th>2</th>\n",
       "      <td>KNN Classifier</td>\n",
       "      <td>[0.75323, 0.73598, 0.74801, 0.74347, 0.74478]</td>\n",
       "      <td>0.745093</td>\n",
       "      <td>0.005667</td>\n",
       "      <td>0.698634</td>\n",
       "    </tr>\n",
       "    <tr>\n",
       "      <th>3</th>\n",
       "      <td>Random Forest Classifier</td>\n",
       "      <td>[0.82443, 0.85707, 0.85697, 0.84879, 0.84622]</td>\n",
       "      <td>0.846696</td>\n",
       "      <td>0.011945</td>\n",
       "      <td>0.792242</td>\n",
       "    </tr>\n",
       "    <tr>\n",
       "      <th>4</th>\n",
       "      <td>Ada Boost Classifier</td>\n",
       "      <td>[0.82738, 0.86504, 0.87056, 0.8502, 0.86333]</td>\n",
       "      <td>0.855300</td>\n",
       "      <td>0.015477</td>\n",
       "      <td>0.781048</td>\n",
       "    </tr>\n",
       "    <tr>\n",
       "      <th>5</th>\n",
       "      <td>Gradient Boosting Classifier</td>\n",
       "      <td>[0.84052, 0.86196, 0.87252, 0.86037, 0.86432]</td>\n",
       "      <td>0.859936</td>\n",
       "      <td>0.010572</td>\n",
       "      <td>0.790417</td>\n",
       "    </tr>\n",
       "    <tr>\n",
       "      <th>6</th>\n",
       "      <td>XGB Classifier</td>\n",
       "      <td>[0.82201, 0.83951, 0.84587, 0.82809, 0.83741]</td>\n",
       "      <td>0.834579</td>\n",
       "      <td>0.008486</td>\n",
       "      <td>0.760281</td>\n",
       "    </tr>\n",
       "  </tbody>\n",
       "</table>\n",
       "</div>"
      ],
      "text/plain": [
       "                         method  \\\n",
       "0           Logistic Regression   \n",
       "1      Decision Tree Classifier   \n",
       "2                KNN Classifier   \n",
       "3      Random Forest Classifier   \n",
       "4          Ada Boost Classifier   \n",
       "5  Gradient Boosting Classifier   \n",
       "6                XGB Classifier   \n",
       "\n",
       "                                        cv score  mean score  std score  \\\n",
       "0   [0.83708, 0.86668, 0.86812, 0.85912, 0.8639]    0.858979   0.011373   \n",
       "1  [0.66886, 0.67618, 0.68714, 0.69825, 0.69146]    0.684377   0.010566   \n",
       "2  [0.75323, 0.73598, 0.74801, 0.74347, 0.74478]    0.745093   0.005667   \n",
       "3  [0.82443, 0.85707, 0.85697, 0.84879, 0.84622]    0.846696   0.011945   \n",
       "4   [0.82738, 0.86504, 0.87056, 0.8502, 0.86333]    0.855300   0.015477   \n",
       "5  [0.84052, 0.86196, 0.87252, 0.86037, 0.86432]    0.859936   0.010572   \n",
       "6  [0.82201, 0.83951, 0.84587, 0.82809, 0.83741]    0.834579   0.008486   \n",
       "\n",
       "   roc_auc_score score on test data  \n",
       "0                          0.782284  \n",
       "1                          0.705729  \n",
       "2                          0.698634  \n",
       "3                          0.792242  \n",
       "4                          0.781048  \n",
       "5                          0.790417  \n",
       "6                          0.760281  "
      ]
     },
     "metadata": {},
     "output_type": "display_data"
    }
   ],
   "source": [
    "logreg_pipe = Pipeline([('transformer', transformer), ('logreg', logreg)])\n",
    "tree_pipe = Pipeline([('transformer', transformer), ('tree', tree)])\n",
    "knn_pipe = Pipeline([('transformer', transformer), ('knn', knn)])\n",
    "rf_pipe = Pipeline([('transformer', transformer), ('rf', rf)])\n",
    "ada_pipe = Pipeline([('transformer', transformer), ('ada', ada)])\n",
    "grad_pipe = Pipeline([('transformer', transformer), ('grad', grad)])\n",
    "xgb_pipe = Pipeline([('transformer', transformer), ('xgboost', xgboost)])\n",
    "\n",
    "def model_evaluation(model, metric):\n",
    "    for i in metric:\n",
    "        model_cv = cross_val_score(model, X_train, y_train, cv = StratifiedKFold(n_splits = 5), scoring = metric)\n",
    "    return model_cv\n",
    "\n",
    "# def model_evaluation_auc(model, metric):\n",
    "#     for i in metric:\n",
    "#         model_cv = cross_val_score(model, X_train, y_train, cv = StratifiedKFold(n_splits = 5), scoring = metric)\n",
    "#     return model_cv\n",
    "\n",
    "\n",
    "\n",
    "\n",
    "#recall\n",
    "logreg_pipe_cv_recall = model_evaluation(logreg_pipe, 'recall')\n",
    "tree_pipe_cv_recall = model_evaluation(tree_pipe, 'recall')\n",
    "knn_pipe_cv_recall = model_evaluation(knn_pipe, 'recall')\n",
    "rf_pipe_cv_recall = model_evaluation(rf_pipe, 'recall')\n",
    "ada_pipe_cv_recall = model_evaluation(ada_pipe, 'recall')\n",
    "grad_pipe_cv_recall = model_evaluation(grad_pipe, 'recall')\n",
    "xgb_pipe_cv_recall = model_evaluation(xgb_pipe, 'recall')\n",
    "\n",
    "#precision\n",
    "logreg_pipe_cv_precision = model_evaluation(logreg_pipe, 'precision')\n",
    "tree_pipe_cv_precision = model_evaluation(tree_pipe, 'precision')\n",
    "knn_pipe_cv_precision = model_evaluation(knn_pipe, 'precision')\n",
    "rf_pipe_cv_precision = model_evaluation(rf_pipe, 'precision')\n",
    "ada_pipe_cv_precision = model_evaluation(ada_pipe, 'precision')\n",
    "grad_pipe_cv_precision = model_evaluation(grad_pipe, 'precision')\n",
    "xgb_pipe_cv_precision = model_evaluation(xgb_pipe, 'precision')\n",
    "\n",
    "#f1 score\n",
    "logreg_pipe_cv_f1 = model_evaluation(logreg_pipe, 'f1')\n",
    "tree_pipe_cv_f1 = model_evaluation(tree_pipe, 'f1')\n",
    "knn_pipe_cv_f1 = model_evaluation(knn_pipe, 'f1')\n",
    "rf_pipe_cv_f1 = model_evaluation(rf_pipe, 'f1')\n",
    "ada_pipe_cv_f1 = model_evaluation(ada_pipe, 'f1')\n",
    "grad_pipe_cv_f1 = model_evaluation(grad_pipe, 'f1')\n",
    "xgb_pipe_cv_f1 = model_evaluation(xgb_pipe, 'f1')\n",
    "\n",
    "#accuracy\n",
    "logreg_pipe_cv_accuracy = model_evaluation(logreg_pipe, 'accuracy')\n",
    "tree_pipe_cv_accuracy = model_evaluation(tree_pipe, 'accuracy')\n",
    "knn_pipe_cv_accuracy = model_evaluation(knn_pipe, 'accuracy')\n",
    "rf_pipe_cv_accuracy = model_evaluation(rf_pipe, 'accuracy')\n",
    "ada_pipe_cv_accuracy = model_evaluation(ada_pipe, 'accuracy')\n",
    "grad_pipe_cv_accuracy = model_evaluation(grad_pipe, 'accuracy')\n",
    "xgb_pipe_cv_accuracy = model_evaluation(xgb_pipe, 'accuracy')\n",
    "\n",
    "\n",
    "\n",
    "#roc_auc_score\n",
    "logreg_pipe_cv_roc_auc_score = model_evaluation(logreg_pipe, 'roc_auc')\n",
    "tree_pipe_cv_roc_auc_score = model_evaluation(tree_pipe, 'roc_auc')\n",
    "knn_pipe_cv_roc_auc_score = model_evaluation(knn_pipe, 'roc_auc')\n",
    "rf_pipe_cv_roc_auc_score = model_evaluation(rf_pipe, 'roc_auc')\n",
    "ada_pipe_cv_roc_auc_score = model_evaluation(ada_pipe, 'roc_auc')\n",
    "grad_pipe_cv_roc_auc_score = model_evaluation(grad_pipe, 'roc_auc')\n",
    "xgb_pipe_cv_roc_auc_score = model_evaluation(xgb_pipe, 'roc_auc')\n",
    "\n",
    "\n",
    "\n",
    "\n",
    "for model in [logreg_pipe, tree_pipe, knn_pipe, rf_pipe, ada_pipe, grad_pipe, xgb_pipe]:\n",
    "    model.fit(X_train, y_train)\n",
    "\n",
    "# recall\n",
    "score_cv_recall = [logreg_pipe_cv_recall.round(5), tree_pipe_cv_recall.round(5), knn_pipe_cv_recall.round(5),\n",
    "            rf_pipe_cv_recall.round(5), ada_pipe_cv_recall.round(5), grad_pipe_cv_recall.round(5), xgb_pipe_cv_recall.round(5)]\n",
    "score_mean = [logreg_pipe_cv_recall.mean(), tree_pipe_cv_recall.mean(), knn_pipe_cv_recall.mean(), rf_pipe_cv_recall.mean(),\n",
    "              ada_pipe_cv_recall.mean(), grad_pipe_cv_recall.mean(), xgb_pipe_cv_recall.mean()]\n",
    "score_std_recall = [logreg_pipe_cv_recall.std(), tree_pipe_cv_recall.std(), knn_pipe_cv_recall.std(), rf_pipe_cv_recall.std(),\n",
    "             ada_pipe_cv_recall.std(), grad_pipe_cv_recall.std(), xgb_pipe_cv_recall.std()]\n",
    "score_recall_score = [recall_score(y_test, logreg_pipe.predict(X_test)),\n",
    "            recall_score(y_test, tree_pipe.predict(X_test)), \n",
    "            recall_score(y_test, knn_pipe.predict(X_test)), \n",
    "            recall_score(y_test, rf_pipe.predict(X_test)),\n",
    "            recall_score(y_test, ada_pipe.predict(X_test)),\n",
    "            recall_score(y_test, grad_pipe.predict(X_test)),\n",
    "            recall_score(y_test, xgb_pipe.predict(X_test))]\n",
    "method_name = ['Logistic Regression', 'Decision Tree Classifier', 'KNN Classifier', 'Random Forest Classifier',\n",
    "               'Ada Boost Classifier', 'Gradient Boosting Classifier', 'XGB Classifier']\n",
    "cv_summary_recall = pd.DataFrame({\n",
    "    'method': method_name,\n",
    "    'cv score': score_cv_recall,\n",
    "    'mean score': score_mean,\n",
    "    'std score': score_std_recall,\n",
    "    'recall score on test data': score_recall_score\n",
    "})\n",
    "\n",
    "display(cv_summary_recall)\n",
    "\n",
    "# precision\n",
    "score_cv_precision = [logreg_pipe_cv_precision.round(5), tree_pipe_cv_precision.round(5), knn_pipe_cv_precision.round(5),\n",
    "            rf_pipe_cv_precision.round(5), ada_pipe_cv_precision.round(5), grad_pipe_cv_precision.round(5), xgb_pipe_cv_precision.round(5)]\n",
    "score_mean = [logreg_pipe_cv_precision.mean(), tree_pipe_cv_precision.mean(), knn_pipe_cv_precision.mean(), rf_pipe_cv_precision.mean(),\n",
    "              ada_pipe_cv_precision.mean(), grad_pipe_cv_precision.mean(), xgb_pipe_cv_precision.mean()]\n",
    "score_std_precision = [logreg_pipe_cv_precision.std(), tree_pipe_cv_precision.std(), knn_pipe_cv_precision.std(), rf_pipe_cv_precision.std(),\n",
    "             ada_pipe_cv_precision.std(), grad_pipe_cv_precision.std(), xgb_pipe_cv_precision.std()]\n",
    "score_precision_score = [precision_score(y_test, logreg_pipe.predict(X_test)),\n",
    "            precision_score(y_test, tree_pipe.predict(X_test)), \n",
    "            precision_score(y_test, knn_pipe.predict(X_test)), \n",
    "            precision_score(y_test, rf_pipe.predict(X_test)),\n",
    "            precision_score(y_test, ada_pipe.predict(X_test)),\n",
    "            precision_score(y_test, grad_pipe.predict(X_test)),\n",
    "            precision_score(y_test, xgb_pipe.predict(X_test))]\n",
    "method_name = ['Logistic Regression', 'Decision Tree Classifier', 'KNN Classifier', 'Random Forest Classifier',\n",
    "               'Ada Boost Classifier', 'Gradient Boosting Classifier', 'XGB Classifier']\n",
    "cv_summary_precision = pd.DataFrame({\n",
    "    'method': method_name,\n",
    "    'cv score': score_cv_precision,\n",
    "    'mean score': score_mean,\n",
    "    'std score': score_std_precision,\n",
    "    'precision score on test data': score_precision_score\n",
    "})\n",
    "\n",
    "display(cv_summary_precision)\n",
    "\n",
    "# f1 score\n",
    "\n",
    "score_cv_f1 = [logreg_pipe_cv_f1.round(5), tree_pipe_cv_f1.round(5), knn_pipe_cv_f1.round(5),\n",
    "            rf_pipe_cv_f1.round(5), ada_pipe_cv_f1.round(5), grad_pipe_cv_f1.round(5), xgb_pipe_cv_f1.round(5)]\n",
    "score_mean = [logreg_pipe_cv_f1.mean(), tree_pipe_cv_f1.mean(), knn_pipe_cv_f1.mean(), rf_pipe_cv_f1.mean(),\n",
    "              ada_pipe_cv_f1.mean(), grad_pipe_cv_f1.mean(), xgb_pipe_cv_f1.mean()]\n",
    "score_std_f1 = [logreg_pipe_cv_f1.std(), tree_pipe_cv_f1.std(), knn_pipe_cv_f1.std(), rf_pipe_cv_f1.std(),\n",
    "             ada_pipe_cv_f1.std(), grad_pipe_cv_f1.std(), xgb_pipe_cv_f1.std()]\n",
    "score_f1_score = [f1_score(y_test, logreg_pipe.predict(X_test)),\n",
    "            f1_score(y_test, tree_pipe.predict(X_test)), \n",
    "            f1_score(y_test, knn_pipe.predict(X_test)), \n",
    "            f1_score(y_test, rf_pipe.predict(X_test)),\n",
    "            f1_score(y_test, ada_pipe.predict(X_test)),\n",
    "            f1_score(y_test, grad_pipe.predict(X_test)),\n",
    "            f1_score(y_test, xgb_pipe.predict(X_test))]\n",
    "method_name = ['Logistic Regression', 'Decision Tree Classifier', 'KNN Classifier', 'Random Forest Classifier',\n",
    "               'Ada Boost Classifier', 'Gradient Boosting Classifier', 'XGB Classifier']\n",
    "cv_summary_f1 = pd.DataFrame({\n",
    "    'method': method_name,\n",
    "    'cv score': score_cv_f1,\n",
    "    'mean score': score_mean,\n",
    "    'std score': score_std_f1,\n",
    "    'f1 score on test data': score_f1_score\n",
    "})\n",
    "\n",
    "display(cv_summary_f1)\n",
    "\n",
    "\n",
    "\n",
    "# accuracy\n",
    "score_cv_accuracy = [logreg_pipe_cv_accuracy.round(5), tree_pipe_cv_accuracy.round(5), knn_pipe_cv_accuracy.round(5),\n",
    "            rf_pipe_cv_accuracy.round(5), ada_pipe_cv_accuracy.round(5), grad_pipe_cv_accuracy.round(5), xgb_pipe_cv_accuracy.round(5)]\n",
    "score_mean = [logreg_pipe_cv_accuracy.mean(), tree_pipe_cv_accuracy.mean(), knn_pipe_cv_accuracy.mean(), rf_pipe_cv_accuracy.mean(),\n",
    "              ada_pipe_cv_accuracy.mean(), grad_pipe_cv_accuracy.mean(), xgb_pipe_cv_accuracy.mean()]\n",
    "score_std_accuracy = [logreg_pipe_cv_accuracy.std(), tree_pipe_cv_accuracy.std(), knn_pipe_cv_accuracy.std(), rf_pipe_cv_accuracy.std(),\n",
    "             ada_pipe_cv_accuracy.std(), grad_pipe_cv_accuracy.std(), xgb_pipe_cv_accuracy.std()]\n",
    "score_accuracy_score = [accuracy_score(y_test, logreg_pipe.predict(X_test)),\n",
    "            accuracy_score(y_test, tree_pipe.predict(X_test)), \n",
    "            accuracy_score(y_test, knn_pipe.predict(X_test)), \n",
    "            accuracy_score(y_test, rf_pipe.predict(X_test)),\n",
    "            accuracy_score(y_test, ada_pipe.predict(X_test)),\n",
    "            accuracy_score(y_test, grad_pipe.predict(X_test)),\n",
    "            accuracy_score(y_test, xgb_pipe.predict(X_test))]\n",
    "method_name = ['Logistic Regression', 'Decision Tree Classifier', 'KNN Classifier', 'Random Forest Classifier',\n",
    "               'Ada Boost Classifier', 'Gradient Boosting Classifier', 'XGB Classifier']\n",
    "cv_summary_accuracy = pd.DataFrame({\n",
    "    'method': method_name,\n",
    "    'cv score': score_cv_accuracy,\n",
    "    'mean score': score_mean,\n",
    "    'std score': score_std_accuracy,\n",
    "    'accuracy score on test data': score_accuracy_score\n",
    "})\n",
    "\n",
    "display(cv_summary_accuracy)\n",
    "\n",
    "# roc_auc_score\n",
    "score_cv_roc_auc_score = [logreg_pipe_cv_roc_auc_score.round(5), tree_pipe_cv_roc_auc_score.round(5), knn_pipe_cv_roc_auc_score.round(5),\n",
    "            rf_pipe_cv_roc_auc_score.round(5), ada_pipe_cv_roc_auc_score.round(5), grad_pipe_cv_roc_auc_score.round(5), xgb_pipe_cv_roc_auc_score.round(5)]\n",
    "score_mean = [logreg_pipe_cv_roc_auc_score.mean(), tree_pipe_cv_roc_auc_score.mean(), knn_pipe_cv_roc_auc_score.mean(), rf_pipe_cv_roc_auc_score.mean(),\n",
    "              ada_pipe_cv_roc_auc_score.mean(), grad_pipe_cv_roc_auc_score.mean(), xgb_pipe_cv_roc_auc_score.mean()]\n",
    "score_std_roc_auc_score = [logreg_pipe_cv_roc_auc_score.std(), tree_pipe_cv_roc_auc_score.std(), knn_pipe_cv_roc_auc_score.std(), rf_pipe_cv_roc_auc_score.std(),\n",
    "             ada_pipe_cv_roc_auc_score.std(), grad_pipe_cv_roc_auc_score.std(), xgb_pipe_cv_roc_auc_score.std()]\n",
    "score_roc_auc_score = [roc_auc_score(y_test, logreg_pipe.predict(X_test)),\n",
    "            roc_auc_score(y_test, tree_pipe.predict(X_test)), \n",
    "            roc_auc_score(y_test, knn_pipe.predict(X_test)), \n",
    "            roc_auc_score(y_test, rf_pipe.predict(X_test)),\n",
    "            roc_auc_score(y_test, ada_pipe.predict(X_test)),\n",
    "            roc_auc_score(y_test, grad_pipe.predict(X_test)),\n",
    "            roc_auc_score(y_test, xgb_pipe.predict(X_test))]\n",
    "\n",
    "# score_fpr = [roc_curve(y_test, logreg_pipe.predict_proba(X_test)[:, 1][0]),\n",
    "#             roc_curve(y_test, tree_pipe.predict_proba(X_test)[:, 1][0]), \n",
    "#             roc_curve(y_test, knn_pipe.predict_proba(X_test)[:, 1][0]), \n",
    "#             roc_curve(y_test, rf_pipe.predict_proba(X_test)[:, 1][0]),\n",
    "#             roc_curve(y_test, ada_pipe.predict_proba(X_test)[:, 1][0]),\n",
    "#             roc_curve(y_test, grad_pipe.predict_proba(X_test)[:, 1][0]),\n",
    "#             roc_curve(y_test, xgb_pipe.predict_proba(X_test)[:, 1][0])]\n",
    "\n",
    "method_name = ['Logistic Regression', 'Decision Tree Classifier', 'KNN Classifier', 'Random Forest Classifier',\n",
    "               'Ada Boost Classifier', 'Gradient Boosting Classifier', 'XGB Classifier']\n",
    "cv_summary_roc_auc_score = pd.DataFrame({\n",
    "    'method': method_name,\n",
    "    'cv score': score_cv_roc_auc_score,\n",
    "    'mean score': score_mean,\n",
    "    'std score': score_std_roc_auc_score,\n",
    "    'roc_auc_score score on test data': score_roc_auc_score\n",
    "})\n",
    "\n",
    "display(cv_summary_roc_auc_score)\n",
    "\n",
    "\n"
   ]
  },
  {
   "cell_type": "code",
   "execution_count": 83,
   "id": "f7e5a635",
   "metadata": {},
   "outputs": [
    {
     "data": {
      "text/html": [
       "<div>\n",
       "<style scoped>\n",
       "    .dataframe tbody tr th:only-of-type {\n",
       "        vertical-align: middle;\n",
       "    }\n",
       "\n",
       "    .dataframe tbody tr th {\n",
       "        vertical-align: top;\n",
       "    }\n",
       "\n",
       "    .dataframe thead th {\n",
       "        text-align: right;\n",
       "    }\n",
       "</style>\n",
       "<table border=\"1\" class=\"dataframe\">\n",
       "  <thead>\n",
       "    <tr style=\"text-align: right;\">\n",
       "      <th></th>\n",
       "      <th>method</th>\n",
       "      <th>specificity</th>\n",
       "    </tr>\n",
       "  </thead>\n",
       "  <tbody>\n",
       "    <tr>\n",
       "      <th>0</th>\n",
       "      <td>Logistic Regression</td>\n",
       "      <td>0.703892</td>\n",
       "    </tr>\n",
       "    <tr>\n",
       "      <th>1</th>\n",
       "      <td>Decision Tree Classifier</td>\n",
       "      <td>0.666667</td>\n",
       "    </tr>\n",
       "    <tr>\n",
       "      <th>2</th>\n",
       "      <td>KNN Classifier</td>\n",
       "      <td>0.661591</td>\n",
       "    </tr>\n",
       "    <tr>\n",
       "      <th>3</th>\n",
       "      <td>Random Forest Classifier</td>\n",
       "      <td>0.722504</td>\n",
       "    </tr>\n",
       "    <tr>\n",
       "      <th>4</th>\n",
       "      <td>Ada Boost Classifier</td>\n",
       "      <td>0.698816</td>\n",
       "    </tr>\n",
       "    <tr>\n",
       "      <th>5</th>\n",
       "      <td>Gradient Boosting Classifier</td>\n",
       "      <td>0.729272</td>\n",
       "    </tr>\n",
       "    <tr>\n",
       "      <th>6</th>\n",
       "      <td>XGB Classifier</td>\n",
       "      <td>0.693739</td>\n",
       "    </tr>\n",
       "  </tbody>\n",
       "</table>\n",
       "</div>"
      ],
      "text/plain": [
       "                         method  specificity\n",
       "0           Logistic Regression     0.703892\n",
       "1      Decision Tree Classifier     0.666667\n",
       "2                KNN Classifier     0.661591\n",
       "3      Random Forest Classifier     0.722504\n",
       "4          Ada Boost Classifier     0.698816\n",
       "5  Gradient Boosting Classifier     0.729272\n",
       "6                XGB Classifier     0.693739"
      ]
     },
     "metadata": {},
     "output_type": "display_data"
    }
   ],
   "source": [
    "# Finding TNR using the last cross validation (auc)\n",
    "\n",
    "tnr = list()\n",
    "\n",
    "# log\n",
    "cm=confusion_matrix(y_test, logreg_pipe.predict(X_test))\n",
    "tn, fp, fn, tp = cm.ravel()\n",
    "specificity_log = tn / (tn+fp)\n",
    "tnr.append(specificity_log)\n",
    "\n",
    "# tree\n",
    "cm=confusion_matrix(y_test, tree_pipe.predict(X_test))\n",
    "tn, fp, fn, tp = cm.ravel()\n",
    "specificity_tree = tn / (tn+fp)\n",
    "tnr.append(specificity_tree)\n",
    "\n",
    "# knn\n",
    "cm=confusion_matrix(y_test, knn_pipe.predict(X_test))\n",
    "tn, fp, fn, tp = cm.ravel()\n",
    "specificity_knn = tn / (tn+fp)\n",
    "tnr.append(specificity_knn)\n",
    "\n",
    "# rf\n",
    "cm=confusion_matrix(y_test, rf_pipe.predict(X_test))\n",
    "tn, fp, fn, tp = cm.ravel()\n",
    "specificity_rf = tn / (tn+fp)\n",
    "tnr.append(specificity_rf)\n",
    "\n",
    "# adaboost\n",
    "cm=confusion_matrix(y_test, ada_pipe.predict(X_test))\n",
    "tn, fp, fn, tp = cm.ravel()\n",
    "specificity_ada = tn / (tn+fp)\n",
    "tnr.append(specificity_ada)\n",
    "\n",
    "#gradient boost\n",
    "cm=confusion_matrix(y_test, grad_pipe.predict(X_test))\n",
    "tn, fp, fn, tp = cm.ravel()\n",
    "specificity_grad = tn / (tn+fp)\n",
    "tnr.append(specificity_grad)\n",
    "\n",
    "# xgboost\n",
    "cm=confusion_matrix(y_test, xgb_pipe.predict(X_test))\n",
    "tn, fp, fn, tp = cm.ravel()\n",
    "specificity_xgb = tn / (tn+fp)\n",
    "tnr.append(specificity_xgb)\n",
    "\n",
    "specificity_df = pd.DataFrame({\n",
    "    'method': method_name,\n",
    "    'specificity': tnr\n",
    "})\n",
    "\n",
    "display(specificity_df)"
   ]
  },
  {
   "cell_type": "markdown",
   "id": "1971c4b5",
   "metadata": {},
   "source": [
    "**We select Random Forest as our final model and proceed to Hyper Parameter Tuning for the same**"
   ]
  },
  {
   "cell_type": "markdown",
   "id": "355f9602",
   "metadata": {},
   "source": [
    "# Hyper Param Tuning"
   ]
  },
  {
   "cell_type": "markdown",
   "id": "147b8973",
   "metadata": {},
   "source": [
    "**Note: logistic was initially used for comparison, and the code is present just for reference**"
   ]
  },
  {
   "cell_type": "markdown",
   "id": "b73745cd",
   "metadata": {},
   "source": [
    "## Logistic Regression (Initially used)"
   ]
  },
  {
   "cell_type": "code",
   "execution_count": 84,
   "id": "49f44e31",
   "metadata": {},
   "outputs": [
    {
     "name": "stdout",
     "output_type": "stream",
     "text": [
      "best score 0.8374301675977653\n",
      "best param {'model__C': 0.01, 'model__class_weight': 'dict', 'model__max_iter': 100, 'model__multi_class': 'auto', 'model__random_state': 2022, 'model__solver': 'lbfgs'}\n"
     ]
    }
   ],
   "source": [
    "# logistic regression\n",
    "\n",
    "lr_estimator = Pipeline([\n",
    "    ('transformer', transformer),\n",
    "    ('model', logreg)])\n",
    "\n",
    "hyperparam_space = {\n",
    "    'model__C': [ 1, 0.5, 0.1, 0.05, 0.01],\n",
    "    'model__solver': ['newton-cg', 'lbfgs', 'liblinear'],\n",
    "    'model__class_weight': ['balanced', 'dict'],\n",
    "    'model__max_iter': [100, 200, 300],\n",
    "    'model__multi_class': ['auto', 'ovr', 'multinomial'],\n",
    "    'model__random_state': [2022]\n",
    "}\n",
    "\n",
    "grid_lr = GridSearchCV(\n",
    "                lr_estimator,\n",
    "                param_grid = hyperparam_space,\n",
    "                cv = StratifiedKFold(n_splits = 5),\n",
    "                scoring = 'recall',\n",
    "                n_jobs = -1)\n",
    "\n",
    "grid_lr.fit(X_train, y_train)\n",
    "\n",
    "print('best score', grid_lr.best_score_)\n",
    "print('best param', grid_lr.best_params_)"
   ]
  },
  {
   "cell_type": "code",
   "execution_count": 85,
   "id": "a0bc28f0",
   "metadata": {},
   "outputs": [
    {
     "data": {
      "text/html": [
       "<div>\n",
       "<style scoped>\n",
       "    .dataframe tbody tr th:only-of-type {\n",
       "        vertical-align: middle;\n",
       "    }\n",
       "\n",
       "    .dataframe tbody tr th {\n",
       "        vertical-align: top;\n",
       "    }\n",
       "\n",
       "    .dataframe thead th {\n",
       "        text-align: right;\n",
       "    }\n",
       "</style>\n",
       "<table border=\"1\" class=\"dataframe\">\n",
       "  <thead>\n",
       "    <tr style=\"text-align: right;\">\n",
       "      <th></th>\n",
       "      <th>method</th>\n",
       "      <th>score</th>\n",
       "    </tr>\n",
       "  </thead>\n",
       "  <tbody>\n",
       "    <tr>\n",
       "      <th>0</th>\n",
       "      <td>Logistic Regression Before Tuning</td>\n",
       "      <td>0.860677</td>\n",
       "    </tr>\n",
       "    <tr>\n",
       "      <th>1</th>\n",
       "      <td>Logistic Regression After Tuning</td>\n",
       "      <td>0.868490</td>\n",
       "    </tr>\n",
       "  </tbody>\n",
       "</table>\n",
       "</div>"
      ],
      "text/plain": [
       "                              method    score\n",
       "0  Logistic Regression Before Tuning 0.860677\n",
       "1   Logistic Regression After Tuning 0.868490"
      ]
     },
     "execution_count": 85,
     "metadata": {},
     "output_type": "execute_result"
    }
   ],
   "source": [
    "recall_logreg = (recall_score(y_test, logreg_pipe.predict(X_test)))\n",
    "\n",
    "grid_lr.best_estimator_.fit(X_train, y_train)\n",
    "recall_grid = (recall_score(y_test, grid_lr.predict(X_test)))\n",
    "\n",
    "score_list = [recall_logreg, recall_grid]\n",
    "method_name = ['Logistic Regression Before Tuning', 'Logistic Regression After Tuning']\n",
    "best_summary = pd.DataFrame({\n",
    "    'method': method_name,\n",
    "    'score': score_list\n",
    "})\n",
    "best_summary"
   ]
  },
  {
   "cell_type": "markdown",
   "id": "bc57f6de",
   "metadata": {},
   "source": [
    "## Random Forest Classifier"
   ]
  },
  {
   "cell_type": "code",
   "execution_count": 86,
   "id": "f8c7cb6f",
   "metadata": {},
   "outputs": [
    {
     "name": "stdout",
     "output_type": "stream",
     "text": [
      "best score 0.8391061452513966\n",
      "best param {'model__bootstrap': True, 'model__max_depth': 40, 'model__max_features': 'auto', 'model__min_samples_leaf': 1, 'model__min_samples_split': 10, 'model__n_estimators': 400, 'model__random_state': 2022}\n"
     ]
    }
   ],
   "source": [
    "# Random Forest Classifier\n",
    "\n",
    "rf_estimator = Pipeline([\n",
    "    ('transformer', transformer),\n",
    "    ('model', rf)])\n",
    "\n",
    "# parameters\n",
    "# Number of trees in random forest\n",
    "n_estimators = [int(x) for x in np.linspace(start = 200, stop = 600, num = 3)]\n",
    "# Number of features to consider at every split\n",
    "max_features = ['auto', 'sqrt']\n",
    "# Maximum number of levels in tree\n",
    "max_depth = [int(x) for x in np.linspace(10, 70, num = 3)]\n",
    "max_depth.append(None)\n",
    "# Minimum number of samples required to split a node\n",
    "min_samples_split = [2, 5, 10]\n",
    "# Minimum number of samples required at each leaf node\n",
    "min_samples_leaf = [1, 2, 4]\n",
    "# Method of selecting samples for training each tree\n",
    "bootstrap = [True, False]\n",
    "\n",
    "hyperparam_space = {\n",
    "    'model__n_estimators': n_estimators,\n",
    "    'model__max_features': max_features,\n",
    "    'model__max_depth': max_depth,\n",
    "    'model__min_samples_split': min_samples_split,\n",
    "    'model__min_samples_leaf': min_samples_leaf,\n",
    "    'model__bootstrap': [True, False],\n",
    "    'model__random_state': [2022]\n",
    "}\n",
    "\n",
    "grid_rf = GridSearchCV(\n",
    "                rf_estimator,\n",
    "                param_grid = hyperparam_space,\n",
    "                cv = StratifiedKFold(n_splits = 5),\n",
    "                scoring = 'recall',\n",
    "                n_jobs = -1)\n",
    "\n",
    "grid_rf.fit(X_train, y_train)\n",
    "\n",
    "print('best score', grid_rf.best_score_)\n",
    "print('best param', grid_rf.best_params_)"
   ]
  },
  {
   "cell_type": "code",
   "execution_count": 87,
   "id": "7050d9c5",
   "metadata": {},
   "outputs": [
    {
     "data": {
      "text/html": [
       "<div>\n",
       "<style scoped>\n",
       "    .dataframe tbody tr th:only-of-type {\n",
       "        vertical-align: middle;\n",
       "    }\n",
       "\n",
       "    .dataframe tbody tr th {\n",
       "        vertical-align: top;\n",
       "    }\n",
       "\n",
       "    .dataframe thead th {\n",
       "        text-align: right;\n",
       "    }\n",
       "</style>\n",
       "<table border=\"1\" class=\"dataframe\">\n",
       "  <thead>\n",
       "    <tr style=\"text-align: right;\">\n",
       "      <th></th>\n",
       "      <th>method</th>\n",
       "      <th>score</th>\n",
       "    </tr>\n",
       "  </thead>\n",
       "  <tbody>\n",
       "    <tr>\n",
       "      <th>0</th>\n",
       "      <td>Random Forest Regression Before Hyperparameter...</td>\n",
       "      <td>0.722504</td>\n",
       "    </tr>\n",
       "    <tr>\n",
       "      <th>1</th>\n",
       "      <td>Random Forest Regression After Hyperparameter ...</td>\n",
       "      <td>0.727580</td>\n",
       "    </tr>\n",
       "  </tbody>\n",
       "</table>\n",
       "</div>"
      ],
      "text/plain": [
       "                                              method    score\n",
       "0  Random Forest Regression Before Hyperparameter... 0.722504\n",
       "1  Random Forest Regression After Hyperparameter ... 0.727580"
      ]
     },
     "execution_count": 87,
     "metadata": {},
     "output_type": "execute_result"
    }
   ],
   "source": [
    "# rf\n",
    "\n",
    "## old model\n",
    "cm=confusion_matrix(y_test, rf_pipe.predict(X_test))\n",
    "tn, fp, fn, tp = cm.ravel()\n",
    "specificity_rf_old = tn / (tn+fp)\n",
    "\n",
    "## new model\n",
    "\n",
    "grid_rf.best_estimator_.fit(X_train, y_train)\n",
    "\n",
    "cm=confusion_matrix(y_test, grid_rf.predict(X_test))\n",
    "tn, fp, fn, tp = cm.ravel()\n",
    "specificity_rf_new = tn / (tn+fp)\n",
    "\n",
    "## score\n",
    "score_list = [specificity_rf_old, specificity_rf_new]\n",
    "method_name = ['Random Forest Regression Before Hyperparameter Tuning', 'Random Forest Regression After Hyperparameter Tuning']\n",
    "best_summary = pd.DataFrame({\n",
    "    'method': method_name,\n",
    "    'score': score_list\n",
    "})\n",
    "\n",
    "best_summary"
   ]
  },
  {
   "cell_type": "code",
   "execution_count": null,
   "id": "1c6497c7",
   "metadata": {},
   "outputs": [],
   "source": []
  },
  {
   "cell_type": "markdown",
   "id": "772eb838",
   "metadata": {},
   "source": [
    "# Feature Selection using Tuning Result"
   ]
  },
  {
   "cell_type": "markdown",
   "id": "9ff511c0",
   "metadata": {},
   "source": [
    "## Logistic Regression (Initially used)"
   ]
  },
  {
   "cell_type": "code",
   "execution_count": 88,
   "id": "662f7ba1",
   "metadata": {},
   "outputs": [
    {
     "data": {
      "text/plain": [
       "[('one hot',\n",
       "  OneHotEncoder(handle_unknown='ignore'),\n",
       "  ['gender', 'family_history', 'ment_interview']),\n",
       " ('mode_onehot_pipe',\n",
       "  Pipeline(steps=[('encoder', SimpleImputer(strategy='most_frequent')),\n",
       "                  ('one hot encoder', OneHotEncoder(handle_unknown='ignore'))]),\n",
       "  ['self_employed',\n",
       "   'work_interfere',\n",
       "   'no_employees',\n",
       "   'tech_org',\n",
       "   'ment_health_benefits',\n",
       "   'employer_option_awareness',\n",
       "   'wellness_program_include',\n",
       "   'resources',\n",
       "   'phy_interview',\n",
       "   'neg_conseq_coworkers',\n",
       "   'anonymity',\n",
       "   'leave',\n",
       "   'coworkers_dis',\n",
       "   'supervisor_disc']),\n",
       " ('iterative', IterativeImputer(random_state=0), ['age'])]"
      ]
     },
     "execution_count": 88,
     "metadata": {},
     "output_type": "execute_result"
    }
   ],
   "source": [
    "transformer.transformers_"
   ]
  },
  {
   "cell_type": "code",
   "execution_count": 89,
   "id": "787cb295",
   "metadata": {},
   "outputs": [
    {
     "data": {
      "text/plain": [
       "array(['x0_female', 'x0_male', 'x0_others', 'x1_Maybe', 'x1_No', 'x1_Yes',\n",
       "       'x2_Maybe', 'x2_No', 'x2_Yes'], dtype=object)"
      ]
     },
     "execution_count": 89,
     "metadata": {},
     "output_type": "execute_result"
    }
   ],
   "source": [
    "transformer.transformers_[0][1].get_feature_names()"
   ]
  },
  {
   "cell_type": "code",
   "execution_count": 90,
   "id": "bfcbe2dd",
   "metadata": {},
   "outputs": [
    {
     "data": {
      "text/plain": [
       "array(['x0_No', 'x0_Yes', 'x1_Never', 'x1_Not applicable to me',\n",
       "       'x1_Often', 'x1_Rarely', 'x1_Sometimes', 'x2_1-5', 'x2_100-500',\n",
       "       'x2_26-100', 'x2_500-1000', 'x2_6-25', 'x2_More than 1000',\n",
       "       'x3_No', 'x3_Yes', 'x4_Maybe', 'x4_No', 'x4_Yes', 'x5_Maybe',\n",
       "       'x5_No', 'x5_Yes', 'x6_Maybe', 'x6_No', 'x6_Yes', 'x7_Maybe',\n",
       "       'x7_No', 'x7_Yes', 'x8_Maybe', 'x8_No', 'x8_Yes', 'x9_Maybe',\n",
       "       'x9_No', 'x9_Yes', 'x10_Maybe', 'x10_No', 'x10_Yes',\n",
       "       'x11_Difficult', 'x11_Easy', 'x11_Maybe', 'x12_Maybe', 'x12_No',\n",
       "       'x12_Yes', 'x13_Maybe', 'x13_No', 'x13_Yes'], dtype=object)"
      ]
     },
     "execution_count": 90,
     "metadata": {},
     "output_type": "execute_result"
    }
   ],
   "source": [
    "transformer.transformers_[1][1][1].get_feature_names()"
   ]
  },
  {
   "cell_type": "code",
   "execution_count": 91,
   "id": "f60f089b",
   "metadata": {},
   "outputs": [
    {
     "data": {
      "text/html": [
       "<div>\n",
       "<style scoped>\n",
       "    .dataframe tbody tr th:only-of-type {\n",
       "        vertical-align: middle;\n",
       "    }\n",
       "\n",
       "    .dataframe tbody tr th {\n",
       "        vertical-align: top;\n",
       "    }\n",
       "\n",
       "    .dataframe thead th {\n",
       "        text-align: right;\n",
       "    }\n",
       "</style>\n",
       "<table border=\"1\" class=\"dataframe\">\n",
       "  <thead>\n",
       "    <tr style=\"text-align: right;\">\n",
       "      <th></th>\n",
       "      <th>coef</th>\n",
       "    </tr>\n",
       "  </thead>\n",
       "  <tbody>\n",
       "    <tr>\n",
       "      <th>x1_Not applicable to me</th>\n",
       "      <td>0.997701</td>\n",
       "    </tr>\n",
       "    <tr>\n",
       "      <th>x1_No</th>\n",
       "      <td>0.672571</td>\n",
       "    </tr>\n",
       "    <tr>\n",
       "      <th>x1_Rarely</th>\n",
       "      <td>0.509811</td>\n",
       "    </tr>\n",
       "    <tr>\n",
       "      <th>x1_Yes</th>\n",
       "      <td>0.478540</td>\n",
       "    </tr>\n",
       "    <tr>\n",
       "      <th>x1_Often</th>\n",
       "      <td>0.368185</td>\n",
       "    </tr>\n",
       "    <tr>\n",
       "      <th>x5_Yes</th>\n",
       "      <td>0.298921</td>\n",
       "    </tr>\n",
       "    <tr>\n",
       "      <th>x1_Sometimes</th>\n",
       "      <td>0.280582</td>\n",
       "    </tr>\n",
       "    <tr>\n",
       "      <th>x0_female</th>\n",
       "      <td>0.241376</td>\n",
       "    </tr>\n",
       "    <tr>\n",
       "      <th>x5_No</th>\n",
       "      <td>0.212231</td>\n",
       "    </tr>\n",
       "    <tr>\n",
       "      <th>x1_Maybe</th>\n",
       "      <td>0.194502</td>\n",
       "    </tr>\n",
       "    <tr>\n",
       "      <th>x4_Yes</th>\n",
       "      <td>0.162763</td>\n",
       "    </tr>\n",
       "    <tr>\n",
       "      <th>x1_Never</th>\n",
       "      <td>0.160405</td>\n",
       "    </tr>\n",
       "    <tr>\n",
       "      <th>x12_Yes</th>\n",
       "      <td>0.155432</td>\n",
       "    </tr>\n",
       "    <tr>\n",
       "      <th>x11_Difficult</th>\n",
       "      <td>0.144643</td>\n",
       "    </tr>\n",
       "    <tr>\n",
       "      <th>x0_others</th>\n",
       "      <td>0.132016</td>\n",
       "    </tr>\n",
       "    <tr>\n",
       "      <th>x4_Maybe</th>\n",
       "      <td>0.119349</td>\n",
       "    </tr>\n",
       "    <tr>\n",
       "      <th>x6_Maybe</th>\n",
       "      <td>0.109371</td>\n",
       "    </tr>\n",
       "    <tr>\n",
       "      <th>x0_male</th>\n",
       "      <td>0.108889</td>\n",
       "    </tr>\n",
       "    <tr>\n",
       "      <th>x2_No</th>\n",
       "      <td>0.103559</td>\n",
       "    </tr>\n",
       "    <tr>\n",
       "      <th>x2_100-500</th>\n",
       "      <td>0.099597</td>\n",
       "    </tr>\n",
       "    <tr>\n",
       "      <th>x9_No</th>\n",
       "      <td>0.098116</td>\n",
       "    </tr>\n",
       "    <tr>\n",
       "      <th>x12_No</th>\n",
       "      <td>0.096221</td>\n",
       "    </tr>\n",
       "    <tr>\n",
       "      <th>x11_Maybe</th>\n",
       "      <td>0.091587</td>\n",
       "    </tr>\n",
       "    <tr>\n",
       "      <th>x8_No</th>\n",
       "      <td>0.089478</td>\n",
       "    </tr>\n",
       "    <tr>\n",
       "      <th>x8_Yes</th>\n",
       "      <td>0.087896</td>\n",
       "    </tr>\n",
       "    <tr>\n",
       "      <th>x5_Maybe</th>\n",
       "      <td>0.086219</td>\n",
       "    </tr>\n",
       "    <tr>\n",
       "      <th>x2_Maybe</th>\n",
       "      <td>0.082773</td>\n",
       "    </tr>\n",
       "    <tr>\n",
       "      <th>x6_Yes</th>\n",
       "      <td>0.081218</td>\n",
       "    </tr>\n",
       "    <tr>\n",
       "      <th>x9_Yes</th>\n",
       "      <td>0.079176</td>\n",
       "    </tr>\n",
       "    <tr>\n",
       "      <th>x12_Maybe</th>\n",
       "      <td>0.058740</td>\n",
       "    </tr>\n",
       "    <tr>\n",
       "      <th>x10_Yes</th>\n",
       "      <td>0.054623</td>\n",
       "    </tr>\n",
       "    <tr>\n",
       "      <th>x11_Easy</th>\n",
       "      <td>0.052585</td>\n",
       "    </tr>\n",
       "    <tr>\n",
       "      <th>x0_Yes</th>\n",
       "      <td>0.048973</td>\n",
       "    </tr>\n",
       "    <tr>\n",
       "      <th>x0_No</th>\n",
       "      <td>0.048502</td>\n",
       "    </tr>\n",
       "    <tr>\n",
       "      <th>x7_Yes</th>\n",
       "      <td>0.043755</td>\n",
       "    </tr>\n",
       "    <tr>\n",
       "      <th>x13_Yes</th>\n",
       "      <td>0.043413</td>\n",
       "    </tr>\n",
       "    <tr>\n",
       "      <th>x2_6-25</th>\n",
       "      <td>0.043071</td>\n",
       "    </tr>\n",
       "    <tr>\n",
       "      <th>x4_No</th>\n",
       "      <td>0.042943</td>\n",
       "    </tr>\n",
       "    <tr>\n",
       "      <th>x7_Maybe</th>\n",
       "      <td>0.042806</td>\n",
       "    </tr>\n",
       "    <tr>\n",
       "      <th>x10_No</th>\n",
       "      <td>0.041151</td>\n",
       "    </tr>\n",
       "    <tr>\n",
       "      <th>x2_500-1000</th>\n",
       "      <td>0.038120</td>\n",
       "    </tr>\n",
       "    <tr>\n",
       "      <th>x6_No</th>\n",
       "      <td>0.028625</td>\n",
       "    </tr>\n",
       "    <tr>\n",
       "      <th>x13_Maybe</th>\n",
       "      <td>0.024372</td>\n",
       "    </tr>\n",
       "    <tr>\n",
       "      <th>Age</th>\n",
       "      <td>0.022144</td>\n",
       "    </tr>\n",
       "    <tr>\n",
       "      <th>x3_Yes</th>\n",
       "      <td>0.021390</td>\n",
       "    </tr>\n",
       "    <tr>\n",
       "      <th>x3_No</th>\n",
       "      <td>0.020919</td>\n",
       "    </tr>\n",
       "    <tr>\n",
       "      <th>x2_Yes</th>\n",
       "      <td>0.020315</td>\n",
       "    </tr>\n",
       "    <tr>\n",
       "      <th>x13_No</th>\n",
       "      <td>0.019513</td>\n",
       "    </tr>\n",
       "    <tr>\n",
       "      <th>x9_Maybe</th>\n",
       "      <td>0.019411</td>\n",
       "    </tr>\n",
       "    <tr>\n",
       "      <th>x2_1-5</th>\n",
       "      <td>0.016185</td>\n",
       "    </tr>\n",
       "    <tr>\n",
       "      <th>x10_Maybe</th>\n",
       "      <td>0.013001</td>\n",
       "    </tr>\n",
       "    <tr>\n",
       "      <th>x2_26-100</th>\n",
       "      <td>0.011955</td>\n",
       "    </tr>\n",
       "    <tr>\n",
       "      <th>x2_More than 1000</th>\n",
       "      <td>0.010204</td>\n",
       "    </tr>\n",
       "    <tr>\n",
       "      <th>x8_Maybe</th>\n",
       "      <td>0.002053</td>\n",
       "    </tr>\n",
       "    <tr>\n",
       "      <th>x7_No</th>\n",
       "      <td>0.000478</td>\n",
       "    </tr>\n",
       "  </tbody>\n",
       "</table>\n",
       "</div>"
      ],
      "text/plain": [
       "                            coef\n",
       "x1_Not applicable to me 0.997701\n",
       "x1_No                   0.672571\n",
       "x1_Rarely               0.509811\n",
       "x1_Yes                  0.478540\n",
       "x1_Often                0.368185\n",
       "x5_Yes                  0.298921\n",
       "x1_Sometimes            0.280582\n",
       "x0_female               0.241376\n",
       "x5_No                   0.212231\n",
       "x1_Maybe                0.194502\n",
       "x4_Yes                  0.162763\n",
       "x1_Never                0.160405\n",
       "x12_Yes                 0.155432\n",
       "x11_Difficult           0.144643\n",
       "x0_others               0.132016\n",
       "x4_Maybe                0.119349\n",
       "x6_Maybe                0.109371\n",
       "x0_male                 0.108889\n",
       "x2_No                   0.103559\n",
       "x2_100-500              0.099597\n",
       "x9_No                   0.098116\n",
       "x12_No                  0.096221\n",
       "x11_Maybe               0.091587\n",
       "x8_No                   0.089478\n",
       "x8_Yes                  0.087896\n",
       "x5_Maybe                0.086219\n",
       "x2_Maybe                0.082773\n",
       "x6_Yes                  0.081218\n",
       "x9_Yes                  0.079176\n",
       "x12_Maybe               0.058740\n",
       "x10_Yes                 0.054623\n",
       "x11_Easy                0.052585\n",
       "x0_Yes                  0.048973\n",
       "x0_No                   0.048502\n",
       "x7_Yes                  0.043755\n",
       "x13_Yes                 0.043413\n",
       "x2_6-25                 0.043071\n",
       "x4_No                   0.042943\n",
       "x7_Maybe                0.042806\n",
       "x10_No                  0.041151\n",
       "x2_500-1000             0.038120\n",
       "x6_No                   0.028625\n",
       "x13_Maybe               0.024372\n",
       "Age                     0.022144\n",
       "x3_Yes                  0.021390\n",
       "x3_No                   0.020919\n",
       "x2_Yes                  0.020315\n",
       "x13_No                  0.019513\n",
       "x9_Maybe                0.019411\n",
       "x2_1-5                  0.016185\n",
       "x10_Maybe               0.013001\n",
       "x2_26-100               0.011955\n",
       "x2_More than 1000       0.010204\n",
       "x8_Maybe                0.002053\n",
       "x7_No                   0.000478"
      ]
     },
     "execution_count": 91,
     "metadata": {},
     "output_type": "execute_result"
    }
   ],
   "source": [
    "features = list(transformer.transformers_[0][1].get_feature_names())+list(transformer.transformers_[1][1][1].get_feature_names())+['Age']\n",
    "coef_table = pd.DataFrame({'coef': grid_lr.best_estimator_[1].coef_.flatten()}, index = features)\n",
    "abs(coef_table).sort_values('coef', ascending = False)"
   ]
  },
  {
   "cell_type": "code",
   "execution_count": 92,
   "id": "d7565d3f",
   "metadata": {},
   "outputs": [
    {
     "data": {
      "image/png": "[encoded data removed]",
      "text/plain": [
       "<Figure size 1296x1440 with 1 Axes>"
      ]
     },
     "metadata": {
      "needs_background": "light"
     },
     "output_type": "display_data"
    }
   ],
   "source": [
    "abs(coef_table).plot(kind = 'barh', figsize = (18,20))\n",
    "plt.grid()\n",
    "plt.show()"
   ]
  },
  {
   "cell_type": "markdown",
   "id": "de7cab1e",
   "metadata": {},
   "source": [
    "Features not important: x3 (tech_org), age, x 14 (supervisor_disc), x8 (ment_interview), x0 (self_employed), x7 (resources),  x11 (anonymity). Dropped initially for baseline"
   ]
  },
  {
   "cell_type": "markdown",
   "id": "7a45843c",
   "metadata": {},
   "source": [
    "## Random forest"
   ]
  },
  {
   "cell_type": "code",
   "execution_count": 93,
   "id": "06008ea4",
   "metadata": {},
   "outputs": [
    {
     "data": {
      "text/plain": [
       "[('one hot',\n",
       "  OneHotEncoder(handle_unknown='ignore'),\n",
       "  ['gender', 'family_history', 'ment_interview']),\n",
       " ('mode_onehot_pipe',\n",
       "  Pipeline(steps=[('encoder', SimpleImputer(strategy='most_frequent')),\n",
       "                  ('one hot encoder', OneHotEncoder(handle_unknown='ignore'))]),\n",
       "  ['self_employed',\n",
       "   'work_interfere',\n",
       "   'no_employees',\n",
       "   'tech_org',\n",
       "   'ment_health_benefits',\n",
       "   'employer_option_awareness',\n",
       "   'wellness_program_include',\n",
       "   'resources',\n",
       "   'phy_interview',\n",
       "   'neg_conseq_coworkers',\n",
       "   'anonymity',\n",
       "   'leave',\n",
       "   'coworkers_dis',\n",
       "   'supervisor_disc']),\n",
       " ('iterative', IterativeImputer(random_state=0), ['age'])]"
      ]
     },
     "execution_count": 93,
     "metadata": {},
     "output_type": "execute_result"
    }
   ],
   "source": [
    "# Random Forest\n",
    "\n",
    "transformer.transformers_"
   ]
  },
  {
   "cell_type": "code",
   "execution_count": 94,
   "id": "d2130380",
   "metadata": {},
   "outputs": [
    {
     "data": {
      "text/html": [
       "<div>\n",
       "<style scoped>\n",
       "    .dataframe tbody tr th:only-of-type {\n",
       "        vertical-align: middle;\n",
       "    }\n",
       "\n",
       "    .dataframe tbody tr th {\n",
       "        vertical-align: top;\n",
       "    }\n",
       "\n",
       "    .dataframe thead th {\n",
       "        text-align: right;\n",
       "    }\n",
       "</style>\n",
       "<table border=\"1\" class=\"dataframe\">\n",
       "  <thead>\n",
       "    <tr style=\"text-align: right;\">\n",
       "      <th></th>\n",
       "      <th>feature_importance</th>\n",
       "    </tr>\n",
       "  </thead>\n",
       "  <tbody>\n",
       "    <tr>\n",
       "      <th>x1_Not applicable to me</th>\n",
       "      <td>0.179593</td>\n",
       "    </tr>\n",
       "    <tr>\n",
       "      <th>x1_No</th>\n",
       "      <td>0.108325</td>\n",
       "    </tr>\n",
       "    <tr>\n",
       "      <th>x1_Yes</th>\n",
       "      <td>0.066819</td>\n",
       "    </tr>\n",
       "    <tr>\n",
       "      <th>age</th>\n",
       "      <td>0.064408</td>\n",
       "    </tr>\n",
       "    <tr>\n",
       "      <th>x1_Rarely</th>\n",
       "      <td>0.045963</td>\n",
       "    </tr>\n",
       "    <tr>\n",
       "      <th>x5_Yes</th>\n",
       "      <td>0.033582</td>\n",
       "    </tr>\n",
       "    <tr>\n",
       "      <th>x1_Sometimes</th>\n",
       "      <td>0.030868</td>\n",
       "    </tr>\n",
       "    <tr>\n",
       "      <th>x1_Often</th>\n",
       "      <td>0.023565</td>\n",
       "    </tr>\n",
       "    <tr>\n",
       "      <th>x5_No</th>\n",
       "      <td>0.018453</td>\n",
       "    </tr>\n",
       "    <tr>\n",
       "      <th>x4_Yes</th>\n",
       "      <td>0.018362</td>\n",
       "    </tr>\n",
       "    <tr>\n",
       "      <th>x0_female</th>\n",
       "      <td>0.016975</td>\n",
       "    </tr>\n",
       "    <tr>\n",
       "      <th>x1_Maybe</th>\n",
       "      <td>0.016579</td>\n",
       "    </tr>\n",
       "    <tr>\n",
       "      <th>x1_Never</th>\n",
       "      <td>0.015155</td>\n",
       "    </tr>\n",
       "    <tr>\n",
       "      <th>x4_Maybe</th>\n",
       "      <td>0.011871</td>\n",
       "    </tr>\n",
       "    <tr>\n",
       "      <th>x0_others</th>\n",
       "      <td>0.011758</td>\n",
       "    </tr>\n",
       "    <tr>\n",
       "      <th>x11_Difficult</th>\n",
       "      <td>0.010966</td>\n",
       "    </tr>\n",
       "    <tr>\n",
       "      <th>x9_No</th>\n",
       "      <td>0.010861</td>\n",
       "    </tr>\n",
       "    <tr>\n",
       "      <th>x2_No</th>\n",
       "      <td>0.010465</td>\n",
       "    </tr>\n",
       "    <tr>\n",
       "      <th>x11_Maybe</th>\n",
       "      <td>0.010010</td>\n",
       "    </tr>\n",
       "    <tr>\n",
       "      <th>x12_Maybe</th>\n",
       "      <td>0.009968</td>\n",
       "    </tr>\n",
       "  </tbody>\n",
       "</table>\n",
       "</div>"
      ],
      "text/plain": [
       "                         feature_importance\n",
       "x1_Not applicable to me            0.179593\n",
       "x1_No                              0.108325\n",
       "x1_Yes                             0.066819\n",
       "age                                0.064408\n",
       "x1_Rarely                          0.045963\n",
       "x5_Yes                             0.033582\n",
       "x1_Sometimes                       0.030868\n",
       "x1_Often                           0.023565\n",
       "x5_No                              0.018453\n",
       "x4_Yes                             0.018362\n",
       "x0_female                          0.016975\n",
       "x1_Maybe                           0.016579\n",
       "x1_Never                           0.015155\n",
       "x4_Maybe                           0.011871\n",
       "x0_others                          0.011758\n",
       "x11_Difficult                      0.010966\n",
       "x9_No                              0.010861\n",
       "x2_No                              0.010465\n",
       "x11_Maybe                          0.010010\n",
       "x12_Maybe                          0.009968"
      ]
     },
     "execution_count": 94,
     "metadata": {},
     "output_type": "execute_result"
    }
   ],
   "source": [
    "# check feature importances\n",
    "\n",
    "features = list(transformer.transformers_[0][1].get_feature_names())+list(transformer.transformers_[1][1][1].get_feature_names())+['age']\n",
    "imp_table = pd.DataFrame({'feature_importance': grid_rf.best_estimator_[1].feature_importances_}, index = features)\n",
    "abs(imp_table).sort_values('feature_importance', ascending = False).head(20)"
   ]
  },
  {
   "cell_type": "code",
   "execution_count": 95,
   "id": "1f8c3a71",
   "metadata": {},
   "outputs": [
    {
     "data": {
      "text/plain": [
       "RandomForestClassifier(max_depth=40, min_samples_split=10, n_estimators=400,\n",
       "                       random_state=2022)"
      ]
     },
     "execution_count": 95,
     "metadata": {},
     "output_type": "execute_result"
    }
   ],
   "source": [
    "grid_rf.best_estimator_[1]"
   ]
  },
  {
   "cell_type": "code",
   "execution_count": 96,
   "id": "a786dc4e",
   "metadata": {},
   "outputs": [
    {
     "data": {
      "image/png": "[encoded data removed]",
      "text/plain": [
       "<Figure size 1296x1440 with 1 Axes>"
      ]
     },
     "metadata": {
      "needs_background": "light"
     },
     "output_type": "display_data"
    }
   ],
   "source": [
    "abs(imp_table).plot(kind = 'barh', figsize = (18,20))\n",
    "plt.grid()\n",
    "plt.show()"
   ]
  },
  {
   "cell_type": "markdown",
   "id": "625af61b",
   "metadata": {},
   "source": [
    "drop x0 (self_employed), x2 (ment_interview), x3 (tech_org), x7 (resources)"
   ]
  },
  {
   "cell_type": "markdown",
   "id": "37208205",
   "metadata": {},
   "source": [
    "# Run another iteration using feature selection"
   ]
  },
  {
   "cell_type": "markdown",
   "id": "97a529f1",
   "metadata": {},
   "source": [
    "## logistic regression (Initially used)"
   ]
  },
  {
   "cell_type": "code",
   "execution_count": 97,
   "id": "2a9781c6",
   "metadata": {},
   "outputs": [
    {
     "data": {
      "text/html": [
       "<div>\n",
       "<style scoped>\n",
       "    .dataframe tbody tr th:only-of-type {\n",
       "        vertical-align: middle;\n",
       "    }\n",
       "\n",
       "    .dataframe tbody tr th {\n",
       "        vertical-align: top;\n",
       "    }\n",
       "\n",
       "    .dataframe thead th {\n",
       "        text-align: right;\n",
       "    }\n",
       "</style>\n",
       "<table border=\"1\" class=\"dataframe\">\n",
       "  <thead>\n",
       "    <tr style=\"text-align: right;\">\n",
       "      <th></th>\n",
       "      <th>gender</th>\n",
       "      <th>family_history</th>\n",
       "      <th>treatment</th>\n",
       "      <th>work_interfere</th>\n",
       "      <th>no_employees</th>\n",
       "      <th>ment_health_benefits</th>\n",
       "      <th>employer_option_awareness</th>\n",
       "      <th>wellness_program_include</th>\n",
       "      <th>phy_interview</th>\n",
       "      <th>neg_conseq_coworkers</th>\n",
       "      <th>leave</th>\n",
       "      <th>coworkers_dis</th>\n",
       "    </tr>\n",
       "  </thead>\n",
       "  <tbody>\n",
       "    <tr>\n",
       "      <th>0</th>\n",
       "      <td>female</td>\n",
       "      <td>No</td>\n",
       "      <td>1</td>\n",
       "      <td>Often</td>\n",
       "      <td>6-25</td>\n",
       "      <td>Yes</td>\n",
       "      <td>Maybe</td>\n",
       "      <td>No</td>\n",
       "      <td>Maybe</td>\n",
       "      <td>No</td>\n",
       "      <td>Easy</td>\n",
       "      <td>Maybe</td>\n",
       "    </tr>\n",
       "    <tr>\n",
       "      <th>1</th>\n",
       "      <td>others</td>\n",
       "      <td>No</td>\n",
       "      <td>0</td>\n",
       "      <td>Rarely</td>\n",
       "      <td>More than 1000</td>\n",
       "      <td>Maybe</td>\n",
       "      <td>No</td>\n",
       "      <td>Maybe</td>\n",
       "      <td>No</td>\n",
       "      <td>No</td>\n",
       "      <td>Maybe</td>\n",
       "      <td>No</td>\n",
       "    </tr>\n",
       "    <tr>\n",
       "      <th>2</th>\n",
       "      <td>others</td>\n",
       "      <td>No</td>\n",
       "      <td>0</td>\n",
       "      <td>Rarely</td>\n",
       "      <td>6-25</td>\n",
       "      <td>No</td>\n",
       "      <td>No</td>\n",
       "      <td>No</td>\n",
       "      <td>Yes</td>\n",
       "      <td>No</td>\n",
       "      <td>Difficult</td>\n",
       "      <td>Yes</td>\n",
       "    </tr>\n",
       "    <tr>\n",
       "      <th>3</th>\n",
       "      <td>others</td>\n",
       "      <td>Yes</td>\n",
       "      <td>1</td>\n",
       "      <td>Often</td>\n",
       "      <td>26-100</td>\n",
       "      <td>No</td>\n",
       "      <td>Yes</td>\n",
       "      <td>No</td>\n",
       "      <td>Maybe</td>\n",
       "      <td>Yes</td>\n",
       "      <td>Difficult</td>\n",
       "      <td>Maybe</td>\n",
       "    </tr>\n",
       "    <tr>\n",
       "      <th>4</th>\n",
       "      <td>others</td>\n",
       "      <td>No</td>\n",
       "      <td>0</td>\n",
       "      <td>Never</td>\n",
       "      <td>100-500</td>\n",
       "      <td>Yes</td>\n",
       "      <td>No</td>\n",
       "      <td>Maybe</td>\n",
       "      <td>Yes</td>\n",
       "      <td>No</td>\n",
       "      <td>Maybe</td>\n",
       "      <td>Maybe</td>\n",
       "    </tr>\n",
       "  </tbody>\n",
       "</table>\n",
       "</div>"
      ],
      "text/plain": [
       "   gender family_history  treatment work_interfere    no_employees  \\\n",
       "0  female             No          1          Often            6-25   \n",
       "1  others             No          0         Rarely  More than 1000   \n",
       "2  others             No          0         Rarely            6-25   \n",
       "3  others            Yes          1          Often          26-100   \n",
       "4  others             No          0          Never         100-500   \n",
       "\n",
       "  ment_health_benefits employer_option_awareness wellness_program_include  \\\n",
       "0                  Yes                     Maybe                       No   \n",
       "1                Maybe                        No                    Maybe   \n",
       "2                   No                        No                       No   \n",
       "3                   No                       Yes                       No   \n",
       "4                  Yes                        No                    Maybe   \n",
       "\n",
       "  phy_interview neg_conseq_coworkers      leave coworkers_dis  \n",
       "0         Maybe                   No       Easy         Maybe  \n",
       "1            No                   No      Maybe            No  \n",
       "2           Yes                   No  Difficult           Yes  \n",
       "3         Maybe                  Yes  Difficult         Maybe  \n",
       "4           Yes                   No      Maybe         Maybe  "
      ]
     },
     "execution_count": 97,
     "metadata": {},
     "output_type": "execute_result"
    }
   ],
   "source": [
    "df_tuning = df.copy()\n",
    "df_tuning.drop(columns = ['age', 'supervisor_disc', 'tech_org', \"ment_interview\", \"self_employed\", \"resources\", \"anonymity\"],\n",
    "               inplace = True)\n",
    "df_tuning.head()"
   ]
  },
  {
   "cell_type": "code",
   "execution_count": 98,
   "id": "9f334183",
   "metadata": {},
   "outputs": [],
   "source": [
    "# Pipeline\n",
    "\n",
    "mode_onehot_pipe_second = Pipeline([\n",
    "    ('encoder', SimpleImputer(strategy = 'most_frequent')),\n",
    "    ('one hot encoder', OneHotEncoder(handle_unknown = 'ignore'))\n",
    "])\n",
    "\n",
    "transformer_second = ColumnTransformer([\n",
    "    ('one hot', OneHotEncoder(handle_unknown = 'ignore'), ['gender', 'family_history']),\n",
    "    \n",
    "    ('mode_onehot_pipe', mode_onehot_pipe, ['work_interfere', 'no_employees',\n",
    "       'ment_health_benefits', 'employer_option_awareness',\n",
    "       'wellness_program_include',\n",
    "       'phy_interview', 'neg_conseq_coworkers', \"leave\",\n",
    "       'coworkers_dis'])\n",
    "    ])"
   ]
  },
  {
   "cell_type": "code",
   "execution_count": 99,
   "id": "f068cc76",
   "metadata": {},
   "outputs": [
    {
     "name": "stdout",
     "output_type": "stream",
     "text": [
      "After Feature Selection Process, the recall score is  0.8489583333333334\n"
     ]
    }
   ],
   "source": [
    "X_select = df_tuning.drop('treatment', axis = 1)\n",
    "y_select = df_tuning['treatment']\n",
    "\n",
    "X_select_train, X_select_test, y_select_train, y_select_test = train_test_split(X_select,y_select,\n",
    "                                                   stratify = y_select,\n",
    "                                                    test_size = 0.3,\n",
    "                                                   random_state = 2022)\n",
    "logreg_second = LogisticRegression(C = 0.5, class_weight = 'dict', max_iter = 100,\n",
    "                                   multi_class = 'auto', random_state = 2022, solver = 'newton-cg')\n",
    "logreg_second_pipe = Pipeline([('transformer', transformer_second), ('model', logreg_second)])\n",
    "logreg_second_pipe.fit(X_select_train, y_select_train)\n",
    "print('After Feature Selection Process, the recall score is ', recall_score(y_select_test, logreg_second_pipe.predict(X_select_test)))"
   ]
  },
  {
   "cell_type": "markdown",
   "id": "4985b063",
   "metadata": {},
   "source": [
    "## Random Forest"
   ]
  },
  {
   "cell_type": "code",
   "execution_count": 100,
   "id": "f1bf4edc",
   "metadata": {},
   "outputs": [
    {
     "data": {
      "text/html": [
       "<div>\n",
       "<style scoped>\n",
       "    .dataframe tbody tr th:only-of-type {\n",
       "        vertical-align: middle;\n",
       "    }\n",
       "\n",
       "    .dataframe tbody tr th {\n",
       "        vertical-align: top;\n",
       "    }\n",
       "\n",
       "    .dataframe thead th {\n",
       "        text-align: right;\n",
       "    }\n",
       "</style>\n",
       "<table border=\"1\" class=\"dataframe\">\n",
       "  <thead>\n",
       "    <tr style=\"text-align: right;\">\n",
       "      <th></th>\n",
       "      <th>age</th>\n",
       "      <th>gender</th>\n",
       "      <th>family_history</th>\n",
       "      <th>treatment</th>\n",
       "      <th>work_interfere</th>\n",
       "      <th>no_employees</th>\n",
       "      <th>ment_health_benefits</th>\n",
       "      <th>employer_option_awareness</th>\n",
       "      <th>wellness_program_include</th>\n",
       "      <th>phy_interview</th>\n",
       "      <th>neg_conseq_coworkers</th>\n",
       "      <th>anonymity</th>\n",
       "      <th>leave</th>\n",
       "      <th>coworkers_dis</th>\n",
       "      <th>supervisor_disc</th>\n",
       "    </tr>\n",
       "  </thead>\n",
       "  <tbody>\n",
       "    <tr>\n",
       "      <th>0</th>\n",
       "      <td>37.000000</td>\n",
       "      <td>female</td>\n",
       "      <td>No</td>\n",
       "      <td>1</td>\n",
       "      <td>Often</td>\n",
       "      <td>6-25</td>\n",
       "      <td>Yes</td>\n",
       "      <td>Maybe</td>\n",
       "      <td>No</td>\n",
       "      <td>Maybe</td>\n",
       "      <td>No</td>\n",
       "      <td>Yes</td>\n",
       "      <td>Easy</td>\n",
       "      <td>Maybe</td>\n",
       "      <td>Yes</td>\n",
       "    </tr>\n",
       "    <tr>\n",
       "      <th>1</th>\n",
       "      <td>44.000000</td>\n",
       "      <td>others</td>\n",
       "      <td>No</td>\n",
       "      <td>0</td>\n",
       "      <td>Rarely</td>\n",
       "      <td>More than 1000</td>\n",
       "      <td>Maybe</td>\n",
       "      <td>No</td>\n",
       "      <td>Maybe</td>\n",
       "      <td>No</td>\n",
       "      <td>No</td>\n",
       "      <td>Maybe</td>\n",
       "      <td>Maybe</td>\n",
       "      <td>No</td>\n",
       "      <td>No</td>\n",
       "    </tr>\n",
       "    <tr>\n",
       "      <th>2</th>\n",
       "      <td>32.000000</td>\n",
       "      <td>others</td>\n",
       "      <td>No</td>\n",
       "      <td>0</td>\n",
       "      <td>Rarely</td>\n",
       "      <td>6-25</td>\n",
       "      <td>No</td>\n",
       "      <td>No</td>\n",
       "      <td>No</td>\n",
       "      <td>Yes</td>\n",
       "      <td>No</td>\n",
       "      <td>Maybe</td>\n",
       "      <td>Difficult</td>\n",
       "      <td>Yes</td>\n",
       "      <td>Yes</td>\n",
       "    </tr>\n",
       "    <tr>\n",
       "      <th>3</th>\n",
       "      <td>31.000000</td>\n",
       "      <td>others</td>\n",
       "      <td>Yes</td>\n",
       "      <td>1</td>\n",
       "      <td>Often</td>\n",
       "      <td>26-100</td>\n",
       "      <td>No</td>\n",
       "      <td>Yes</td>\n",
       "      <td>No</td>\n",
       "      <td>Maybe</td>\n",
       "      <td>Yes</td>\n",
       "      <td>No</td>\n",
       "      <td>Difficult</td>\n",
       "      <td>Maybe</td>\n",
       "      <td>No</td>\n",
       "    </tr>\n",
       "    <tr>\n",
       "      <th>4</th>\n",
       "      <td>31.000000</td>\n",
       "      <td>others</td>\n",
       "      <td>No</td>\n",
       "      <td>0</td>\n",
       "      <td>Never</td>\n",
       "      <td>100-500</td>\n",
       "      <td>Yes</td>\n",
       "      <td>No</td>\n",
       "      <td>Maybe</td>\n",
       "      <td>Yes</td>\n",
       "      <td>No</td>\n",
       "      <td>Maybe</td>\n",
       "      <td>Maybe</td>\n",
       "      <td>Maybe</td>\n",
       "      <td>Yes</td>\n",
       "    </tr>\n",
       "  </tbody>\n",
       "</table>\n",
       "</div>"
      ],
      "text/plain": [
       "        age  gender family_history  treatment work_interfere    no_employees  \\\n",
       "0 37.000000  female             No          1          Often            6-25   \n",
       "1 44.000000  others             No          0         Rarely  More than 1000   \n",
       "2 32.000000  others             No          0         Rarely            6-25   \n",
       "3 31.000000  others            Yes          1          Often          26-100   \n",
       "4 31.000000  others             No          0          Never         100-500   \n",
       "\n",
       "  ment_health_benefits employer_option_awareness wellness_program_include  \\\n",
       "0                  Yes                     Maybe                       No   \n",
       "1                Maybe                        No                    Maybe   \n",
       "2                   No                        No                       No   \n",
       "3                   No                       Yes                       No   \n",
       "4                  Yes                        No                    Maybe   \n",
       "\n",
       "  phy_interview neg_conseq_coworkers anonymity      leave coworkers_dis  \\\n",
       "0         Maybe                   No       Yes       Easy         Maybe   \n",
       "1            No                   No     Maybe      Maybe            No   \n",
       "2           Yes                   No     Maybe  Difficult           Yes   \n",
       "3         Maybe                  Yes        No  Difficult         Maybe   \n",
       "4           Yes                   No     Maybe      Maybe         Maybe   \n",
       "\n",
       "  supervisor_disc  \n",
       "0             Yes  \n",
       "1              No  \n",
       "2             Yes  \n",
       "3              No  \n",
       "4             Yes  "
      ]
     },
     "execution_count": 100,
     "metadata": {},
     "output_type": "execute_result"
    }
   ],
   "source": [
    "df_tuning = df.copy()\n",
    "df_tuning.drop(columns = ['tech_org', \"ment_interview\", \"self_employed\", \"resources\"],\n",
    "               inplace = True)\n",
    "df_tuning.head()"
   ]
  },
  {
   "cell_type": "code",
   "execution_count": 101,
   "id": "bab1fe3a",
   "metadata": {},
   "outputs": [],
   "source": [
    "mode_onehot_pipe_second = Pipeline([\n",
    "    ('encoder', SimpleImputer(strategy = 'most_frequent')),\n",
    "    ('one hot encoder', OneHotEncoder(handle_unknown = 'ignore'))\n",
    "])\n",
    "\n",
    "transformer_second = ColumnTransformer([\n",
    "    ('one hot', OneHotEncoder(handle_unknown = 'ignore'), ['gender', 'family_history']),\n",
    "    \n",
    "    ('mode_onehot_pipe', mode_onehot_pipe, ['work_interfere', 'no_employees',\n",
    "       'ment_health_benefits', 'employer_option_awareness',\n",
    "       'wellness_program_include',\n",
    "       'phy_interview', 'neg_conseq_coworkers', 'anonymity', \"leave\",\n",
    "       'coworkers_dis', 'supervisor_disc']),\n",
    "    ('iterative', IterativeImputer(max_iter = 10, random_state = 0), ['age'])])"
   ]
  },
  {
   "cell_type": "code",
   "execution_count": 102,
   "id": "d52d68dc",
   "metadata": {},
   "outputs": [
    {
     "name": "stdout",
     "output_type": "stream",
     "text": [
      "After Feature Selection Process, the specificity score is  0.7225042301184433\n"
     ]
    }
   ],
   "source": [
    "X_select = df_tuning.drop('treatment', axis = 1)\n",
    "y_select = df_tuning['treatment']\n",
    "\n",
    "X_select_train, X_select_test, y_select_train, y_select_test = train_test_split(X_select,y_select,\n",
    "                                                   stratify = y_select,\n",
    "                                                    test_size = 0.3,\n",
    "                                                   random_state = 2022)\n",
    "rf_second = RandomForestClassifier(max_depth=40, min_samples_split=5, n_estimators=400,\n",
    "                       random_state=2022)\n",
    "rf_second_pipe = Pipeline([('transformer', transformer_second), ('model', rf_second)])\n",
    "rf_second_pipe.fit(X_select_train, y_select_train)\n",
    "\n",
    "cm=confusion_matrix(y_test, rf_second_pipe.predict(X_select_test))\n",
    "tn, fp, fn, tp = cm.ravel()\n",
    "specificity_rf_second = tn / (tn+fp)\n",
    "\n",
    "\n",
    "\n",
    "print('After Feature Selection Process, the specificity score is ', specificity_rf_second)"
   ]
  },
  {
   "cell_type": "markdown",
   "id": "a9aaf804",
   "metadata": {},
   "source": [
    "We thus reduced features, without affecting our specificity score"
   ]
  },
  {
   "cell_type": "markdown",
   "id": "e69851b1",
   "metadata": {},
   "source": [
    "# Deployment"
   ]
  },
  {
   "cell_type": "markdown",
   "id": "a09a1531",
   "metadata": {},
   "source": [
    "## Random Forest model (Final model tuning: threshold)"
   ]
  },
  {
   "cell_type": "code",
   "execution_count": 109,
   "id": "2b4f5e7b",
   "metadata": {},
   "outputs": [
    {
     "data": {
      "text/plain": [
       "Pipeline(steps=[('transformer',\n",
       "                 ColumnTransformer(transformers=[('one hot',\n",
       "                                                  OneHotEncoder(handle_unknown='ignore'),\n",
       "                                                  ['gender', 'family_history']),\n",
       "                                                 ('mode_onehot_pipe',\n",
       "                                                  Pipeline(steps=[('encoder',\n",
       "                                                                   SimpleImputer(strategy='most_frequent')),\n",
       "                                                                  ('one hot '\n",
       "                                                                   'encoder',\n",
       "                                                                   OneHotEncoder(handle_unknown='ignore'))]),\n",
       "                                                  ['work_interfere',\n",
       "                                                   'no_employees',\n",
       "                                                   'ment_health_benefits',\n",
       "                                                   'employer_option_awareness',\n",
       "                                                   'wellness_program_include',\n",
       "                                                   'phy_interview',\n",
       "                                                   'neg_conseq_coworkers',\n",
       "                                                   'anonymity', 'leave',\n",
       "                                                   'coworkers_dis',\n",
       "                                                   'supervisor_disc']),\n",
       "                                                 ('iterative',\n",
       "                                                  IterativeImputer(random_state=0),\n",
       "                                                  ['age'])])),\n",
       "                ('model',\n",
       "                 RandomForestClassifier(max_depth=40, min_samples_split=5,\n",
       "                                        n_estimators=400, random_state=2022))])"
      ]
     },
     "execution_count": 109,
     "metadata": {},
     "output_type": "execute_result"
    }
   ],
   "source": [
    "rf_second_pipe.fit(X_select, y_select)"
   ]
  },
  {
   "cell_type": "code",
   "execution_count": 110,
   "id": "7bc0a76b",
   "metadata": {},
   "outputs": [],
   "source": [
    "# Kfold CV\n",
    "\n",
    "cv2 = StratifiedKFold(n_splits = 5, random_state=2022, shuffle = True)"
   ]
  },
  {
   "cell_type": "markdown",
   "id": "37bc2f32",
   "metadata": {},
   "source": [
    "**We change the threshold to make sure we don't miss any employee that needs help**"
   ]
  },
  {
   "cell_type": "code",
   "execution_count": 111,
   "id": "dc4bbf90",
   "metadata": {},
   "outputs": [
    {
     "data": {
      "text/html": [
       "<div>\n",
       "<style scoped>\n",
       "    .dataframe tbody tr th:only-of-type {\n",
       "        vertical-align: middle;\n",
       "    }\n",
       "\n",
       "    .dataframe tbody tr th {\n",
       "        vertical-align: top;\n",
       "    }\n",
       "\n",
       "    .dataframe thead th {\n",
       "        text-align: right;\n",
       "    }\n",
       "</style>\n",
       "<table border=\"1\" class=\"dataframe\">\n",
       "  <thead>\n",
       "    <tr style=\"text-align: right;\">\n",
       "      <th></th>\n",
       "      <th>loop</th>\n",
       "      <th>metric</th>\n",
       "      <th>test</th>\n",
       "    </tr>\n",
       "  </thead>\n",
       "  <tbody>\n",
       "    <tr>\n",
       "      <th>0</th>\n",
       "      <td>0</td>\n",
       "      <td>accuracy</td>\n",
       "      <td>0.822296</td>\n",
       "    </tr>\n",
       "    <tr>\n",
       "      <th>1</th>\n",
       "      <td>0</td>\n",
       "      <td>f1</td>\n",
       "      <td>0.843233</td>\n",
       "    </tr>\n",
       "    <tr>\n",
       "      <th>2</th>\n",
       "      <td>0</td>\n",
       "      <td>precision</td>\n",
       "      <td>0.840777</td>\n",
       "    </tr>\n",
       "    <tr>\n",
       "      <th>3</th>\n",
       "      <td>0</td>\n",
       "      <td>recall</td>\n",
       "      <td>0.845703</td>\n",
       "    </tr>\n",
       "    <tr>\n",
       "      <th>4</th>\n",
       "      <td>1</td>\n",
       "      <td>accuracy</td>\n",
       "      <td>0.780353</td>\n",
       "    </tr>\n",
       "    <tr>\n",
       "      <th>5</th>\n",
       "      <td>1</td>\n",
       "      <td>f1</td>\n",
       "      <td>0.808470</td>\n",
       "    </tr>\n",
       "    <tr>\n",
       "      <th>6</th>\n",
       "      <td>1</td>\n",
       "      <td>precision</td>\n",
       "      <td>0.796964</td>\n",
       "    </tr>\n",
       "    <tr>\n",
       "      <th>7</th>\n",
       "      <td>1</td>\n",
       "      <td>recall</td>\n",
       "      <td>0.820312</td>\n",
       "    </tr>\n",
       "    <tr>\n",
       "      <th>8</th>\n",
       "      <td>2</td>\n",
       "      <td>accuracy</td>\n",
       "      <td>0.800221</td>\n",
       "    </tr>\n",
       "    <tr>\n",
       "      <th>9</th>\n",
       "      <td>2</td>\n",
       "      <td>f1</td>\n",
       "      <td>0.824782</td>\n",
       "    </tr>\n",
       "    <tr>\n",
       "      <th>10</th>\n",
       "      <td>2</td>\n",
       "      <td>precision</td>\n",
       "      <td>0.817658</td>\n",
       "    </tr>\n",
       "    <tr>\n",
       "      <th>11</th>\n",
       "      <td>2</td>\n",
       "      <td>recall</td>\n",
       "      <td>0.832031</td>\n",
       "    </tr>\n",
       "    <tr>\n",
       "      <th>12</th>\n",
       "      <td>3</td>\n",
       "      <td>accuracy</td>\n",
       "      <td>0.798013</td>\n",
       "    </tr>\n",
       "    <tr>\n",
       "      <th>13</th>\n",
       "      <td>3</td>\n",
       "      <td>f1</td>\n",
       "      <td>0.825880</td>\n",
       "    </tr>\n",
       "    <tr>\n",
       "      <th>14</th>\n",
       "      <td>3</td>\n",
       "      <td>precision</td>\n",
       "      <td>0.803704</td>\n",
       "    </tr>\n",
       "    <tr>\n",
       "      <th>15</th>\n",
       "      <td>3</td>\n",
       "      <td>recall</td>\n",
       "      <td>0.849315</td>\n",
       "    </tr>\n",
       "    <tr>\n",
       "      <th>16</th>\n",
       "      <td>4</td>\n",
       "      <td>accuracy</td>\n",
       "      <td>0.794475</td>\n",
       "    </tr>\n",
       "    <tr>\n",
       "      <th>17</th>\n",
       "      <td>4</td>\n",
       "      <td>f1</td>\n",
       "      <td>0.822180</td>\n",
       "    </tr>\n",
       "    <tr>\n",
       "      <th>18</th>\n",
       "      <td>4</td>\n",
       "      <td>precision</td>\n",
       "      <td>0.803738</td>\n",
       "    </tr>\n",
       "    <tr>\n",
       "      <th>19</th>\n",
       "      <td>4</td>\n",
       "      <td>recall</td>\n",
       "      <td>0.841487</td>\n",
       "    </tr>\n",
       "  </tbody>\n",
       "</table>\n",
       "</div>"
      ],
      "text/plain": [
       "    loop     metric     test\n",
       "0      0   accuracy 0.822296\n",
       "1      0         f1 0.843233\n",
       "2      0  precision 0.840777\n",
       "3      0     recall 0.845703\n",
       "4      1   accuracy 0.780353\n",
       "5      1         f1 0.808470\n",
       "6      1  precision 0.796964\n",
       "7      1     recall 0.820312\n",
       "8      2   accuracy 0.800221\n",
       "9      2         f1 0.824782\n",
       "10     2  precision 0.817658\n",
       "11     2     recall 0.832031\n",
       "12     3   accuracy 0.798013\n",
       "13     3         f1 0.825880\n",
       "14     3  precision 0.803704\n",
       "15     3     recall 0.849315\n",
       "16     4   accuracy 0.794475\n",
       "17     4         f1 0.822180\n",
       "18     4  precision 0.803738\n",
       "19     4     recall 0.841487"
      ]
     },
     "metadata": {},
     "output_type": "display_data"
    },
    {
     "data": {
      "text/html": [
       "<div>\n",
       "<style scoped>\n",
       "    .dataframe tbody tr th:only-of-type {\n",
       "        vertical-align: middle;\n",
       "    }\n",
       "\n",
       "    .dataframe tbody tr th {\n",
       "        vertical-align: top;\n",
       "    }\n",
       "\n",
       "    .dataframe thead th {\n",
       "        text-align: right;\n",
       "    }\n",
       "</style>\n",
       "<table border=\"1\" class=\"dataframe\">\n",
       "  <thead>\n",
       "    <tr style=\"text-align: right;\">\n",
       "      <th></th>\n",
       "      <th>0</th>\n",
       "      <th>1</th>\n",
       "    </tr>\n",
       "  </thead>\n",
       "  <tbody>\n",
       "    <tr>\n",
       "      <th>0</th>\n",
       "      <td>295.200000</td>\n",
       "      <td>99.000000</td>\n",
       "    </tr>\n",
       "    <tr>\n",
       "      <th>1</th>\n",
       "      <td>83.000000</td>\n",
       "      <td>428.600000</td>\n",
       "    </tr>\n",
       "  </tbody>\n",
       "</table>\n",
       "</div>"
      ],
      "text/plain": [
       "           0          1\n",
       "0 295.200000  99.000000\n",
       "1  83.000000 428.600000"
      ]
     },
     "metadata": {},
     "output_type": "display_data"
    },
    {
     "name": "stdout",
     "output_type": "stream",
     "text": [
      "percentage:\n"
     ]
    },
    {
     "data": {
      "text/html": [
       "<div>\n",
       "<style scoped>\n",
       "    .dataframe tbody tr th:only-of-type {\n",
       "        vertical-align: middle;\n",
       "    }\n",
       "\n",
       "    .dataframe tbody tr th {\n",
       "        vertical-align: top;\n",
       "    }\n",
       "\n",
       "    .dataframe thead th {\n",
       "        text-align: right;\n",
       "    }\n",
       "</style>\n",
       "<table border=\"1\" class=\"dataframe\">\n",
       "  <thead>\n",
       "    <tr style=\"text-align: right;\">\n",
       "      <th></th>\n",
       "      <th>0</th>\n",
       "      <th>1</th>\n",
       "    </tr>\n",
       "  </thead>\n",
       "  <tbody>\n",
       "    <tr>\n",
       "      <th>0</th>\n",
       "      <td>32.589976</td>\n",
       "      <td>10.929565</td>\n",
       "    </tr>\n",
       "    <tr>\n",
       "      <th>1</th>\n",
       "      <td>9.163171</td>\n",
       "      <td>47.317289</td>\n",
       "    </tr>\n",
       "  </tbody>\n",
       "</table>\n",
       "</div>"
      ],
      "text/plain": [
       "          0         1\n",
       "0 32.589976 10.929565\n",
       "1  9.163171 47.317289"
      ]
     },
     "metadata": {},
     "output_type": "display_data"
    },
    {
     "data": {
      "text/plain": [
       "[0.7488584474885844]"
      ]
     },
     "metadata": {},
     "output_type": "display_data"
    },
    {
     "data": {
      "text/plain": [
       "[0.7990716280658104]"
      ]
     },
     "metadata": {},
     "output_type": "display_data"
    },
    {
     "data": {
      "text/plain": [
       "[0.8249088866660831]"
      ]
     },
     "metadata": {},
     "output_type": "display_data"
    },
    {
     "data": {
      "text/plain": [
       "[0.8125682033374249]"
      ]
     },
     "metadata": {},
     "output_type": "display_data"
    },
    {
     "data": {
      "text/plain": [
       "[0.837769844667319]"
      ]
     },
     "metadata": {},
     "output_type": "display_data"
    },
    {
     "data": {
      "text/html": [
       "<div>\n",
       "<style scoped>\n",
       "    .dataframe tbody tr th:only-of-type {\n",
       "        vertical-align: middle;\n",
       "    }\n",
       "\n",
       "    .dataframe tbody tr th {\n",
       "        vertical-align: top;\n",
       "    }\n",
       "\n",
       "    .dataframe thead th {\n",
       "        text-align: right;\n",
       "    }\n",
       "</style>\n",
       "<table border=\"1\" class=\"dataframe\">\n",
       "  <thead>\n",
       "    <tr style=\"text-align: right;\">\n",
       "      <th></th>\n",
       "      <th>loop</th>\n",
       "      <th>metric</th>\n",
       "      <th>test</th>\n",
       "    </tr>\n",
       "  </thead>\n",
       "  <tbody>\n",
       "    <tr>\n",
       "      <th>0</th>\n",
       "      <td>0</td>\n",
       "      <td>accuracy</td>\n",
       "      <td>0.813466</td>\n",
       "    </tr>\n",
       "    <tr>\n",
       "      <th>1</th>\n",
       "      <td>0</td>\n",
       "      <td>f1</td>\n",
       "      <td>0.830831</td>\n",
       "    </tr>\n",
       "    <tr>\n",
       "      <th>2</th>\n",
       "      <td>0</td>\n",
       "      <td>precision</td>\n",
       "      <td>0.852156</td>\n",
       "    </tr>\n",
       "    <tr>\n",
       "      <th>3</th>\n",
       "      <td>0</td>\n",
       "      <td>recall</td>\n",
       "      <td>0.810547</td>\n",
       "    </tr>\n",
       "    <tr>\n",
       "      <th>4</th>\n",
       "      <td>1</td>\n",
       "      <td>accuracy</td>\n",
       "      <td>0.782561</td>\n",
       "    </tr>\n",
       "    <tr>\n",
       "      <th>5</th>\n",
       "      <td>1</td>\n",
       "      <td>f1</td>\n",
       "      <td>0.804757</td>\n",
       "    </tr>\n",
       "    <tr>\n",
       "      <th>6</th>\n",
       "      <td>1</td>\n",
       "      <td>precision</td>\n",
       "      <td>0.816901</td>\n",
       "    </tr>\n",
       "    <tr>\n",
       "      <th>7</th>\n",
       "      <td>1</td>\n",
       "      <td>recall</td>\n",
       "      <td>0.792969</td>\n",
       "    </tr>\n",
       "    <tr>\n",
       "      <th>8</th>\n",
       "      <td>2</td>\n",
       "      <td>accuracy</td>\n",
       "      <td>0.792494</td>\n",
       "    </tr>\n",
       "    <tr>\n",
       "      <th>9</th>\n",
       "      <td>2</td>\n",
       "      <td>f1</td>\n",
       "      <td>0.814596</td>\n",
       "    </tr>\n",
       "    <tr>\n",
       "      <th>10</th>\n",
       "      <td>2</td>\n",
       "      <td>precision</td>\n",
       "      <td>0.822709</td>\n",
       "    </tr>\n",
       "    <tr>\n",
       "      <th>11</th>\n",
       "      <td>2</td>\n",
       "      <td>recall</td>\n",
       "      <td>0.806641</td>\n",
       "    </tr>\n",
       "    <tr>\n",
       "      <th>12</th>\n",
       "      <td>3</td>\n",
       "      <td>accuracy</td>\n",
       "      <td>0.795806</td>\n",
       "    </tr>\n",
       "    <tr>\n",
       "      <th>13</th>\n",
       "      <td>3</td>\n",
       "      <td>f1</td>\n",
       "      <td>0.820563</td>\n",
       "    </tr>\n",
       "    <tr>\n",
       "      <th>14</th>\n",
       "      <td>3</td>\n",
       "      <td>precision</td>\n",
       "      <td>0.813462</td>\n",
       "    </tr>\n",
       "    <tr>\n",
       "      <th>15</th>\n",
       "      <td>3</td>\n",
       "      <td>recall</td>\n",
       "      <td>0.827789</td>\n",
       "    </tr>\n",
       "    <tr>\n",
       "      <th>16</th>\n",
       "      <td>4</td>\n",
       "      <td>accuracy</td>\n",
       "      <td>0.784530</td>\n",
       "    </tr>\n",
       "    <tr>\n",
       "      <th>17</th>\n",
       "      <td>4</td>\n",
       "      <td>f1</td>\n",
       "      <td>0.807502</td>\n",
       "    </tr>\n",
       "    <tr>\n",
       "      <th>18</th>\n",
       "      <td>4</td>\n",
       "      <td>precision</td>\n",
       "      <td>0.814741</td>\n",
       "    </tr>\n",
       "    <tr>\n",
       "      <th>19</th>\n",
       "      <td>4</td>\n",
       "      <td>recall</td>\n",
       "      <td>0.800391</td>\n",
       "    </tr>\n",
       "  </tbody>\n",
       "</table>\n",
       "</div>"
      ],
      "text/plain": [
       "    loop     metric     test\n",
       "0      0   accuracy 0.813466\n",
       "1      0         f1 0.830831\n",
       "2      0  precision 0.852156\n",
       "3      0     recall 0.810547\n",
       "4      1   accuracy 0.782561\n",
       "5      1         f1 0.804757\n",
       "6      1  precision 0.816901\n",
       "7      1     recall 0.792969\n",
       "8      2   accuracy 0.792494\n",
       "9      2         f1 0.814596\n",
       "10     2  precision 0.822709\n",
       "11     2     recall 0.806641\n",
       "12     3   accuracy 0.795806\n",
       "13     3         f1 0.820563\n",
       "14     3  precision 0.813462\n",
       "15     3     recall 0.827789\n",
       "16     4   accuracy 0.784530\n",
       "17     4         f1 0.807502\n",
       "18     4  precision 0.814741\n",
       "19     4     recall 0.800391"
      ]
     },
     "metadata": {},
     "output_type": "display_data"
    },
    {
     "data": {
      "text/html": [
       "<div>\n",
       "<style scoped>\n",
       "    .dataframe tbody tr th:only-of-type {\n",
       "        vertical-align: middle;\n",
       "    }\n",
       "\n",
       "    .dataframe tbody tr th {\n",
       "        vertical-align: top;\n",
       "    }\n",
       "\n",
       "    .dataframe thead th {\n",
       "        text-align: right;\n",
       "    }\n",
       "</style>\n",
       "<table border=\"1\" class=\"dataframe\">\n",
       "  <thead>\n",
       "    <tr style=\"text-align: right;\">\n",
       "      <th></th>\n",
       "      <th>0</th>\n",
       "      <th>1</th>\n",
       "    </tr>\n",
       "  </thead>\n",
       "  <tbody>\n",
       "    <tr>\n",
       "      <th>0</th>\n",
       "      <td>305.800000</td>\n",
       "      <td>88.400000</td>\n",
       "    </tr>\n",
       "    <tr>\n",
       "      <th>1</th>\n",
       "      <td>98.400000</td>\n",
       "      <td>413.200000</td>\n",
       "    </tr>\n",
       "  </tbody>\n",
       "</table>\n",
       "</div>"
      ],
      "text/plain": [
       "           0          1\n",
       "0 305.800000  88.400000\n",
       "1  98.400000 413.200000"
      ]
     },
     "metadata": {},
     "output_type": "display_data"
    },
    {
     "name": "stdout",
     "output_type": "stream",
     "text": [
      "percentage:\n"
     ]
    },
    {
     "data": {
      "text/html": [
       "<div>\n",
       "<style scoped>\n",
       "    .dataframe tbody tr th:only-of-type {\n",
       "        vertical-align: middle;\n",
       "    }\n",
       "\n",
       "    .dataframe tbody tr th {\n",
       "        vertical-align: top;\n",
       "    }\n",
       "\n",
       "    .dataframe thead th {\n",
       "        text-align: right;\n",
       "    }\n",
       "</style>\n",
       "<table border=\"1\" class=\"dataframe\">\n",
       "  <thead>\n",
       "    <tr style=\"text-align: right;\">\n",
       "      <th></th>\n",
       "      <th>0</th>\n",
       "      <th>1</th>\n",
       "    </tr>\n",
       "  </thead>\n",
       "  <tbody>\n",
       "    <tr>\n",
       "      <th>0</th>\n",
       "      <td>33.760212</td>\n",
       "      <td>9.759329</td>\n",
       "    </tr>\n",
       "    <tr>\n",
       "      <th>1</th>\n",
       "      <td>10.863325</td>\n",
       "      <td>45.617134</td>\n",
       "    </tr>\n",
       "  </tbody>\n",
       "</table>\n",
       "</div>"
      ],
      "text/plain": [
       "          0         1\n",
       "0 33.760212  9.759329\n",
       "1 10.863325 45.617134"
      ]
     },
     "metadata": {},
     "output_type": "display_data"
    },
    {
     "data": {
      "text/plain": [
       "[0.7488584474885844, 0.7757483510908167]"
      ]
     },
     "metadata": {},
     "output_type": "display_data"
    },
    {
     "data": {
      "text/plain": [
       "[0.7990716280658104, 0.7937714195114218]"
      ]
     },
     "metadata": {},
     "output_type": "display_data"
    },
    {
     "data": {
      "text/plain": [
       "[0.8249088866660831, 0.815649741090037]"
      ]
     },
     "metadata": {},
     "output_type": "display_data"
    },
    {
     "data": {
      "text/plain": [
       "[0.8125682033374249, 0.8239938407220592]"
      ]
     },
     "metadata": {},
     "output_type": "display_data"
    },
    {
     "data": {
      "text/plain": [
       "[0.837769844667319, 0.8076672578277886]"
      ]
     },
     "metadata": {},
     "output_type": "display_data"
    },
    {
     "data": {
      "text/html": [
       "<div>\n",
       "<style scoped>\n",
       "    .dataframe tbody tr th:only-of-type {\n",
       "        vertical-align: middle;\n",
       "    }\n",
       "\n",
       "    .dataframe tbody tr th {\n",
       "        vertical-align: top;\n",
       "    }\n",
       "\n",
       "    .dataframe thead th {\n",
       "        text-align: right;\n",
       "    }\n",
       "</style>\n",
       "<table border=\"1\" class=\"dataframe\">\n",
       "  <thead>\n",
       "    <tr style=\"text-align: right;\">\n",
       "      <th></th>\n",
       "      <th>loop</th>\n",
       "      <th>metric</th>\n",
       "      <th>test</th>\n",
       "    </tr>\n",
       "  </thead>\n",
       "  <tbody>\n",
       "    <tr>\n",
       "      <th>0</th>\n",
       "      <td>0</td>\n",
       "      <td>accuracy</td>\n",
       "      <td>0.805740</td>\n",
       "    </tr>\n",
       "    <tr>\n",
       "      <th>1</th>\n",
       "      <td>0</td>\n",
       "      <td>f1</td>\n",
       "      <td>0.818182</td>\n",
       "    </tr>\n",
       "    <tr>\n",
       "      <th>2</th>\n",
       "      <td>0</td>\n",
       "      <td>precision</td>\n",
       "      <td>0.868421</td>\n",
       "    </tr>\n",
       "    <tr>\n",
       "      <th>3</th>\n",
       "      <td>0</td>\n",
       "      <td>recall</td>\n",
       "      <td>0.773438</td>\n",
       "    </tr>\n",
       "    <tr>\n",
       "      <th>4</th>\n",
       "      <td>1</td>\n",
       "      <td>accuracy</td>\n",
       "      <td>0.766004</td>\n",
       "    </tr>\n",
       "    <tr>\n",
       "      <th>5</th>\n",
       "      <td>1</td>\n",
       "      <td>f1</td>\n",
       "      <td>0.783231</td>\n",
       "    </tr>\n",
       "    <tr>\n",
       "      <th>6</th>\n",
       "      <td>1</td>\n",
       "      <td>precision</td>\n",
       "      <td>0.821888</td>\n",
       "    </tr>\n",
       "    <tr>\n",
       "      <th>7</th>\n",
       "      <td>1</td>\n",
       "      <td>recall</td>\n",
       "      <td>0.748047</td>\n",
       "    </tr>\n",
       "    <tr>\n",
       "      <th>8</th>\n",
       "      <td>2</td>\n",
       "      <td>accuracy</td>\n",
       "      <td>0.793598</td>\n",
       "    </tr>\n",
       "    <tr>\n",
       "      <th>9</th>\n",
       "      <td>2</td>\n",
       "      <td>f1</td>\n",
       "      <td>0.810152</td>\n",
       "    </tr>\n",
       "    <tr>\n",
       "      <th>10</th>\n",
       "      <td>2</td>\n",
       "      <td>precision</td>\n",
       "      <td>0.843552</td>\n",
       "    </tr>\n",
       "    <tr>\n",
       "      <th>11</th>\n",
       "      <td>2</td>\n",
       "      <td>recall</td>\n",
       "      <td>0.779297</td>\n",
       "    </tr>\n",
       "    <tr>\n",
       "      <th>12</th>\n",
       "      <td>3</td>\n",
       "      <td>accuracy</td>\n",
       "      <td>0.792494</td>\n",
       "    </tr>\n",
       "    <tr>\n",
       "      <th>13</th>\n",
       "      <td>3</td>\n",
       "      <td>f1</td>\n",
       "      <td>0.811623</td>\n",
       "    </tr>\n",
       "    <tr>\n",
       "      <th>14</th>\n",
       "      <td>3</td>\n",
       "      <td>precision</td>\n",
       "      <td>0.831622</td>\n",
       "    </tr>\n",
       "    <tr>\n",
       "      <th>15</th>\n",
       "      <td>3</td>\n",
       "      <td>recall</td>\n",
       "      <td>0.792564</td>\n",
       "    </tr>\n",
       "    <tr>\n",
       "      <th>16</th>\n",
       "      <td>4</td>\n",
       "      <td>accuracy</td>\n",
       "      <td>0.774586</td>\n",
       "    </tr>\n",
       "    <tr>\n",
       "      <th>17</th>\n",
       "      <td>4</td>\n",
       "      <td>f1</td>\n",
       "      <td>0.791411</td>\n",
       "    </tr>\n",
       "    <tr>\n",
       "      <th>18</th>\n",
       "      <td>4</td>\n",
       "      <td>precision</td>\n",
       "      <td>0.828694</td>\n",
       "    </tr>\n",
       "    <tr>\n",
       "      <th>19</th>\n",
       "      <td>4</td>\n",
       "      <td>recall</td>\n",
       "      <td>0.757339</td>\n",
       "    </tr>\n",
       "  </tbody>\n",
       "</table>\n",
       "</div>"
      ],
      "text/plain": [
       "    loop     metric     test\n",
       "0      0   accuracy 0.805740\n",
       "1      0         f1 0.818182\n",
       "2      0  precision 0.868421\n",
       "3      0     recall 0.773438\n",
       "4      1   accuracy 0.766004\n",
       "5      1         f1 0.783231\n",
       "6      1  precision 0.821888\n",
       "7      1     recall 0.748047\n",
       "8      2   accuracy 0.793598\n",
       "9      2         f1 0.810152\n",
       "10     2  precision 0.843552\n",
       "11     2     recall 0.779297\n",
       "12     3   accuracy 0.792494\n",
       "13     3         f1 0.811623\n",
       "14     3  precision 0.831622\n",
       "15     3     recall 0.792564\n",
       "16     4   accuracy 0.774586\n",
       "17     4         f1 0.791411\n",
       "18     4  precision 0.828694\n",
       "19     4     recall 0.757339"
      ]
     },
     "metadata": {},
     "output_type": "display_data"
    },
    {
     "data": {
      "text/html": [
       "<div>\n",
       "<style scoped>\n",
       "    .dataframe tbody tr th:only-of-type {\n",
       "        vertical-align: middle;\n",
       "    }\n",
       "\n",
       "    .dataframe tbody tr th {\n",
       "        vertical-align: top;\n",
       "    }\n",
       "\n",
       "    .dataframe thead th {\n",
       "        text-align: right;\n",
       "    }\n",
       "</style>\n",
       "<table border=\"1\" class=\"dataframe\">\n",
       "  <thead>\n",
       "    <tr style=\"text-align: right;\">\n",
       "      <th></th>\n",
       "      <th>0</th>\n",
       "      <th>1</th>\n",
       "    </tr>\n",
       "  </thead>\n",
       "  <tbody>\n",
       "    <tr>\n",
       "      <th>0</th>\n",
       "      <td>318.400000</td>\n",
       "      <td>75.800000</td>\n",
       "    </tr>\n",
       "    <tr>\n",
       "      <th>1</th>\n",
       "      <td>117.600000</td>\n",
       "      <td>394.000000</td>\n",
       "    </tr>\n",
       "  </tbody>\n",
       "</table>\n",
       "</div>"
      ],
      "text/plain": [
       "           0          1\n",
       "0 318.400000  75.800000\n",
       "1 117.600000 394.000000"
      ]
     },
     "metadata": {},
     "output_type": "display_data"
    },
    {
     "name": "stdout",
     "output_type": "stream",
     "text": [
      "percentage:\n"
     ]
    },
    {
     "data": {
      "text/html": [
       "<div>\n",
       "<style scoped>\n",
       "    .dataframe tbody tr th:only-of-type {\n",
       "        vertical-align: middle;\n",
       "    }\n",
       "\n",
       "    .dataframe tbody tr th {\n",
       "        vertical-align: top;\n",
       "    }\n",
       "\n",
       "    .dataframe thead th {\n",
       "        text-align: right;\n",
       "    }\n",
       "</style>\n",
       "<table border=\"1\" class=\"dataframe\">\n",
       "  <thead>\n",
       "    <tr style=\"text-align: right;\">\n",
       "      <th></th>\n",
       "      <th>0</th>\n",
       "      <th>1</th>\n",
       "    </tr>\n",
       "  </thead>\n",
       "  <tbody>\n",
       "    <tr>\n",
       "      <th>0</th>\n",
       "      <td>35.151248</td>\n",
       "      <td>8.368293</td>\n",
       "    </tr>\n",
       "    <tr>\n",
       "      <th>1</th>\n",
       "      <td>12.982998</td>\n",
       "      <td>43.497461</td>\n",
       "    </tr>\n",
       "  </tbody>\n",
       "</table>\n",
       "</div>"
      ],
      "text/plain": [
       "          0         1\n",
       "0 35.151248  8.368293\n",
       "1 12.982998 43.497461"
      ]
     },
     "metadata": {},
     "output_type": "display_data"
    },
    {
     "data": {
      "text/plain": [
       "[0.7488584474885844, 0.7757483510908167, 0.8077118214104515]"
      ]
     },
     "metadata": {},
     "output_type": "display_data"
    },
    {
     "data": {
      "text/plain": [
       "[0.7990716280658104, 0.7937714195114218, 0.7864844559901456]"
      ]
     },
     "metadata": {},
     "output_type": "display_data"
    },
    {
     "data": {
      "text/plain": [
       "[0.8249088866660831, 0.815649741090037, 0.8029198951456259]"
      ]
     },
     "metadata": {},
     "output_type": "display_data"
    },
    {
     "data": {
      "text/plain": [
       "[0.8125682033374249, 0.8239938407220592, 0.8388354456860367]"
      ]
     },
     "metadata": {},
     "output_type": "display_data"
    },
    {
     "data": {
      "text/plain": [
       "[0.837769844667319, 0.8076672578277886, 0.7701366805283758]"
      ]
     },
     "metadata": {},
     "output_type": "display_data"
    },
    {
     "data": {
      "text/html": [
       "<div>\n",
       "<style scoped>\n",
       "    .dataframe tbody tr th:only-of-type {\n",
       "        vertical-align: middle;\n",
       "    }\n",
       "\n",
       "    .dataframe tbody tr th {\n",
       "        vertical-align: top;\n",
       "    }\n",
       "\n",
       "    .dataframe thead th {\n",
       "        text-align: right;\n",
       "    }\n",
       "</style>\n",
       "<table border=\"1\" class=\"dataframe\">\n",
       "  <thead>\n",
       "    <tr style=\"text-align: right;\">\n",
       "      <th></th>\n",
       "      <th>loop</th>\n",
       "      <th>metric</th>\n",
       "      <th>test</th>\n",
       "    </tr>\n",
       "  </thead>\n",
       "  <tbody>\n",
       "    <tr>\n",
       "      <th>0</th>\n",
       "      <td>0</td>\n",
       "      <td>accuracy</td>\n",
       "      <td>0.791391</td>\n",
       "    </tr>\n",
       "    <tr>\n",
       "      <th>1</th>\n",
       "      <td>0</td>\n",
       "      <td>f1</td>\n",
       "      <td>0.798292</td>\n",
       "    </tr>\n",
       "    <tr>\n",
       "      <th>2</th>\n",
       "      <td>0</td>\n",
       "      <td>precision</td>\n",
       "      <td>0.880000</td>\n",
       "    </tr>\n",
       "    <tr>\n",
       "      <th>3</th>\n",
       "      <td>0</td>\n",
       "      <td>recall</td>\n",
       "      <td>0.730469</td>\n",
       "    </tr>\n",
       "    <tr>\n",
       "      <th>4</th>\n",
       "      <td>1</td>\n",
       "      <td>accuracy</td>\n",
       "      <td>0.749448</td>\n",
       "    </tr>\n",
       "    <tr>\n",
       "      <th>5</th>\n",
       "      <td>1</td>\n",
       "      <td>f1</td>\n",
       "      <td>0.756699</td>\n",
       "    </tr>\n",
       "    <tr>\n",
       "      <th>6</th>\n",
       "      <td>1</td>\n",
       "      <td>precision</td>\n",
       "      <td>0.838480</td>\n",
       "    </tr>\n",
       "    <tr>\n",
       "      <th>7</th>\n",
       "      <td>1</td>\n",
       "      <td>recall</td>\n",
       "      <td>0.689453</td>\n",
       "    </tr>\n",
       "    <tr>\n",
       "      <th>8</th>\n",
       "      <td>2</td>\n",
       "      <td>accuracy</td>\n",
       "      <td>0.774834</td>\n",
       "    </tr>\n",
       "    <tr>\n",
       "      <th>9</th>\n",
       "      <td>2</td>\n",
       "      <td>f1</td>\n",
       "      <td>0.783898</td>\n",
       "    </tr>\n",
       "    <tr>\n",
       "      <th>10</th>\n",
       "      <td>2</td>\n",
       "      <td>precision</td>\n",
       "      <td>0.856481</td>\n",
       "    </tr>\n",
       "    <tr>\n",
       "      <th>11</th>\n",
       "      <td>2</td>\n",
       "      <td>recall</td>\n",
       "      <td>0.722656</td>\n",
       "    </tr>\n",
       "    <tr>\n",
       "      <th>12</th>\n",
       "      <td>3</td>\n",
       "      <td>accuracy</td>\n",
       "      <td>0.777042</td>\n",
       "    </tr>\n",
       "    <tr>\n",
       "      <th>13</th>\n",
       "      <td>3</td>\n",
       "      <td>f1</td>\n",
       "      <td>0.791322</td>\n",
       "    </tr>\n",
       "    <tr>\n",
       "      <th>14</th>\n",
       "      <td>3</td>\n",
       "      <td>precision</td>\n",
       "      <td>0.838074</td>\n",
       "    </tr>\n",
       "    <tr>\n",
       "      <th>15</th>\n",
       "      <td>3</td>\n",
       "      <td>recall</td>\n",
       "      <td>0.749511</td>\n",
       "    </tr>\n",
       "    <tr>\n",
       "      <th>16</th>\n",
       "      <td>4</td>\n",
       "      <td>accuracy</td>\n",
       "      <td>0.758011</td>\n",
       "    </tr>\n",
       "    <tr>\n",
       "      <th>17</th>\n",
       "      <td>4</td>\n",
       "      <td>f1</td>\n",
       "      <td>0.770199</td>\n",
       "    </tr>\n",
       "    <tr>\n",
       "      <th>18</th>\n",
       "      <td>4</td>\n",
       "      <td>precision</td>\n",
       "      <td>0.830317</td>\n",
       "    </tr>\n",
       "    <tr>\n",
       "      <th>19</th>\n",
       "      <td>4</td>\n",
       "      <td>recall</td>\n",
       "      <td>0.718200</td>\n",
       "    </tr>\n",
       "  </tbody>\n",
       "</table>\n",
       "</div>"
      ],
      "text/plain": [
       "    loop     metric     test\n",
       "0      0   accuracy 0.791391\n",
       "1      0         f1 0.798292\n",
       "2      0  precision 0.880000\n",
       "3      0     recall 0.730469\n",
       "4      1   accuracy 0.749448\n",
       "5      1         f1 0.756699\n",
       "6      1  precision 0.838480\n",
       "7      1     recall 0.689453\n",
       "8      2   accuracy 0.774834\n",
       "9      2         f1 0.783898\n",
       "10     2  precision 0.856481\n",
       "11     2     recall 0.722656\n",
       "12     3   accuracy 0.777042\n",
       "13     3         f1 0.791322\n",
       "14     3  precision 0.838074\n",
       "15     3     recall 0.749511\n",
       "16     4   accuracy 0.758011\n",
       "17     4         f1 0.770199\n",
       "18     4  precision 0.830317\n",
       "19     4     recall 0.718200"
      ]
     },
     "metadata": {},
     "output_type": "display_data"
    },
    {
     "data": {
      "text/html": [
       "<div>\n",
       "<style scoped>\n",
       "    .dataframe tbody tr th:only-of-type {\n",
       "        vertical-align: middle;\n",
       "    }\n",
       "\n",
       "    .dataframe tbody tr th {\n",
       "        vertical-align: top;\n",
       "    }\n",
       "\n",
       "    .dataframe thead th {\n",
       "        text-align: right;\n",
       "    }\n",
       "</style>\n",
       "<table border=\"1\" class=\"dataframe\">\n",
       "  <thead>\n",
       "    <tr style=\"text-align: right;\">\n",
       "      <th></th>\n",
       "      <th>0</th>\n",
       "      <th>1</th>\n",
       "    </tr>\n",
       "  </thead>\n",
       "  <tbody>\n",
       "    <tr>\n",
       "      <th>0</th>\n",
       "      <td>328.200000</td>\n",
       "      <td>66.000000</td>\n",
       "    </tr>\n",
       "    <tr>\n",
       "      <th>1</th>\n",
       "      <td>142.200000</td>\n",
       "      <td>369.400000</td>\n",
       "    </tr>\n",
       "  </tbody>\n",
       "</table>\n",
       "</div>"
      ],
      "text/plain": [
       "           0          1\n",
       "0 328.200000  66.000000\n",
       "1 142.200000 369.400000"
      ]
     },
     "metadata": {},
     "output_type": "display_data"
    },
    {
     "name": "stdout",
     "output_type": "stream",
     "text": [
      "percentage:\n"
     ]
    },
    {
     "data": {
      "text/html": [
       "<div>\n",
       "<style scoped>\n",
       "    .dataframe tbody tr th:only-of-type {\n",
       "        vertical-align: middle;\n",
       "    }\n",
       "\n",
       "    .dataframe tbody tr th {\n",
       "        vertical-align: top;\n",
       "    }\n",
       "\n",
       "    .dataframe thead th {\n",
       "        text-align: right;\n",
       "    }\n",
       "</style>\n",
       "<table border=\"1\" class=\"dataframe\">\n",
       "  <thead>\n",
       "    <tr style=\"text-align: right;\">\n",
       "      <th></th>\n",
       "      <th>0</th>\n",
       "      <th>1</th>\n",
       "    </tr>\n",
       "  </thead>\n",
       "  <tbody>\n",
       "    <tr>\n",
       "      <th>0</th>\n",
       "      <td>36.233164</td>\n",
       "      <td>7.286377</td>\n",
       "    </tr>\n",
       "    <tr>\n",
       "      <th>1</th>\n",
       "      <td>15.698830</td>\n",
       "      <td>40.781629</td>\n",
       "    </tr>\n",
       "  </tbody>\n",
       "</table>\n",
       "</div>"
      ],
      "text/plain": [
       "          0         1\n",
       "0 36.233164  7.286377\n",
       "1 15.698830 40.781629"
      ]
     },
     "metadata": {},
     "output_type": "display_data"
    },
    {
     "data": {
      "text/plain": [
       "[0.7488584474885844, 0.7757483510908167, 0.8077118214104515, 0.832572298325723]"
      ]
     },
     "metadata": {},
     "output_type": "display_data"
    },
    {
     "data": {
      "text/plain": [
       "[0.7990716280658104,\n",
       " 0.7937714195114218,\n",
       " 0.7864844559901456,\n",
       " 0.7701452563023673]"
      ]
     },
     "metadata": {},
     "output_type": "display_data"
    },
    {
     "data": {
      "text/plain": [
       "[0.8249088866660831, 0.815649741090037, 0.8029198951456259, 0.7800822466352939]"
      ]
     },
     "metadata": {},
     "output_type": "display_data"
    },
    {
     "data": {
      "text/plain": [
       "[0.8125682033374249,\n",
       " 0.8239938407220592,\n",
       " 0.8388354456860367,\n",
       " 0.8486704863577259]"
      ]
     },
     "metadata": {},
     "output_type": "display_data"
    },
    {
     "data": {
      "text/plain": [
       "[0.837769844667319, 0.8076672578277886, 0.7701366805283758, 0.7220576993639922]"
      ]
     },
     "metadata": {},
     "output_type": "display_data"
    },
    {
     "data": {
      "text/html": [
       "<div>\n",
       "<style scoped>\n",
       "    .dataframe tbody tr th:only-of-type {\n",
       "        vertical-align: middle;\n",
       "    }\n",
       "\n",
       "    .dataframe tbody tr th {\n",
       "        vertical-align: top;\n",
       "    }\n",
       "\n",
       "    .dataframe thead th {\n",
       "        text-align: right;\n",
       "    }\n",
       "</style>\n",
       "<table border=\"1\" class=\"dataframe\">\n",
       "  <thead>\n",
       "    <tr style=\"text-align: right;\">\n",
       "      <th></th>\n",
       "      <th>loop</th>\n",
       "      <th>metric</th>\n",
       "      <th>test</th>\n",
       "    </tr>\n",
       "  </thead>\n",
       "  <tbody>\n",
       "    <tr>\n",
       "      <th>0</th>\n",
       "      <td>0</td>\n",
       "      <td>accuracy</td>\n",
       "      <td>0.750552</td>\n",
       "    </tr>\n",
       "    <tr>\n",
       "      <th>1</th>\n",
       "      <td>0</td>\n",
       "      <td>f1</td>\n",
       "      <td>0.743764</td>\n",
       "    </tr>\n",
       "    <tr>\n",
       "      <th>2</th>\n",
       "      <td>0</td>\n",
       "      <td>precision</td>\n",
       "      <td>0.886486</td>\n",
       "    </tr>\n",
       "    <tr>\n",
       "      <th>3</th>\n",
       "      <td>0</td>\n",
       "      <td>recall</td>\n",
       "      <td>0.640625</td>\n",
       "    </tr>\n",
       "    <tr>\n",
       "      <th>4</th>\n",
       "      <td>1</td>\n",
       "      <td>accuracy</td>\n",
       "      <td>0.740618</td>\n",
       "    </tr>\n",
       "    <tr>\n",
       "      <th>5</th>\n",
       "      <td>1</td>\n",
       "      <td>f1</td>\n",
       "      <td>0.739756</td>\n",
       "    </tr>\n",
       "    <tr>\n",
       "      <th>6</th>\n",
       "      <td>1</td>\n",
       "      <td>precision</td>\n",
       "      <td>0.854220</td>\n",
       "    </tr>\n",
       "    <tr>\n",
       "      <th>7</th>\n",
       "      <td>1</td>\n",
       "      <td>recall</td>\n",
       "      <td>0.652344</td>\n",
       "    </tr>\n",
       "    <tr>\n",
       "      <th>8</th>\n",
       "      <td>2</td>\n",
       "      <td>accuracy</td>\n",
       "      <td>0.754967</td>\n",
       "    </tr>\n",
       "    <tr>\n",
       "      <th>9</th>\n",
       "      <td>2</td>\n",
       "      <td>f1</td>\n",
       "      <td>0.752232</td>\n",
       "    </tr>\n",
       "    <tr>\n",
       "      <th>10</th>\n",
       "      <td>2</td>\n",
       "      <td>precision</td>\n",
       "      <td>0.877604</td>\n",
       "    </tr>\n",
       "    <tr>\n",
       "      <th>11</th>\n",
       "      <td>2</td>\n",
       "      <td>recall</td>\n",
       "      <td>0.658203</td>\n",
       "    </tr>\n",
       "    <tr>\n",
       "      <th>12</th>\n",
       "      <td>3</td>\n",
       "      <td>accuracy</td>\n",
       "      <td>0.759382</td>\n",
       "    </tr>\n",
       "    <tr>\n",
       "      <th>13</th>\n",
       "      <td>3</td>\n",
       "      <td>f1</td>\n",
       "      <td>0.762527</td>\n",
       "    </tr>\n",
       "    <tr>\n",
       "      <th>14</th>\n",
       "      <td>3</td>\n",
       "      <td>precision</td>\n",
       "      <td>0.859951</td>\n",
       "    </tr>\n",
       "    <tr>\n",
       "      <th>15</th>\n",
       "      <td>3</td>\n",
       "      <td>recall</td>\n",
       "      <td>0.684932</td>\n",
       "    </tr>\n",
       "    <tr>\n",
       "      <th>16</th>\n",
       "      <td>4</td>\n",
       "      <td>accuracy</td>\n",
       "      <td>0.741436</td>\n",
       "    </tr>\n",
       "    <tr>\n",
       "      <th>17</th>\n",
       "      <td>4</td>\n",
       "      <td>f1</td>\n",
       "      <td>0.740576</td>\n",
       "    </tr>\n",
       "    <tr>\n",
       "      <th>18</th>\n",
       "      <td>4</td>\n",
       "      <td>precision</td>\n",
       "      <td>0.854220</td>\n",
       "    </tr>\n",
       "    <tr>\n",
       "      <th>19</th>\n",
       "      <td>4</td>\n",
       "      <td>recall</td>\n",
       "      <td>0.653620</td>\n",
       "    </tr>\n",
       "  </tbody>\n",
       "</table>\n",
       "</div>"
      ],
      "text/plain": [
       "    loop     metric     test\n",
       "0      0   accuracy 0.750552\n",
       "1      0         f1 0.743764\n",
       "2      0  precision 0.886486\n",
       "3      0     recall 0.640625\n",
       "4      1   accuracy 0.740618\n",
       "5      1         f1 0.739756\n",
       "6      1  precision 0.854220\n",
       "7      1     recall 0.652344\n",
       "8      2   accuracy 0.754967\n",
       "9      2         f1 0.752232\n",
       "10     2  precision 0.877604\n",
       "11     2     recall 0.658203\n",
       "12     3   accuracy 0.759382\n",
       "13     3         f1 0.762527\n",
       "14     3  precision 0.859951\n",
       "15     3     recall 0.684932\n",
       "16     4   accuracy 0.741436\n",
       "17     4         f1 0.740576\n",
       "18     4  precision 0.854220\n",
       "19     4     recall 0.653620"
      ]
     },
     "metadata": {},
     "output_type": "display_data"
    },
    {
     "data": {
      "text/html": [
       "<div>\n",
       "<style scoped>\n",
       "    .dataframe tbody tr th:only-of-type {\n",
       "        vertical-align: middle;\n",
       "    }\n",
       "\n",
       "    .dataframe tbody tr th {\n",
       "        vertical-align: top;\n",
       "    }\n",
       "\n",
       "    .dataframe thead th {\n",
       "        text-align: right;\n",
       "    }\n",
       "</style>\n",
       "<table border=\"1\" class=\"dataframe\">\n",
       "  <thead>\n",
       "    <tr style=\"text-align: right;\">\n",
       "      <th></th>\n",
       "      <th>0</th>\n",
       "      <th>1</th>\n",
       "    </tr>\n",
       "  </thead>\n",
       "  <tbody>\n",
       "    <tr>\n",
       "      <th>0</th>\n",
       "      <td>342.200000</td>\n",
       "      <td>52.000000</td>\n",
       "    </tr>\n",
       "    <tr>\n",
       "      <th>1</th>\n",
       "      <td>175.000000</td>\n",
       "      <td>336.600000</td>\n",
       "    </tr>\n",
       "  </tbody>\n",
       "</table>\n",
       "</div>"
      ],
      "text/plain": [
       "           0          1\n",
       "0 342.200000  52.000000\n",
       "1 175.000000 336.600000"
      ]
     },
     "metadata": {},
     "output_type": "display_data"
    },
    {
     "name": "stdout",
     "output_type": "stream",
     "text": [
      "percentage:\n"
     ]
    },
    {
     "data": {
      "text/html": [
       "<div>\n",
       "<style scoped>\n",
       "    .dataframe tbody tr th:only-of-type {\n",
       "        vertical-align: middle;\n",
       "    }\n",
       "\n",
       "    .dataframe tbody tr th {\n",
       "        vertical-align: top;\n",
       "    }\n",
       "\n",
       "    .dataframe thead th {\n",
       "        text-align: right;\n",
       "    }\n",
       "</style>\n",
       "<table border=\"1\" class=\"dataframe\">\n",
       "  <thead>\n",
       "    <tr style=\"text-align: right;\">\n",
       "      <th></th>\n",
       "      <th>0</th>\n",
       "      <th>1</th>\n",
       "    </tr>\n",
       "  </thead>\n",
       "  <tbody>\n",
       "    <tr>\n",
       "      <th>0</th>\n",
       "      <td>37.778759</td>\n",
       "      <td>5.740782</td>\n",
       "    </tr>\n",
       "    <tr>\n",
       "      <th>1</th>\n",
       "      <td>19.319938</td>\n",
       "      <td>37.160521</td>\n",
       "    </tr>\n",
       "  </tbody>\n",
       "</table>\n",
       "</div>"
      ],
      "text/plain": [
       "          0         1\n",
       "0 37.778759  5.740782\n",
       "1 19.319938 37.160521"
      ]
     },
     "metadata": {},
     "output_type": "display_data"
    },
    {
     "data": {
      "text/plain": [
       "[0.7488584474885844,\n",
       " 0.7757483510908167,\n",
       " 0.8077118214104515,\n",
       " 0.832572298325723,\n",
       " 0.8680872653475393]"
      ]
     },
     "metadata": {},
     "output_type": "display_data"
    },
    {
     "data": {
      "text/plain": [
       "[0.7990716280658104,\n",
       " 0.7937714195114218,\n",
       " 0.7864844559901456,\n",
       " 0.7701452563023673,\n",
       " 0.7493910455770614]"
      ]
     },
     "metadata": {},
     "output_type": "display_data"
    },
    {
     "data": {
      "text/plain": [
       "[0.8249088866660831,\n",
       " 0.815649741090037,\n",
       " 0.8029198951456259,\n",
       " 0.7800822466352939,\n",
       " 0.7477712825291228]"
      ]
     },
     "metadata": {},
     "output_type": "display_data"
    },
    {
     "data": {
      "text/plain": [
       "[0.8125682033374249,\n",
       " 0.8239938407220592,\n",
       " 0.8388354456860367,\n",
       " 0.8486704863577259,\n",
       " 0.8664962821604446]"
      ]
     },
     "metadata": {},
     "output_type": "display_data"
    },
    {
     "data": {
      "text/plain": [
       "[0.837769844667319,\n",
       " 0.8076672578277886,\n",
       " 0.7701366805283758,\n",
       " 0.7220576993639922,\n",
       " 0.6579447468199608]"
      ]
     },
     "metadata": {},
     "output_type": "display_data"
    },
    {
     "data": {
      "text/html": [
       "<div>\n",
       "<style scoped>\n",
       "    .dataframe tbody tr th:only-of-type {\n",
       "        vertical-align: middle;\n",
       "    }\n",
       "\n",
       "    .dataframe tbody tr th {\n",
       "        vertical-align: top;\n",
       "    }\n",
       "\n",
       "    .dataframe thead th {\n",
       "        text-align: right;\n",
       "    }\n",
       "</style>\n",
       "<table border=\"1\" class=\"dataframe\">\n",
       "  <thead>\n",
       "    <tr style=\"text-align: right;\">\n",
       "      <th></th>\n",
       "      <th>loop</th>\n",
       "      <th>metric</th>\n",
       "      <th>test</th>\n",
       "    </tr>\n",
       "  </thead>\n",
       "  <tbody>\n",
       "    <tr>\n",
       "      <th>0</th>\n",
       "      <td>0</td>\n",
       "      <td>accuracy</td>\n",
       "      <td>0.709713</td>\n",
       "    </tr>\n",
       "    <tr>\n",
       "      <th>1</th>\n",
       "      <td>0</td>\n",
       "      <td>f1</td>\n",
       "      <td>0.682750</td>\n",
       "    </tr>\n",
       "    <tr>\n",
       "      <th>2</th>\n",
       "      <td>0</td>\n",
       "      <td>precision</td>\n",
       "      <td>0.892744</td>\n",
       "    </tr>\n",
       "    <tr>\n",
       "      <th>3</th>\n",
       "      <td>0</td>\n",
       "      <td>recall</td>\n",
       "      <td>0.552734</td>\n",
       "    </tr>\n",
       "    <tr>\n",
       "      <th>4</th>\n",
       "      <td>1</td>\n",
       "      <td>accuracy</td>\n",
       "      <td>0.704194</td>\n",
       "    </tr>\n",
       "    <tr>\n",
       "      <th>5</th>\n",
       "      <td>1</td>\n",
       "      <td>f1</td>\n",
       "      <td>0.682464</td>\n",
       "    </tr>\n",
       "    <tr>\n",
       "      <th>6</th>\n",
       "      <td>1</td>\n",
       "      <td>precision</td>\n",
       "      <td>0.867470</td>\n",
       "    </tr>\n",
       "    <tr>\n",
       "      <th>7</th>\n",
       "      <td>1</td>\n",
       "      <td>recall</td>\n",
       "      <td>0.562500</td>\n",
       "    </tr>\n",
       "    <tr>\n",
       "      <th>8</th>\n",
       "      <td>2</td>\n",
       "      <td>accuracy</td>\n",
       "      <td>0.716336</td>\n",
       "    </tr>\n",
       "    <tr>\n",
       "      <th>9</th>\n",
       "      <td>2</td>\n",
       "      <td>f1</td>\n",
       "      <td>0.692216</td>\n",
       "    </tr>\n",
       "    <tr>\n",
       "      <th>10</th>\n",
       "      <td>2</td>\n",
       "      <td>precision</td>\n",
       "      <td>0.894737</td>\n",
       "    </tr>\n",
       "    <tr>\n",
       "      <th>11</th>\n",
       "      <td>2</td>\n",
       "      <td>recall</td>\n",
       "      <td>0.564453</td>\n",
       "    </tr>\n",
       "    <tr>\n",
       "      <th>12</th>\n",
       "      <td>3</td>\n",
       "      <td>accuracy</td>\n",
       "      <td>0.721854</td>\n",
       "    </tr>\n",
       "    <tr>\n",
       "      <th>13</th>\n",
       "      <td>3</td>\n",
       "      <td>f1</td>\n",
       "      <td>0.705607</td>\n",
       "    </tr>\n",
       "    <tr>\n",
       "      <th>14</th>\n",
       "      <td>3</td>\n",
       "      <td>precision</td>\n",
       "      <td>0.875362</td>\n",
       "    </tr>\n",
       "    <tr>\n",
       "      <th>15</th>\n",
       "      <td>3</td>\n",
       "      <td>recall</td>\n",
       "      <td>0.590998</td>\n",
       "    </tr>\n",
       "    <tr>\n",
       "      <th>16</th>\n",
       "      <td>4</td>\n",
       "      <td>accuracy</td>\n",
       "      <td>0.711602</td>\n",
       "    </tr>\n",
       "    <tr>\n",
       "      <th>17</th>\n",
       "      <td>4</td>\n",
       "      <td>f1</td>\n",
       "      <td>0.691124</td>\n",
       "    </tr>\n",
       "    <tr>\n",
       "      <th>18</th>\n",
       "      <td>4</td>\n",
       "      <td>precision</td>\n",
       "      <td>0.874251</td>\n",
       "    </tr>\n",
       "    <tr>\n",
       "      <th>19</th>\n",
       "      <td>4</td>\n",
       "      <td>recall</td>\n",
       "      <td>0.571429</td>\n",
       "    </tr>\n",
       "  </tbody>\n",
       "</table>\n",
       "</div>"
      ],
      "text/plain": [
       "    loop     metric     test\n",
       "0      0   accuracy 0.709713\n",
       "1      0         f1 0.682750\n",
       "2      0  precision 0.892744\n",
       "3      0     recall 0.552734\n",
       "4      1   accuracy 0.704194\n",
       "5      1         f1 0.682464\n",
       "6      1  precision 0.867470\n",
       "7      1     recall 0.562500\n",
       "8      2   accuracy 0.716336\n",
       "9      2         f1 0.692216\n",
       "10     2  precision 0.894737\n",
       "11     2     recall 0.564453\n",
       "12     3   accuracy 0.721854\n",
       "13     3         f1 0.705607\n",
       "14     3  precision 0.875362\n",
       "15     3     recall 0.590998\n",
       "16     4   accuracy 0.711602\n",
       "17     4         f1 0.691124\n",
       "18     4  precision 0.874251\n",
       "19     4     recall 0.571429"
      ]
     },
     "metadata": {},
     "output_type": "display_data"
    },
    {
     "data": {
      "text/html": [
       "<div>\n",
       "<style scoped>\n",
       "    .dataframe tbody tr th:only-of-type {\n",
       "        vertical-align: middle;\n",
       "    }\n",
       "\n",
       "    .dataframe tbody tr th {\n",
       "        vertical-align: top;\n",
       "    }\n",
       "\n",
       "    .dataframe thead th {\n",
       "        text-align: right;\n",
       "    }\n",
       "</style>\n",
       "<table border=\"1\" class=\"dataframe\">\n",
       "  <thead>\n",
       "    <tr style=\"text-align: right;\">\n",
       "      <th></th>\n",
       "      <th>0</th>\n",
       "      <th>1</th>\n",
       "    </tr>\n",
       "  </thead>\n",
       "  <tbody>\n",
       "    <tr>\n",
       "      <th>0</th>\n",
       "      <td>354.800000</td>\n",
       "      <td>39.400000</td>\n",
       "    </tr>\n",
       "    <tr>\n",
       "      <th>1</th>\n",
       "      <td>220.800000</td>\n",
       "      <td>290.800000</td>\n",
       "    </tr>\n",
       "  </tbody>\n",
       "</table>\n",
       "</div>"
      ],
      "text/plain": [
       "           0          1\n",
       "0 354.800000  39.400000\n",
       "1 220.800000 290.800000"
      ]
     },
     "metadata": {},
     "output_type": "display_data"
    },
    {
     "name": "stdout",
     "output_type": "stream",
     "text": [
      "percentage:\n"
     ]
    },
    {
     "data": {
      "text/html": [
       "<div>\n",
       "<style scoped>\n",
       "    .dataframe tbody tr th:only-of-type {\n",
       "        vertical-align: middle;\n",
       "    }\n",
       "\n",
       "    .dataframe tbody tr th {\n",
       "        vertical-align: top;\n",
       "    }\n",
       "\n",
       "    .dataframe thead th {\n",
       "        text-align: right;\n",
       "    }\n",
       "</style>\n",
       "<table border=\"1\" class=\"dataframe\">\n",
       "  <thead>\n",
       "    <tr style=\"text-align: right;\">\n",
       "      <th></th>\n",
       "      <th>0</th>\n",
       "      <th>1</th>\n",
       "    </tr>\n",
       "  </thead>\n",
       "  <tbody>\n",
       "    <tr>\n",
       "      <th>0</th>\n",
       "      <td>39.169795</td>\n",
       "      <td>4.349746</td>\n",
       "    </tr>\n",
       "    <tr>\n",
       "      <th>1</th>\n",
       "      <td>24.376242</td>\n",
       "      <td>32.104217</td>\n",
       "    </tr>\n",
       "  </tbody>\n",
       "</table>\n",
       "</div>"
      ],
      "text/plain": [
       "          0         1\n",
       "0 39.169795  4.349746\n",
       "1 24.376242 32.104217"
      ]
     },
     "metadata": {},
     "output_type": "display_data"
    },
    {
     "data": {
      "text/plain": [
       "[0.7488584474885844,\n",
       " 0.7757483510908167,\n",
       " 0.8077118214104515,\n",
       " 0.832572298325723,\n",
       " 0.8680872653475393,\n",
       " 0.9000507356671741]"
      ]
     },
     "metadata": {},
     "output_type": "display_data"
    },
    {
     "data": {
      "text/plain": [
       "[0.7990716280658104,\n",
       " 0.7937714195114218,\n",
       " 0.7864844559901456,\n",
       " 0.7701452563023673,\n",
       " 0.7493910455770614,\n",
       " 0.7127398680375154]"
      ]
     },
     "metadata": {},
     "output_type": "display_data"
    },
    {
     "data": {
      "text/plain": [
       "[0.8249088866660831,\n",
       " 0.815649741090037,\n",
       " 0.8029198951456259,\n",
       " 0.7800822466352939,\n",
       " 0.7477712825291228,\n",
       " 0.6908324124794551]"
      ]
     },
     "metadata": {},
     "output_type": "display_data"
    },
    {
     "data": {
      "text/plain": [
       "[0.8125682033374249,\n",
       " 0.8239938407220592,\n",
       " 0.8388354456860367,\n",
       " 0.8486704863577259,\n",
       " 0.8664962821604446,\n",
       " 0.8809130033930342]"
      ]
     },
     "metadata": {},
     "output_type": "display_data"
    },
    {
     "data": {
      "text/plain": [
       "[0.837769844667319,\n",
       " 0.8076672578277886,\n",
       " 0.7701366805283758,\n",
       " 0.7220576993639922,\n",
       " 0.6579447468199608,\n",
       " 0.5684228228962818]"
      ]
     },
     "metadata": {},
     "output_type": "display_data"
    },
    {
     "data": {
      "text/html": [
       "<div>\n",
       "<style scoped>\n",
       "    .dataframe tbody tr th:only-of-type {\n",
       "        vertical-align: middle;\n",
       "    }\n",
       "\n",
       "    .dataframe tbody tr th {\n",
       "        vertical-align: top;\n",
       "    }\n",
       "\n",
       "    .dataframe thead th {\n",
       "        text-align: right;\n",
       "    }\n",
       "</style>\n",
       "<table border=\"1\" class=\"dataframe\">\n",
       "  <thead>\n",
       "    <tr style=\"text-align: right;\">\n",
       "      <th></th>\n",
       "      <th>loop</th>\n",
       "      <th>metric</th>\n",
       "      <th>test</th>\n",
       "    </tr>\n",
       "  </thead>\n",
       "  <tbody>\n",
       "    <tr>\n",
       "      <th>0</th>\n",
       "      <td>0</td>\n",
       "      <td>accuracy</td>\n",
       "      <td>0.658940</td>\n",
       "    </tr>\n",
       "    <tr>\n",
       "      <th>1</th>\n",
       "      <td>0</td>\n",
       "      <td>f1</td>\n",
       "      <td>0.596078</td>\n",
       "    </tr>\n",
       "    <tr>\n",
       "      <th>2</th>\n",
       "      <td>0</td>\n",
       "      <td>precision</td>\n",
       "      <td>0.901186</td>\n",
       "    </tr>\n",
       "    <tr>\n",
       "      <th>3</th>\n",
       "      <td>0</td>\n",
       "      <td>recall</td>\n",
       "      <td>0.445312</td>\n",
       "    </tr>\n",
       "    <tr>\n",
       "      <th>4</th>\n",
       "      <td>1</td>\n",
       "      <td>accuracy</td>\n",
       "      <td>0.651214</td>\n",
       "    </tr>\n",
       "    <tr>\n",
       "      <th>5</th>\n",
       "      <td>1</td>\n",
       "      <td>f1</td>\n",
       "      <td>0.586387</td>\n",
       "    </tr>\n",
       "    <tr>\n",
       "      <th>6</th>\n",
       "      <td>1</td>\n",
       "      <td>precision</td>\n",
       "      <td>0.888889</td>\n",
       "    </tr>\n",
       "    <tr>\n",
       "      <th>7</th>\n",
       "      <td>1</td>\n",
       "      <td>recall</td>\n",
       "      <td>0.437500</td>\n",
       "    </tr>\n",
       "    <tr>\n",
       "      <th>8</th>\n",
       "      <td>2</td>\n",
       "      <td>accuracy</td>\n",
       "      <td>0.645695</td>\n",
       "    </tr>\n",
       "    <tr>\n",
       "      <th>9</th>\n",
       "      <td>2</td>\n",
       "      <td>f1</td>\n",
       "      <td>0.570281</td>\n",
       "    </tr>\n",
       "    <tr>\n",
       "      <th>10</th>\n",
       "      <td>2</td>\n",
       "      <td>precision</td>\n",
       "      <td>0.906383</td>\n",
       "    </tr>\n",
       "    <tr>\n",
       "      <th>11</th>\n",
       "      <td>2</td>\n",
       "      <td>recall</td>\n",
       "      <td>0.416016</td>\n",
       "    </tr>\n",
       "    <tr>\n",
       "      <th>12</th>\n",
       "      <td>3</td>\n",
       "      <td>accuracy</td>\n",
       "      <td>0.678808</td>\n",
       "    </tr>\n",
       "    <tr>\n",
       "      <th>13</th>\n",
       "      <td>3</td>\n",
       "      <td>f1</td>\n",
       "      <td>0.629299</td>\n",
       "    </tr>\n",
       "    <tr>\n",
       "      <th>14</th>\n",
       "      <td>3</td>\n",
       "      <td>precision</td>\n",
       "      <td>0.901460</td>\n",
       "    </tr>\n",
       "    <tr>\n",
       "      <th>15</th>\n",
       "      <td>3</td>\n",
       "      <td>recall</td>\n",
       "      <td>0.483366</td>\n",
       "    </tr>\n",
       "    <tr>\n",
       "      <th>16</th>\n",
       "      <td>4</td>\n",
       "      <td>accuracy</td>\n",
       "      <td>0.656354</td>\n",
       "    </tr>\n",
       "    <tr>\n",
       "      <th>17</th>\n",
       "      <td>4</td>\n",
       "      <td>f1</td>\n",
       "      <td>0.596628</td>\n",
       "    </tr>\n",
       "    <tr>\n",
       "      <th>18</th>\n",
       "      <td>4</td>\n",
       "      <td>precision</td>\n",
       "      <td>0.884615</td>\n",
       "    </tr>\n",
       "    <tr>\n",
       "      <th>19</th>\n",
       "      <td>4</td>\n",
       "      <td>recall</td>\n",
       "      <td>0.450098</td>\n",
       "    </tr>\n",
       "  </tbody>\n",
       "</table>\n",
       "</div>"
      ],
      "text/plain": [
       "    loop     metric     test\n",
       "0      0   accuracy 0.658940\n",
       "1      0         f1 0.596078\n",
       "2      0  precision 0.901186\n",
       "3      0     recall 0.445312\n",
       "4      1   accuracy 0.651214\n",
       "5      1         f1 0.586387\n",
       "6      1  precision 0.888889\n",
       "7      1     recall 0.437500\n",
       "8      2   accuracy 0.645695\n",
       "9      2         f1 0.570281\n",
       "10     2  precision 0.906383\n",
       "11     2     recall 0.416016\n",
       "12     3   accuracy 0.678808\n",
       "13     3         f1 0.629299\n",
       "14     3  precision 0.901460\n",
       "15     3     recall 0.483366\n",
       "16     4   accuracy 0.656354\n",
       "17     4         f1 0.596628\n",
       "18     4  precision 0.884615\n",
       "19     4     recall 0.450098"
      ]
     },
     "metadata": {},
     "output_type": "display_data"
    },
    {
     "data": {
      "text/html": [
       "<div>\n",
       "<style scoped>\n",
       "    .dataframe tbody tr th:only-of-type {\n",
       "        vertical-align: middle;\n",
       "    }\n",
       "\n",
       "    .dataframe tbody tr th {\n",
       "        vertical-align: top;\n",
       "    }\n",
       "\n",
       "    .dataframe thead th {\n",
       "        text-align: right;\n",
       "    }\n",
       "</style>\n",
       "<table border=\"1\" class=\"dataframe\">\n",
       "  <thead>\n",
       "    <tr style=\"text-align: right;\">\n",
       "      <th></th>\n",
       "      <th>0</th>\n",
       "      <th>1</th>\n",
       "    </tr>\n",
       "  </thead>\n",
       "  <tbody>\n",
       "    <tr>\n",
       "      <th>0</th>\n",
       "      <td>367.800000</td>\n",
       "      <td>26.400000</td>\n",
       "    </tr>\n",
       "    <tr>\n",
       "      <th>1</th>\n",
       "      <td>283.200000</td>\n",
       "      <td>228.400000</td>\n",
       "    </tr>\n",
       "  </tbody>\n",
       "</table>\n",
       "</div>"
      ],
      "text/plain": [
       "           0          1\n",
       "0 367.800000  26.400000\n",
       "1 283.200000 228.400000"
      ]
     },
     "metadata": {},
     "output_type": "display_data"
    },
    {
     "name": "stdout",
     "output_type": "stream",
     "text": [
      "percentage:\n"
     ]
    },
    {
     "data": {
      "text/html": [
       "<div>\n",
       "<style scoped>\n",
       "    .dataframe tbody tr th:only-of-type {\n",
       "        vertical-align: middle;\n",
       "    }\n",
       "\n",
       "    .dataframe tbody tr th {\n",
       "        vertical-align: top;\n",
       "    }\n",
       "\n",
       "    .dataframe thead th {\n",
       "        text-align: right;\n",
       "    }\n",
       "</style>\n",
       "<table border=\"1\" class=\"dataframe\">\n",
       "  <thead>\n",
       "    <tr style=\"text-align: right;\">\n",
       "      <th></th>\n",
       "      <th>0</th>\n",
       "      <th>1</th>\n",
       "    </tr>\n",
       "  </thead>\n",
       "  <tbody>\n",
       "    <tr>\n",
       "      <th>0</th>\n",
       "      <td>40.604990</td>\n",
       "      <td>2.914551</td>\n",
       "    </tr>\n",
       "    <tr>\n",
       "      <th>1</th>\n",
       "      <td>31.265180</td>\n",
       "      <td>25.215279</td>\n",
       "    </tr>\n",
       "  </tbody>\n",
       "</table>\n",
       "</div>"
      ],
      "text/plain": [
       "          0         1\n",
       "0 40.604990  2.914551\n",
       "1 31.265180 25.215279"
      ]
     },
     "metadata": {},
     "output_type": "display_data"
    },
    {
     "data": {
      "text/plain": [
       "[0.7488584474885844,\n",
       " 0.7757483510908167,\n",
       " 0.8077118214104515,\n",
       " 0.832572298325723,\n",
       " 0.8680872653475393,\n",
       " 0.9000507356671741,\n",
       " 0.9330289193302892]"
      ]
     },
     "metadata": {},
     "output_type": "display_data"
    },
    {
     "data": {
      "text/plain": [
       "[0.7990716280658104,\n",
       " 0.7937714195114218,\n",
       " 0.7864844559901456,\n",
       " 0.7701452563023673,\n",
       " 0.7493910455770614,\n",
       " 0.7127398680375154,\n",
       " 0.6582022855609625]"
      ]
     },
     "metadata": {},
     "output_type": "display_data"
    },
    {
     "data": {
      "text/plain": [
       "[0.8249088866660831,\n",
       " 0.815649741090037,\n",
       " 0.8029198951456259,\n",
       " 0.7800822466352939,\n",
       " 0.7477712825291228,\n",
       " 0.6908324124794551,\n",
       " 0.5957348219287338]"
      ]
     },
     "metadata": {},
     "output_type": "display_data"
    },
    {
     "data": {
      "text/plain": [
       "[0.8125682033374249,\n",
       " 0.8239938407220592,\n",
       " 0.8388354456860367,\n",
       " 0.8486704863577259,\n",
       " 0.8664962821604446,\n",
       " 0.8809130033930342,\n",
       " 0.896506575398653]"
      ]
     },
     "metadata": {},
     "output_type": "display_data"
    },
    {
     "data": {
      "text/plain": [
       "[0.837769844667319,\n",
       " 0.8076672578277886,\n",
       " 0.7701366805283758,\n",
       " 0.7220576993639922,\n",
       " 0.6579447468199608,\n",
       " 0.5684228228962818,\n",
       " 0.44645838429549906]"
      ]
     },
     "metadata": {},
     "output_type": "display_data"
    }
   ],
   "source": [
    "threshold = np.linspace(0.5, 0.8, num = 7)\n",
    "accuracy_l, f1_l, precision_l, recall_l, specificity_l = [], [], [], [], []\n",
    "\n",
    "for k in threshold:\n",
    "\n",
    "    df_score3 = pd.DataFrame(columns = ['loop', 'metric', 'test'])\n",
    "    loop3, metric3, testing3, confusion_matrix_all3 = [],[],[], []\n",
    "    \n",
    "    #For every fold in Kfold cv2\n",
    "    #create column predicted based on threshold\n",
    "    for (train,test), i in zip(cv2.split(X_select,y_select), range(5)):\n",
    "\n",
    "        #fitting and getting predicted values using iteration 2 splits\n",
    "        X_train2, X_test2, y_train2, y_test2 = X_select.iloc[train], X_select.iloc[test], y_select.iloc[train], y_select.iloc[test]\n",
    "        rf_second_pipe.fit(X_train2, y_train2)\n",
    "        y_predict_prob2 = rf_second_pipe.predict_proba(X_test2)\n",
    "        predicted = (y_predict_prob2[:,1] >= k).astype('int')\n",
    "\n",
    "        #accuracy\n",
    "        loop3.append(i)\n",
    "        metric3.append('accuracy')\n",
    "        testing3.append(accuracy_score(y_test2, predicted))\n",
    "\n",
    "        #f1\n",
    "        loop3.append(i)\n",
    "        metric3.append('f1')\n",
    "        testing3.append(f1_score(y_test2, predicted))\n",
    "\n",
    "        #precision\n",
    "        loop3.append(i)\n",
    "        metric3.append('precision')\n",
    "        testing3.append(precision_score(y_test2, predicted))\n",
    "\n",
    "        #recall\n",
    "        loop3.append(i)\n",
    "        metric3.append('recall')\n",
    "        testing3.append(recall_score(y_test2, predicted))\n",
    "\n",
    "        #confusion matrix on test data\n",
    "        confusion_matrix_all3.append(confusion_matrix(y_test2, predicted))\n",
    "\n",
    "    df_score3['loop'] = loop3\n",
    "    df_score3['metric'] = metric3\n",
    "    df_score3['test'] = testing3\n",
    "\n",
    "    display(df_score3)\n",
    "\n",
    "    ## Mean confusion matrix\n",
    "\n",
    "    cm3 = np.mean(confusion_matrix_all3, axis = 0)\n",
    "    total3 = np.sum(cm3)\n",
    "    cm3 = pd.DataFrame(cm3, columns = [0,1] , index = [0,1])\n",
    "    display(cm3)\n",
    "\n",
    "    #percentage confusion matrix\n",
    "    print('percentage:')\n",
    "    display((cm3/total3*100))\n",
    "\n",
    "    # Final specificity\n",
    "\n",
    "    tn = cm3.iloc[0,0]\n",
    "    fp = cm3.iloc[0,1]\n",
    "\n",
    "\n",
    "    specificity_l.append(tn / (tn+fp))\n",
    "    accuracy_l.append(df_score3[df_score3['metric'] == 'accuracy']['test'].mean())\n",
    "    f1_l.append(df_score3[df_score3['metric'] == 'f1']['test'].mean())\n",
    "    precision_l.append(df_score3[df_score3['metric'] == 'precision']['test'].mean())\n",
    "    recall_l.append(df_score3[df_score3['metric'] == 'recall']['test'].mean())\n",
    "    \n",
    "    display(specificity_l)\n",
    "    display(accuracy_l)\n",
    "    display(f1_l)\n",
    "    display(precision_l)\n",
    "    display(recall_l)\n",
    "    \n"
   ]
  },
  {
   "cell_type": "code",
   "execution_count": 112,
   "id": "5c77a9e5",
   "metadata": {},
   "outputs": [
    {
     "data": {
      "text/html": [
       "<div>\n",
       "<style scoped>\n",
       "    .dataframe tbody tr th:only-of-type {\n",
       "        vertical-align: middle;\n",
       "    }\n",
       "\n",
       "    .dataframe tbody tr th {\n",
       "        vertical-align: top;\n",
       "    }\n",
       "\n",
       "    .dataframe thead th {\n",
       "        text-align: right;\n",
       "    }\n",
       "</style>\n",
       "<table border=\"1\" class=\"dataframe\">\n",
       "  <thead>\n",
       "    <tr style=\"text-align: right;\">\n",
       "      <th></th>\n",
       "      <th>threshold</th>\n",
       "      <th>specificity</th>\n",
       "      <th>accuracy</th>\n",
       "      <th>f1</th>\n",
       "      <th>precision</th>\n",
       "      <th>recall</th>\n",
       "    </tr>\n",
       "  </thead>\n",
       "  <tbody>\n",
       "    <tr>\n",
       "      <th>0</th>\n",
       "      <td>0.500000</td>\n",
       "      <td>0.748858</td>\n",
       "      <td>0.799072</td>\n",
       "      <td>0.824909</td>\n",
       "      <td>0.812568</td>\n",
       "      <td>0.837770</td>\n",
       "    </tr>\n",
       "    <tr>\n",
       "      <th>1</th>\n",
       "      <td>0.550000</td>\n",
       "      <td>0.775748</td>\n",
       "      <td>0.793771</td>\n",
       "      <td>0.815650</td>\n",
       "      <td>0.823994</td>\n",
       "      <td>0.807667</td>\n",
       "    </tr>\n",
       "    <tr>\n",
       "      <th>2</th>\n",
       "      <td>0.600000</td>\n",
       "      <td>0.807712</td>\n",
       "      <td>0.786484</td>\n",
       "      <td>0.802920</td>\n",
       "      <td>0.838835</td>\n",
       "      <td>0.770137</td>\n",
       "    </tr>\n",
       "    <tr>\n",
       "      <th>3</th>\n",
       "      <td>0.650000</td>\n",
       "      <td>0.832572</td>\n",
       "      <td>0.770145</td>\n",
       "      <td>0.780082</td>\n",
       "      <td>0.848670</td>\n",
       "      <td>0.722058</td>\n",
       "    </tr>\n",
       "    <tr>\n",
       "      <th>4</th>\n",
       "      <td>0.700000</td>\n",
       "      <td>0.868087</td>\n",
       "      <td>0.749391</td>\n",
       "      <td>0.747771</td>\n",
       "      <td>0.866496</td>\n",
       "      <td>0.657945</td>\n",
       "    </tr>\n",
       "    <tr>\n",
       "      <th>5</th>\n",
       "      <td>0.750000</td>\n",
       "      <td>0.900051</td>\n",
       "      <td>0.712740</td>\n",
       "      <td>0.690832</td>\n",
       "      <td>0.880913</td>\n",
       "      <td>0.568423</td>\n",
       "    </tr>\n",
       "    <tr>\n",
       "      <th>6</th>\n",
       "      <td>0.800000</td>\n",
       "      <td>0.933029</td>\n",
       "      <td>0.658202</td>\n",
       "      <td>0.595735</td>\n",
       "      <td>0.896507</td>\n",
       "      <td>0.446458</td>\n",
       "    </tr>\n",
       "  </tbody>\n",
       "</table>\n",
       "</div>"
      ],
      "text/plain": [
       "   threshold  specificity  accuracy       f1  precision   recall\n",
       "0   0.500000     0.748858  0.799072 0.824909   0.812568 0.837770\n",
       "1   0.550000     0.775748  0.793771 0.815650   0.823994 0.807667\n",
       "2   0.600000     0.807712  0.786484 0.802920   0.838835 0.770137\n",
       "3   0.650000     0.832572  0.770145 0.780082   0.848670 0.722058\n",
       "4   0.700000     0.868087  0.749391 0.747771   0.866496 0.657945\n",
       "5   0.750000     0.900051  0.712740 0.690832   0.880913 0.568423\n",
       "6   0.800000     0.933029  0.658202 0.595735   0.896507 0.446458"
      ]
     },
     "metadata": {},
     "output_type": "display_data"
    },
    {
     "data": {
      "image/png": "[encoded data removed]",
      "text/plain": [
       "<Figure size 1440x1080 with 1 Axes>"
      ]
     },
     "metadata": {
      "needs_background": "light"
     },
     "output_type": "display_data"
    }
   ],
   "source": [
    "# create dataframe to plot\n",
    "\n",
    "df_thresh = pd.DataFrame({\"threshold\": threshold,\n",
    "                         \"specificity\": specificity_l,\n",
    "                         \"accuracy\": accuracy_l,\n",
    "                         \"f1\": f1_l,\n",
    "                         \"precision\": precision_l,\n",
    "                         \"recall\": recall_l})\n",
    "\n",
    "display(df_thresh)\n",
    "\n",
    "# plot\n",
    "\n",
    "sns.lineplot(data=df_thresh, x=\"threshold\", y=\"specificity\", legend = \"brief\", label = \"specificity\", linestyle = \"--\")\n",
    "sns.lineplot(data=df_thresh, x=\"threshold\", y=\"accuracy\", legend = \"brief\", label = \"accuracy\")\n",
    "sns.lineplot(data=df_thresh, x=\"threshold\", y=\"f1\", legend = \"brief\", label = \"f1\")\n",
    "plt.show()\n"
   ]
  },
  {
   "cell_type": "markdown",
   "id": "f1374743",
   "metadata": {},
   "source": [
    "**We want to find a threshold that doesn't compromise our accuracy or f1 completely. From the above graph, we select our threshold as 0.75**"
   ]
  },
  {
   "cell_type": "code",
   "execution_count": 113,
   "id": "b4bf2221",
   "metadata": {},
   "outputs": [
    {
     "data": {
      "text/html": [
       "<div>\n",
       "<style scoped>\n",
       "    .dataframe tbody tr th:only-of-type {\n",
       "        vertical-align: middle;\n",
       "    }\n",
       "\n",
       "    .dataframe tbody tr th {\n",
       "        vertical-align: top;\n",
       "    }\n",
       "\n",
       "    .dataframe thead th {\n",
       "        text-align: right;\n",
       "    }\n",
       "</style>\n",
       "<table border=\"1\" class=\"dataframe\">\n",
       "  <thead>\n",
       "    <tr style=\"text-align: right;\">\n",
       "      <th></th>\n",
       "      <th>loop</th>\n",
       "      <th>metric</th>\n",
       "      <th>test</th>\n",
       "    </tr>\n",
       "  </thead>\n",
       "  <tbody>\n",
       "    <tr>\n",
       "      <th>0</th>\n",
       "      <td>0</td>\n",
       "      <td>accuracy</td>\n",
       "      <td>0.709713</td>\n",
       "    </tr>\n",
       "    <tr>\n",
       "      <th>1</th>\n",
       "      <td>0</td>\n",
       "      <td>f1</td>\n",
       "      <td>0.682750</td>\n",
       "    </tr>\n",
       "    <tr>\n",
       "      <th>2</th>\n",
       "      <td>0</td>\n",
       "      <td>precision</td>\n",
       "      <td>0.892744</td>\n",
       "    </tr>\n",
       "    <tr>\n",
       "      <th>3</th>\n",
       "      <td>0</td>\n",
       "      <td>recall</td>\n",
       "      <td>0.552734</td>\n",
       "    </tr>\n",
       "    <tr>\n",
       "      <th>4</th>\n",
       "      <td>1</td>\n",
       "      <td>accuracy</td>\n",
       "      <td>0.704194</td>\n",
       "    </tr>\n",
       "    <tr>\n",
       "      <th>5</th>\n",
       "      <td>1</td>\n",
       "      <td>f1</td>\n",
       "      <td>0.682464</td>\n",
       "    </tr>\n",
       "    <tr>\n",
       "      <th>6</th>\n",
       "      <td>1</td>\n",
       "      <td>precision</td>\n",
       "      <td>0.867470</td>\n",
       "    </tr>\n",
       "    <tr>\n",
       "      <th>7</th>\n",
       "      <td>1</td>\n",
       "      <td>recall</td>\n",
       "      <td>0.562500</td>\n",
       "    </tr>\n",
       "    <tr>\n",
       "      <th>8</th>\n",
       "      <td>2</td>\n",
       "      <td>accuracy</td>\n",
       "      <td>0.716336</td>\n",
       "    </tr>\n",
       "    <tr>\n",
       "      <th>9</th>\n",
       "      <td>2</td>\n",
       "      <td>f1</td>\n",
       "      <td>0.692216</td>\n",
       "    </tr>\n",
       "    <tr>\n",
       "      <th>10</th>\n",
       "      <td>2</td>\n",
       "      <td>precision</td>\n",
       "      <td>0.894737</td>\n",
       "    </tr>\n",
       "    <tr>\n",
       "      <th>11</th>\n",
       "      <td>2</td>\n",
       "      <td>recall</td>\n",
       "      <td>0.564453</td>\n",
       "    </tr>\n",
       "    <tr>\n",
       "      <th>12</th>\n",
       "      <td>3</td>\n",
       "      <td>accuracy</td>\n",
       "      <td>0.721854</td>\n",
       "    </tr>\n",
       "    <tr>\n",
       "      <th>13</th>\n",
       "      <td>3</td>\n",
       "      <td>f1</td>\n",
       "      <td>0.705607</td>\n",
       "    </tr>\n",
       "    <tr>\n",
       "      <th>14</th>\n",
       "      <td>3</td>\n",
       "      <td>precision</td>\n",
       "      <td>0.875362</td>\n",
       "    </tr>\n",
       "    <tr>\n",
       "      <th>15</th>\n",
       "      <td>3</td>\n",
       "      <td>recall</td>\n",
       "      <td>0.590998</td>\n",
       "    </tr>\n",
       "    <tr>\n",
       "      <th>16</th>\n",
       "      <td>4</td>\n",
       "      <td>accuracy</td>\n",
       "      <td>0.711602</td>\n",
       "    </tr>\n",
       "    <tr>\n",
       "      <th>17</th>\n",
       "      <td>4</td>\n",
       "      <td>f1</td>\n",
       "      <td>0.691124</td>\n",
       "    </tr>\n",
       "    <tr>\n",
       "      <th>18</th>\n",
       "      <td>4</td>\n",
       "      <td>precision</td>\n",
       "      <td>0.874251</td>\n",
       "    </tr>\n",
       "    <tr>\n",
       "      <th>19</th>\n",
       "      <td>4</td>\n",
       "      <td>recall</td>\n",
       "      <td>0.571429</td>\n",
       "    </tr>\n",
       "  </tbody>\n",
       "</table>\n",
       "</div>"
      ],
      "text/plain": [
       "    loop     metric     test\n",
       "0      0   accuracy 0.709713\n",
       "1      0         f1 0.682750\n",
       "2      0  precision 0.892744\n",
       "3      0     recall 0.552734\n",
       "4      1   accuracy 0.704194\n",
       "5      1         f1 0.682464\n",
       "6      1  precision 0.867470\n",
       "7      1     recall 0.562500\n",
       "8      2   accuracy 0.716336\n",
       "9      2         f1 0.692216\n",
       "10     2  precision 0.894737\n",
       "11     2     recall 0.564453\n",
       "12     3   accuracy 0.721854\n",
       "13     3         f1 0.705607\n",
       "14     3  precision 0.875362\n",
       "15     3     recall 0.590998\n",
       "16     4   accuracy 0.711602\n",
       "17     4         f1 0.691124\n",
       "18     4  precision 0.874251\n",
       "19     4     recall 0.571429"
      ]
     },
     "metadata": {},
     "output_type": "display_data"
    },
    {
     "name": "stdout",
     "output_type": "stream",
     "text": [
      "mean accuracy on test dataset: 0.7127398680375154\n",
      "mean f1 score on test dataset: 0.6908324124794551\n",
      "mean precision on test dataset: 0.8809130033930342\n",
      "mean recall on test dataset: 0.5684228228962818\n"
     ]
    },
    {
     "data": {
      "text/html": [
       "<div>\n",
       "<style scoped>\n",
       "    .dataframe tbody tr th:only-of-type {\n",
       "        vertical-align: middle;\n",
       "    }\n",
       "\n",
       "    .dataframe tbody tr th {\n",
       "        vertical-align: top;\n",
       "    }\n",
       "\n",
       "    .dataframe thead th {\n",
       "        text-align: right;\n",
       "    }\n",
       "</style>\n",
       "<table border=\"1\" class=\"dataframe\">\n",
       "  <thead>\n",
       "    <tr style=\"text-align: right;\">\n",
       "      <th></th>\n",
       "      <th>0</th>\n",
       "      <th>1</th>\n",
       "    </tr>\n",
       "  </thead>\n",
       "  <tbody>\n",
       "    <tr>\n",
       "      <th>0</th>\n",
       "      <td>354.800000</td>\n",
       "      <td>39.400000</td>\n",
       "    </tr>\n",
       "    <tr>\n",
       "      <th>1</th>\n",
       "      <td>220.800000</td>\n",
       "      <td>290.800000</td>\n",
       "    </tr>\n",
       "  </tbody>\n",
       "</table>\n",
       "</div>"
      ],
      "text/plain": [
       "           0          1\n",
       "0 354.800000  39.400000\n",
       "1 220.800000 290.800000"
      ]
     },
     "metadata": {},
     "output_type": "display_data"
    },
    {
     "name": "stdout",
     "output_type": "stream",
     "text": [
      "percentage:\n"
     ]
    },
    {
     "data": {
      "text/html": [
       "<div>\n",
       "<style scoped>\n",
       "    .dataframe tbody tr th:only-of-type {\n",
       "        vertical-align: middle;\n",
       "    }\n",
       "\n",
       "    .dataframe tbody tr th {\n",
       "        vertical-align: top;\n",
       "    }\n",
       "\n",
       "    .dataframe thead th {\n",
       "        text-align: right;\n",
       "    }\n",
       "</style>\n",
       "<table border=\"1\" class=\"dataframe\">\n",
       "  <thead>\n",
       "    <tr style=\"text-align: right;\">\n",
       "      <th></th>\n",
       "      <th>0</th>\n",
       "      <th>1</th>\n",
       "    </tr>\n",
       "  </thead>\n",
       "  <tbody>\n",
       "    <tr>\n",
       "      <th>0</th>\n",
       "      <td>39.169795</td>\n",
       "      <td>4.349746</td>\n",
       "    </tr>\n",
       "    <tr>\n",
       "      <th>1</th>\n",
       "      <td>24.376242</td>\n",
       "      <td>32.104217</td>\n",
       "    </tr>\n",
       "  </tbody>\n",
       "</table>\n",
       "</div>"
      ],
      "text/plain": [
       "          0         1\n",
       "0 39.169795  4.349746\n",
       "1 24.376242 32.104217"
      ]
     },
     "metadata": {},
     "output_type": "display_data"
    },
    {
     "name": "stdout",
     "output_type": "stream",
     "text": [
      "Mean specificity of our final random forest classifier is 0.9000507356671741\n"
     ]
    }
   ],
   "source": [
    "#set threshold\n",
    "\n",
    "threshold = 0.75\n",
    "\n",
    "df_score3 = pd.DataFrame(columns = ['loop', 'metric', 'test'])\n",
    "loop3, metric3, testing3, confusion_matrix_all3 = [],[],[], []\n",
    "#For every fold in Kfold cv2\n",
    "#create column predicted based on threshold\n",
    "for (train,test), i in zip(cv2.split(X_select,y_select), range(5)):\n",
    "    \n",
    "    #fitting and getting predicted values using iteration 2 splits\n",
    "    X_train2, X_test2, y_train2, y_test2 = X_select.iloc[train], X_select.iloc[test], y_select.iloc[train], y_select.iloc[test]\n",
    "    rf_second_pipe.fit(X_train2, y_train2)\n",
    "    y_predict_prob2 = rf_second_pipe.predict_proba(X_test2)\n",
    "    predicted = (y_predict_prob2[:,1] >= threshold).astype('int')\n",
    "    \n",
    "    #accuracy\n",
    "    loop3.append(i)\n",
    "    metric3.append('accuracy')\n",
    "    testing3.append(accuracy_score(y_test2, predicted))\n",
    "    \n",
    "    #f1\n",
    "    loop3.append(i)\n",
    "    metric3.append('f1')\n",
    "    testing3.append(f1_score(y_test2, predicted))\n",
    "    \n",
    "    #precision\n",
    "    loop3.append(i)\n",
    "    metric3.append('precision')\n",
    "    testing3.append(precision_score(y_test2, predicted))\n",
    "    \n",
    "    #recall\n",
    "    loop3.append(i)\n",
    "    metric3.append('recall')\n",
    "    testing3.append(recall_score(y_test2, predicted))\n",
    "    \n",
    "    #confusion matrix on test data\n",
    "    confusion_matrix_all3.append(confusion_matrix(y_test2, predicted))\n",
    "\n",
    "df_score3['loop'] = loop3\n",
    "df_score3['metric'] = metric3\n",
    "df_score3['test'] = testing3\n",
    "\n",
    "display(df_score3)\n",
    "\n",
    "\n",
    "\n",
    "print('mean accuracy on test dataset:', df_score3[df_score3['metric'] == 'accuracy']['test'].mean())\n",
    "print('mean f1 score on test dataset:', df_score3[df_score3['metric'] == 'f1']['test'].mean())\n",
    "print('mean precision on test dataset:', df_score3[df_score3['metric'] == 'precision']['test'].mean())\n",
    "print('mean recall on test dataset:', df_score3[df_score3['metric'] == 'recall']['test'].mean())\n",
    "\n",
    "## Mean confusion matrix\n",
    "\n",
    "cm3 = np.mean(confusion_matrix_all3, axis = 0)\n",
    "total3 = np.sum(cm3)\n",
    "cm3 = pd.DataFrame(cm3, columns = [0,1] , index = [0,1])\n",
    "display(cm3)\n",
    "\n",
    "#percentage confusion matrix\n",
    "print('percentage:')\n",
    "display((cm3/total3*100))\n",
    "\n",
    "# Final specificity\n",
    "\n",
    "tn = cm3.iloc[0,0]\n",
    "fp = cm3.iloc[0,1]\n",
    "\n",
    "\n",
    "specificity_rf_third = tn / (tn+fp)\n",
    "\n",
    "print(\"Mean specificity of our final random forest classifier is\", specificity_rf_third)"
   ]
  },
  {
   "cell_type": "code",
   "execution_count": 114,
   "id": "523f0cdf",
   "metadata": {},
   "outputs": [],
   "source": [
    "# Generate final model object\n",
    "rf_second_pipe.fit(X_select, y_select)\n",
    "\n",
    "file_name = 'rf_project.sav'\n",
    "\n",
    "pickle.dump(rf_second_pipe, open(file_name,'wb'))\n",
    "loaded_model = pickle.load(open(file_name,'rb'))"
   ]
  },
  {
   "cell_type": "code",
   "execution_count": 115,
   "id": "a49f6823",
   "metadata": {},
   "outputs": [
    {
     "data": {
      "text/plain": [
       "array([[0.0992619, 0.9007381]])"
      ]
     },
     "execution_count": 115,
     "metadata": {},
     "output_type": "execute_result"
    }
   ],
   "source": [
    "### trial\n",
    "\n",
    "df_predict = pd.DataFrame({\n",
    "    \"age\" : [50],\n",
    "    'gender': ['female'],\n",
    "    'family_history': ['Yes'],\n",
    "    'work_interfere': ['Often'],\n",
    "    'no_employees': ['100-500'],\n",
    "    'ment_health_benefits': ['Yes'],\n",
    "    'employer_option_awareness': ['Yes'],\n",
    "    'wellness_program_include': ['Yes'],\n",
    "    'phy_interview': ['Maybe'],\n",
    "    'neg_conseq_coworkers': ['No'],\n",
    "    \"anonymity\": [\"No\"],\n",
    "    'leave': ['No'],\n",
    "    'coworkers_dis': ['No'],\n",
    "    \"supervisor_disc\": [\"No\"]\n",
    "})\n",
    "\n",
    "loaded_model.predict_proba(df_predict)"
   ]
  },
  {
   "cell_type": "code",
   "execution_count": 116,
   "id": "d3e3c8dd",
   "metadata": {},
   "outputs": [
    {
     "name": "stdout",
     "output_type": "stream",
     "text": [
      "[1.]\n"
     ]
    }
   ],
   "source": [
    "y = np.empty((0, len(df_predict)))\n",
    "\n",
    "p = loaded_model.predict_proba(df_predict)[:,1]\n",
    "\n",
    "for i in range(len(df_predict)):\n",
    "    if p > 0.75:\n",
    "        y = np.append(y, np.array([1]))\n",
    "    else:\n",
    "        y = np.append(y, np.array([0]))\n",
    "    \n",
    "print(y)\n",
    "    "
   ]
  },
  {
   "cell_type": "code",
   "execution_count": null,
   "id": "c094c33c",
   "metadata": {},
   "outputs": [],
   "source": []
  }
 ],
 "metadata": {
  "kernelspec": {
   "display_name": "Python 3",
   "language": "python",
   "name": "python3"
  },
  "language_info": {
   "codemirror_mode": {
    "name": "ipython",
    "version": 3
   },
   "file_extension": ".py",
   "mimetype": "text/x-python",
   "name": "python",
   "nbconvert_exporter": "python",
   "pygments_lexer": "ipython3",
   "version": "3.8.8"
  },
  "toc": {
   "base_numbering": 1,
   "nav_menu": {},
   "number_sections": true,
   "sideBar": true,
   "skip_h1_title": false,
   "title_cell": "Table of Contents",
   "title_sidebar": "Contents",
   "toc_cell": true,
   "toc_position": {},
   "toc_section_display": true,
   "toc_window_display": false
  }
 },
 "nbformat": 4,
 "nbformat_minor": 5
}
